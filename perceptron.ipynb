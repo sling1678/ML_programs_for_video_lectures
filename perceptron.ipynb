{
  "nbformat": 4,
  "nbformat_minor": 0,
  "metadata": {
    "colab": {
      "provenance": [],
      "authorship_tag": "ABX9TyMijVk0DUYSHNbbk4F/2fzu",
      "include_colab_link": true
    },
    "kernelspec": {
      "name": "python3",
      "display_name": "Python 3"
    },
    "language_info": {
      "name": "python"
    }
  },
  "cells": [
    {
      "cell_type": "markdown",
      "metadata": {
        "id": "view-in-github",
        "colab_type": "text"
      },
      "source": [
        "<a href=\"https://colab.research.google.com/github/sling1678/ML_programs_for_video_lectures/blob/main/perceptron.ipynb\" target=\"_parent\"><img src=\"https://colab.research.google.com/assets/colab-badge.svg\" alt=\"Open In Colab\"/></a>"
      ]
    },
    {
      "cell_type": "code",
      "source": [
        "#IMPORTS\n",
        "import sys\n",
        "import numpy as np\n",
        "import matplotlib.pyplot as plt"
      ],
      "metadata": {
        "id": "WHVkCvELJATE"
      },
      "execution_count": 1,
      "outputs": []
    },
    {
      "cell_type": "code",
      "execution_count": 3,
      "metadata": {
        "colab": {
          "base_uri": "https://localhost:8080/",
          "height": 471
        },
        "id": "WVRjEiK4IrYy",
        "outputId": "6bded693-3baa-4b10-b9cd-289b4d4f5162"
      },
      "outputs": [
        {
          "output_type": "stream",
          "name": "stdout",
          "text": [
            "Done by iteration = 12\n",
            "converged = True, coefficients = [10.03688944 -3.94251993 -0.92276853]\n"
          ]
        },
        {
          "output_type": "display_data",
          "data": {
            "text/plain": [
              "<Figure size 640x480 with 1 Axes>"
            ],
            "image/png": "[encoded data removed]"
          },
          "metadata": {}
        }
      ],
      "source": [
        "# PERCEPTRON IN ONE PANEL\n",
        "def initialize_w(sz):\n",
        "    return 0.1 * np.random.random(sz)\n",
        "\n",
        "def pla_update(X,y,w):\n",
        "    \n",
        "    \"\"\"\n",
        "    Helper function to implement w(t+1) = w(t) + y_i * x_i for misclassified data (x_i,y_i)\n",
        "    in one complete episode of all data points in the dataset.\n",
        "    Inputs:\n",
        "    X is Nxp Numpy ndarray and y is Nx1 Numpy array.\n",
        "    y has values in {-1, 1}.\n",
        "    Returns:\n",
        "    w \n",
        "    found_separating_line:bool\n",
        "    \"\"\"\n",
        "    X0_column = np.expand_dims(np.ones(X.shape[0]), axis=1)\n",
        "    Xe = np.concatenate((X0_column, X), axis=1) #OK, introduces x0 column\n",
        "    found_separating_line = True\n",
        "    for idx in range(len(Xe)):\n",
        "        h = np.dot(w, Xe[idx])\n",
        "        if np.sign(h) != y[idx]:\n",
        "            # update w\n",
        "            w = w + y[idx] * Xe[idx]\n",
        "            found_separating_line = False # since updated in this cycle through the data\n",
        "    return w, found_separating_line\n",
        "\n",
        "def pla(X,y, max_iter = 1000):\n",
        "    \"\"\"\n",
        "    Implements perceptron learning algorithm.\n",
        "    X is Nxp Numpy ndarray and y is Nx1 Numpy array.\n",
        "    y has values in {-1, 1}.\n",
        "    \"\"\"\n",
        "    w = initialize_w(X.shape[1] + 1) # plus 1 for the intercept, i.e., coeff o x0\n",
        "    found_separating_line = False\n",
        "    iteration = 0\n",
        "    while iteration < max_iter + 1: # last one is a check\n",
        "        iteration += 1\n",
        "        w, found_separating_line = pla_update(X, y, w) # one pass through all data points\n",
        "        if found_separating_line:\n",
        "            print(f\"Done by iteration = {iteration}\")\n",
        "            break\n",
        "    return w, found_separating_line       \n",
        "\n",
        "def plot_pla_2d(X,y,w, x_cols, savefig_filename=None):\n",
        "\n",
        "    a, b = x_cols\n",
        "    x1 = X[:, a]\n",
        "    x2 = X[:, b]\n",
        "\n",
        "    w0, w1, w2 = w[0], w[a+1], w[b+1]\n",
        "    x3 = -(w1/w2) * x1 - w0/w2 #OK\n",
        "\n",
        "    fig, ax = plt.subplots(1,1)\n",
        "    colors = [\"red\" if a==1 else \"green\" for a in y]\n",
        "    ax.scatter(x1,x2, c=colors, marker=\"o\")\n",
        "    ax.plot(x1,x3, lw=3)\n",
        "    ax.set_xlim((np.min(x1)- 0.5, np.max(x1)+0.5))\n",
        "    ax.set_ylim((np.min(x2)-0.5,np.max(x2)+0.5))\n",
        "    if savefig_filename is not None:\n",
        "        plt.savefig(savefig_filename)\n",
        "    plt.show()\n",
        "\n",
        "def simulate_pla(X,y, max_iter=1000, show_plot=False):\n",
        "\n",
        "    w_for_plots=[]\n",
        "    X0_column = np.expand_dims(np.ones(X.shape[0]), axis=1)\n",
        "    Xe = np.concatenate((X0_column, X), axis=1) #OK\n",
        "    w = initialize_w(Xe.shape[1])\n",
        "    \n",
        "    iteration = 0\n",
        "    while iteration < max_iter + 1: # last one is a check\n",
        "        iteration += 1\n",
        "        w, found_separating_line = pla_update(X, y, w) # one pass through all data points\n",
        "        w_for_plots.append(w)\n",
        "        if found_separating_line:\n",
        "            print(f\"Done by iteration = {iteration}\")\n",
        "            break\n",
        "    if show_plot:\n",
        "        fig, ax = plt.subplots(1,1, figsize=(12, 7))\n",
        "        x1 = X[:,0]\n",
        "        x2 = X[:,1]\n",
        "        \n",
        "        colors = [\"red\" if a==1 else \"green\" for a in y]\n",
        "        ax.scatter(x1,x2, c=colors, marker=\"o\")\n",
        "\n",
        "        for w in w_for_plots:\n",
        "            x3 = -(w[1]/w[2]) * x1 - w[0]/w[2]\n",
        "            ax.plot(x1,x3, lw=2, alpha=0.5 , label=f\"({iteration})\")\n",
        "            ax.text(x1[0], x3[0], f'({iteration})')\n",
        "        ax.set_xlim((0.5,3.5))\n",
        "        ax.set_ylim((0.5,3.5))\n",
        "        plt.legend()\n",
        "        plt.show()\n",
        "\n",
        "    return w, found_separating_line\n",
        "\n",
        "def get_data():\n",
        "    # test data\n",
        "    X = np.array([\n",
        "        [1,1], [2,1], [3,1], [1,2], [2,3], [3,3]\n",
        "    ])\n",
        "    y = np.array([[1],[1],[-1],[1],[-1],[-1]])\n",
        "    return X, y\n",
        "def main(cli=False):\n",
        "    if cli:\n",
        "      #print(sys.argv)\n",
        "      if len(sys.argv) > 1:\n",
        "          max_iter = int(sys.argv[1])\n",
        "      else:\n",
        "          max_iter = 1000\n",
        "    else:\n",
        "      max_iter = 1000\n",
        "  \n",
        "    X, y = get_data()\n",
        "    w, has_converged = pla(X,y, max_iter)\n",
        "    print(f\"converged = {has_converged}, coefficients = {w}\")\n",
        "    if has_converged:\n",
        "        plot_pla_2d(X,y,w, (0,1), \"pla.png\")\n",
        "\n",
        "main()"
      ]
    }
  ]
}