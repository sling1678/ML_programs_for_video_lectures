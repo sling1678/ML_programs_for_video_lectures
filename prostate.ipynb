{
  "nbformat": 4,
  "nbformat_minor": 0,
  "metadata": {
    "colab": {
      "name": "prostate.ipynb",
      "provenance": [],
      "collapsed_sections": [],
      "mount_file_id": "1uyudbFqtSy4SJriERdy63nT5SRLMHUtw",
      "authorship_tag": "ABX9TyM7pi7Z2NRB8M0BD5UXOoKQ",
      "include_colab_link": true
    },
    "kernelspec": {
      "display_name": "Python 3",
      "name": "python3"
    },
    "language_info": {
      "name": "python"
    }
  },
  "cells": [
    {
      "cell_type": "markdown",
      "metadata": {
        "id": "view-in-github",
        "colab_type": "text"
      },
      "source": [
        "<a href=\"https://colab.research.google.com/github/sling1678/ML_programs_for_video_lectures/blob/main/prostate.ipynb\" target=\"_parent\"><img src=\"https://colab.research.google.com/assets/colab-badge.svg\" alt=\"Open In Colab\"/></a>"
      ]
    },
    {
      "cell_type": "markdown",
      "metadata": {
        "id": "504-Df9lUSHG"
      },
      "source": [
        "Prostate data info (Elements of Statistical Learning)\n",
        "\n",
        "Predictors (columns 1--8)\n",
        "\n",
        "lcavol\n",
        "lweight\n",
        "age\n",
        "lbph\n",
        "svi\n",
        "lcp\n",
        "gleason\n",
        "pgg45\n",
        "\n",
        "outcome (column 9)\n",
        "\n",
        "lpsa\n",
        "\n",
        "train/test indicator (column 10)\n",
        "\n",
        "This last column indicates which 67 observations were used as the \n",
        "\"training set\" and which 30 as the test set, as described on page 48\n",
        "in the book.\n",
        "\n",
        "There was an error in these data in the first edition of this\n",
        "book. Subject 32 had a value of 6.1 for lweight, which translates to a\n",
        "449 gm prostate! The correct value is 44.9 gm. We are grateful to\n",
        "Prof. Stephen W. Link for alerting us to this error.\n",
        "\n",
        "The features must first be scaled to have mean zero and  variance 96 (=n)\n",
        "before the analyses in Tables 3.1 and beyond.  That is, if x is the  96 by 8 matrix\n",
        "of features, we compute xp <- scale(x,TRUE,TRUE)"
      ]
    },
    {
      "cell_type": "code",
      "source": [
        "import numpy as np\n",
        "import pandas as pd\n",
        "import matplotlib.pyplot as plt\n",
        "import seaborn as sns\n",
        "import tensorflow as tf\n",
        "\n",
        "pd.set_option(\"display.precision\", 2) # for disply\n",
        "plt.rcParams['figure.figsize'] = (12.0, 9.0)\n"
      ],
      "metadata": {
        "id": "20iSVbhlHysw"
      },
      "execution_count": null,
      "outputs": []
    },
    {
      "cell_type": "code",
      "source": [
        "# Dataframe for this project\n",
        "DATA_URL = \"https://hastie.su.domains/ElemStatLearn/datasets/prostate.data\"\n",
        "df = pd.read_csv(DATA_URL, sep='\\t') \n",
        "\n",
        "TARGET = ['lpsa']\n",
        "ALL_FEATURES = ['lcavol', 'lweight', 'age', 'lbph', 'svi', 'lcp', 'gleason', 'pgg45']\n",
        "TRAINING_SET_SELECTION = ['train']\n",
        "df = df[ALL_FEATURES + TARGET + TRAINING_SET_SELECTION] # this will drop fictitious columns that show up in the downloaded file"
      ],
      "metadata": {
        "id": "40Bh61MxJbyE"
      },
      "execution_count": null,
      "outputs": []
    },
    {
      "cell_type": "code",
      "metadata": {
        "colab": {
          "base_uri": "https://localhost:8080/",
          "height": 206
        },
        "id": "6VYAcn42Dl5L",
        "outputId": "06024d73-f036-4730-fd92-1d62c9b35e28"
      },
      "source": [
        "df.head()"
      ],
      "execution_count": null,
      "outputs": [
        {
          "output_type": "execute_result",
          "data": {
            "text/plain": [
              "   lcavol  lweight  age  lbph  svi   lcp  gleason  pgg45  lpsa train\n",
              "0   -0.58     2.77   50 -1.39    0 -1.39        6      0 -0.43     T\n",
              "1   -0.99     3.32   58 -1.39    0 -1.39        6      0 -0.16     T\n",
              "2   -0.51     2.69   74 -1.39    0 -1.39        7     20 -0.16     T\n",
              "3   -1.20     3.28   58 -1.39    0 -1.39        6      0 -0.16     T\n",
              "4    0.75     3.43   62 -1.39    0 -1.39        6      0  0.37     T"
            ],
            "text/html": [
              "\n",
              "  <div id=\"df-a61a81dc-16d5-4dad-8eda-348b89a406cc\">\n",
              "    <div class=\"colab-df-container\">\n",
              "      <div>\n",
              "<style scoped>\n",
              "    .dataframe tbody tr th:only-of-type {\n",
              "        vertical-align: middle;\n",
              "    }\n",
              "\n",
              "    .dataframe tbody tr th {\n",
              "        vertical-align: top;\n",
              "    }\n",
              "\n",
              "    .dataframe thead th {\n",
              "        text-align: right;\n",
              "    }\n",
              "</style>\n",
              "<table border=\"1\" class=\"dataframe\">\n",
              "  <thead>\n",
              "    <tr style=\"text-align: right;\">\n",
              "      <th></th>\n",
              "      <th>lcavol</th>\n",
              "      <th>lweight</th>\n",
              "      <th>age</th>\n",
              "      <th>lbph</th>\n",
              "      <th>svi</th>\n",
              "      <th>lcp</th>\n",
              "      <th>gleason</th>\n",
              "      <th>pgg45</th>\n",
              "      <th>lpsa</th>\n",
              "      <th>train</th>\n",
              "    </tr>\n",
              "  </thead>\n",
              "  <tbody>\n",
              "    <tr>\n",
              "      <th>0</th>\n",
              "      <td>-0.58</td>\n",
              "      <td>2.77</td>\n",
              "      <td>50</td>\n",
              "      <td>-1.39</td>\n",
              "      <td>0</td>\n",
              "      <td>-1.39</td>\n",
              "      <td>6</td>\n",
              "      <td>0</td>\n",
              "      <td>-0.43</td>\n",
              "      <td>T</td>\n",
              "    </tr>\n",
              "    <tr>\n",
              "      <th>1</th>\n",
              "      <td>-0.99</td>\n",
              "      <td>3.32</td>\n",
              "      <td>58</td>\n",
              "      <td>-1.39</td>\n",
              "      <td>0</td>\n",
              "      <td>-1.39</td>\n",
              "      <td>6</td>\n",
              "      <td>0</td>\n",
              "      <td>-0.16</td>\n",
              "      <td>T</td>\n",
              "    </tr>\n",
              "    <tr>\n",
              "      <th>2</th>\n",
              "      <td>-0.51</td>\n",
              "      <td>2.69</td>\n",
              "      <td>74</td>\n",
              "      <td>-1.39</td>\n",
              "      <td>0</td>\n",
              "      <td>-1.39</td>\n",
              "      <td>7</td>\n",
              "      <td>20</td>\n",
              "      <td>-0.16</td>\n",
              "      <td>T</td>\n",
              "    </tr>\n",
              "    <tr>\n",
              "      <th>3</th>\n",
              "      <td>-1.20</td>\n",
              "      <td>3.28</td>\n",
              "      <td>58</td>\n",
              "      <td>-1.39</td>\n",
              "      <td>0</td>\n",
              "      <td>-1.39</td>\n",
              "      <td>6</td>\n",
              "      <td>0</td>\n",
              "      <td>-0.16</td>\n",
              "      <td>T</td>\n",
              "    </tr>\n",
              "    <tr>\n",
              "      <th>4</th>\n",
              "      <td>0.75</td>\n",
              "      <td>3.43</td>\n",
              "      <td>62</td>\n",
              "      <td>-1.39</td>\n",
              "      <td>0</td>\n",
              "      <td>-1.39</td>\n",
              "      <td>6</td>\n",
              "      <td>0</td>\n",
              "      <td>0.37</td>\n",
              "      <td>T</td>\n",
              "    </tr>\n",
              "  </tbody>\n",
              "</table>\n",
              "</div>\n",
              "      <button class=\"colab-df-convert\" onclick=\"convertToInteractive('df-a61a81dc-16d5-4dad-8eda-348b89a406cc')\"\n",
              "              title=\"Convert this dataframe to an interactive table.\"\n",
              "              style=\"display:none;\">\n",
              "        \n",
              "  <svg xmlns=\"http://www.w3.org/2000/svg\" height=\"24px\"viewBox=\"0 0 24 24\"\n",
              "       width=\"24px\">\n",
              "    <path d=\"M0 0h24v24H0V0z\" fill=\"none\"/>\n",
              "    <path d=\"M18.56 5.44l.94 2.06.94-2.06 2.06-.94-2.06-.94-.94-2.06-.94 2.06-2.06.94zm-11 1L8.5 8.5l.94-2.06 2.06-.94-2.06-.94L8.5 2.5l-.94 2.06-2.06.94zm10 10l.94 2.06.94-2.06 2.06-.94-2.06-.94-.94-2.06-.94 2.06-2.06.94z\"/><path d=\"M17.41 7.96l-1.37-1.37c-.4-.4-.92-.59-1.43-.59-.52 0-1.04.2-1.43.59L10.3 9.45l-7.72 7.72c-.78.78-.78 2.05 0 2.83L4 21.41c.39.39.9.59 1.41.59.51 0 1.02-.2 1.41-.59l7.78-7.78 2.81-2.81c.8-.78.8-2.07 0-2.86zM5.41 20L4 18.59l7.72-7.72 1.47 1.35L5.41 20z\"/>\n",
              "  </svg>\n",
              "      </button>\n",
              "      \n",
              "  <style>\n",
              "    .colab-df-container {\n",
              "      display:flex;\n",
              "      flex-wrap:wrap;\n",
              "      gap: 12px;\n",
              "    }\n",
              "\n",
              "    .colab-df-convert {\n",
              "      background-color: #E8F0FE;\n",
              "      border: none;\n",
              "      border-radius: 50%;\n",
              "      cursor: pointer;\n",
              "      display: none;\n",
              "      fill: #1967D2;\n",
              "      height: 32px;\n",
              "      padding: 0 0 0 0;\n",
              "      width: 32px;\n",
              "    }\n",
              "\n",
              "    .colab-df-convert:hover {\n",
              "      background-color: #E2EBFA;\n",
              "      box-shadow: 0px 1px 2px rgba(60, 64, 67, 0.3), 0px 1px 3px 1px rgba(60, 64, 67, 0.15);\n",
              "      fill: #174EA6;\n",
              "    }\n",
              "\n",
              "    [theme=dark] .colab-df-convert {\n",
              "      background-color: #3B4455;\n",
              "      fill: #D2E3FC;\n",
              "    }\n",
              "\n",
              "    [theme=dark] .colab-df-convert:hover {\n",
              "      background-color: #434B5C;\n",
              "      box-shadow: 0px 1px 3px 1px rgba(0, 0, 0, 0.15);\n",
              "      filter: drop-shadow(0px 1px 2px rgba(0, 0, 0, 0.3));\n",
              "      fill: #FFFFFF;\n",
              "    }\n",
              "  </style>\n",
              "\n",
              "      <script>\n",
              "        const buttonEl =\n",
              "          document.querySelector('#df-a61a81dc-16d5-4dad-8eda-348b89a406cc button.colab-df-convert');\n",
              "        buttonEl.style.display =\n",
              "          google.colab.kernel.accessAllowed ? 'block' : 'none';\n",
              "\n",
              "        async function convertToInteractive(key) {\n",
              "          const element = document.querySelector('#df-a61a81dc-16d5-4dad-8eda-348b89a406cc');\n",
              "          const dataTable =\n",
              "            await google.colab.kernel.invokeFunction('convertToInteractive',\n",
              "                                                     [key], {});\n",
              "          if (!dataTable) return;\n",
              "\n",
              "          const docLinkHtml = 'Like what you see? Visit the ' +\n",
              "            '<a target=\"_blank\" href=https://colab.research.google.com/notebooks/data_table.ipynb>data table notebook</a>'\n",
              "            + ' to learn more about interactive tables.';\n",
              "          element.innerHTML = '';\n",
              "          dataTable['output_type'] = 'display_data';\n",
              "          await google.colab.output.renderOutput(dataTable, element);\n",
              "          const docLink = document.createElement('div');\n",
              "          docLink.innerHTML = docLinkHtml;\n",
              "          element.appendChild(docLink);\n",
              "        }\n",
              "      </script>\n",
              "    </div>\n",
              "  </div>\n",
              "  "
            ]
          },
          "metadata": {},
          "execution_count": 3
        }
      ]
    },
    {
      "cell_type": "code",
      "source": [
        "df.isna().sum()"
      ],
      "metadata": {
        "colab": {
          "base_uri": "https://localhost:8080/"
        },
        "id": "SeyKPcgm0Cit",
        "outputId": "3220b564-a76c-4f2c-c86f-81ed6e4826c9"
      },
      "execution_count": null,
      "outputs": [
        {
          "output_type": "execute_result",
          "data": {
            "text/plain": [
              "lcavol     0\n",
              "lweight    0\n",
              "age        0\n",
              "lbph       0\n",
              "svi        0\n",
              "lcp        0\n",
              "gleason    0\n",
              "pgg45      0\n",
              "lpsa       0\n",
              "train      0\n",
              "dtype: int64"
            ]
          },
          "metadata": {},
          "execution_count": 4
        }
      ]
    },
    {
      "cell_type": "code",
      "metadata": {
        "colab": {
          "base_uri": "https://localhost:8080/"
        },
        "id": "f8ji3h6oUyaU",
        "outputId": "ffc8db6c-61c1-46fd-be1b-cf94be8f60c1"
      },
      "source": [
        "# Remove extra columns in the data \n",
        "def clean_df(df, dropcols=None):\n",
        "  if dropcols is not None:\n",
        "    for col in dropcols:\n",
        "      if col in df.columns:\n",
        "        df.drop(col, axis=1, inplace=True)\n",
        "  return df  \n",
        "\n",
        "def prepare_train_and_test_sets(df):\n",
        "  # special for this dataset; datapoints to be used in training\n",
        "  # are labeled in a separate calumn with letter 'T'\n",
        "  train_col_name, train_value=\"train\",\"T\"\n",
        "  train = df[df[train_col_name]==train_value].copy()\n",
        "  train.drop(columns=[train_col_name], axis=1, inplace=True)\n",
        "  train.reset_index(drop=True, inplace=True)\n",
        "\n",
        "  test = df[df[train_col_name]!=train_value].copy()\n",
        "  test.drop(columns=[train_col_name], axis=1, inplace=True)\n",
        "  test.reset_index(drop=True, inplace=True)\n",
        "  return train, test\n",
        "#-------------------------------------------------------\n",
        "train, test = prepare_train_and_test_sets(df)\n",
        "\n",
        "print(f\"full dataframe:\\n{df.head(3)}\")\n",
        "print(f\"train dataframe:\\n{train.head(3)}\")\n",
        "print(f\"test dataframe:\\n{test.head(3)}\")"
      ],
      "execution_count": null,
      "outputs": [
        {
          "output_type": "stream",
          "name": "stdout",
          "text": [
            "full dataframe:\n",
            "   lcavol  lweight  age  lbph  svi   lcp  gleason  pgg45  lpsa train\n",
            "0   -0.58     2.77   50 -1.39    0 -1.39        6      0 -0.43     T\n",
            "1   -0.99     3.32   58 -1.39    0 -1.39        6      0 -0.16     T\n",
            "2   -0.51     2.69   74 -1.39    0 -1.39        7     20 -0.16     T\n",
            "train dataframe:\n",
            "   lcavol  lweight  age  lbph  svi   lcp  gleason  pgg45  lpsa\n",
            "0   -0.58     2.77   50 -1.39    0 -1.39        6      0 -0.43\n",
            "1   -0.99     3.32   58 -1.39    0 -1.39        6      0 -0.16\n",
            "2   -0.51     2.69   74 -1.39    0 -1.39        7     20 -0.16\n",
            "test dataframe:\n",
            "   lcavol  lweight  age  lbph  svi   lcp  gleason  pgg45  lpsa\n",
            "0    0.74     3.47   64  0.62    0 -1.39        6      0  0.77\n",
            "1   -0.78     3.54   47 -1.39    0 -1.39        6      0  1.05\n",
            "2    0.22     3.24   63 -1.39    0 -1.39        6      0  1.05\n"
          ]
        }
      ]
    },
    {
      "cell_type": "code",
      "metadata": {
        "colab": {
          "base_uri": "https://localhost:8080/"
        },
        "id": "lY8FAPOdEim1",
        "outputId": "d569e7a4-bb37-4b9c-a7af-69889159ac57"
      },
      "source": [
        "# Preprocessing- here only normalizing the train and test datasets based on train\n",
        "def preprocess_params(train, features):\n",
        "  means = train[features].mean()\n",
        "  stds = train[features].std()\n",
        "  return means, stds\n",
        "def preprocess(train, test, features):\n",
        "  means, stds = preprocess_params(train, features)\n",
        "  train[features] = (train[features]-means)/stds\n",
        "  test[features] = (test[features]-means)/stds\n",
        "  return train, test\n",
        "#-------------------------------------------------------\n",
        "train, test = preprocess(train, test, features=ALL_FEATURES)\n",
        "print(f\"Normalized train dataframe:\\n{train.head(3)}\")\n",
        "print(f\"Normalized test dataframe:\\n{test.head(3)}\")"
      ],
      "execution_count": null,
      "outputs": [
        {
          "output_type": "stream",
          "name": "stdout",
          "text": [
            "Normalized train dataframe:\n",
            "   lcavol  lweight   age  lbph   svi   lcp  gleason  pgg45  lpsa\n",
            "0   -1.52    -1.80 -1.97  -1.0 -0.53 -0.84    -1.03  -0.90 -0.43\n",
            "1   -1.86    -0.64 -0.90  -1.0 -0.53 -0.84    -1.03  -0.90 -0.16\n",
            "2   -1.47    -1.96  1.23  -1.0 -0.53 -0.84     0.38  -0.21 -0.16\n",
            "Normalized test dataframe:\n",
            "   lcavol  lweight   age  lbph   svi   lcp  gleason  pgg45  lpsa\n",
            "0   -0.46    -0.32 -0.10  0.37 -0.53 -0.84    -1.03   -0.9  0.77\n",
            "1   -1.68    -0.18 -2.37 -1.00 -0.53 -0.84    -1.03   -0.9  1.05\n",
            "2   -0.88    -0.80 -0.23 -1.00 -0.53 -0.84    -1.03   -0.9  1.05\n"
          ]
        }
      ]
    },
    {
      "cell_type": "code",
      "metadata": {
        "colab": {
          "base_uri": "https://localhost:8080/"
        },
        "id": "sgeeIu9CbVmo",
        "outputId": "42d3bb9c-8b93-48fd-d84e-508ff774479b"
      },
      "source": [
        "# Guessing the mean value of y from train dataset everytime will be the base error expected\n",
        "def mean_square_error(actual, predicted):\n",
        "  return np.mean(np.square(actual-predicted))\n",
        "\n",
        "def trained_base_model(train, target):\n",
        "  return np.mean(train[target])\n",
        "\n",
        "#-------------------------------------------------------\n",
        "base_guess = trained_base_model(train, 'lpsa')\n",
        "base_error_training = mean_square_error(train['lpsa'], base_guess)\n",
        "base_error_testing =  mean_square_error(test['lpsa'], base_guess)\n",
        "print( f\"base_error_training = {base_error_training:0.4f},\\\n",
        "  base_error_testing = {base_error_testing:0.4f}\")"
      ],
      "execution_count": null,
      "outputs": [
        {
          "output_type": "stream",
          "name": "stdout",
          "text": [
            "base_error_training = 1.4370,  base_error_testing = 1.0567\n"
          ]
        }
      ]
    },
    {
      "cell_type": "code",
      "metadata": {
        "id": "gImfDjxhdHEv"
      },
      "source": [
        "# Now we introduce linear model as y = w0 + w1*x1+ w2*x2 + ... + w8*x8\n",
        "def forward_pass(X, b, w):\n",
        "  return b + X.dot(w) #OK\n",
        "\n",
        "# for gradient descent\n",
        "def gradients(X,y,b,w):\n",
        "  num_examples = X.shape[0]\n",
        "  yhat = np.array(forward_pass(X, b, w))\n",
        "  db = np.zeros( (1,1) )\n",
        "  # dw = np.zeros( )\n",
        "  db[0,0] = np.sum(yhat-y)/num_examples \n",
        "  dw = np.sum((yhat - y) * X , axis=0) / num_examples\n",
        "  dw = dw.reshape((X.shape[-1],1))\n",
        "  return db, dw #OK\n",
        "\n",
        "def training_step(X, y, b, w, learning_rate=0.001):\n",
        "  db, dw = gradients(X,y,b,w)\n",
        "  b = b - learning_rate * db\n",
        "  w = w - learning_rate * dw \n",
        "  return b, w\n",
        "\n",
        "def initialize_params(dims_w, dims_b=1):\n",
        "  b = np.random.rand(dims_b, 1)\n",
        "  w = np.random.rand(dims_w,1)\n",
        "  return b, w\n",
        "\n",
        "def evaluate_err(X,y, b,w):\n",
        "  predicted = forward_pass(X, b, w)\n",
        "  err = mean_square_error(y, predicted.reshape(y.shape))\n",
        "  return err\n",
        "\n",
        "def train_model(X, y, epochs, learning_rate=0.001, b=0, w=None):\n",
        "  if w is None:\n",
        "    b, w = initialize_params(X.shape[-1], 1)\n",
        "  err=[]\n",
        "  db, dw = gradients(X,y,b,w)\n",
        "  \n",
        "  model_params_by_epoch=[(b,w)]\n",
        "  for epoch in range(epochs):\n",
        "    b, w = training_step(X, y, b, w, learning_rate=learning_rate)\n",
        "    err.append( evaluate_err(X,y,b,w) )\n",
        "    model_params_by_epoch.append((b.ravel(),w.ravel()))\n",
        "  return model_params_by_epoch, err\n",
        "\n"
      ],
      "execution_count": null,
      "outputs": []
    },
    {
      "cell_type": "code",
      "source": [
        "def run_simulation(train, features, target, test=None, epochs=100, verbose=True, plotting=True):\n",
        "  X = train[features].values\n",
        "  y = train[target].values\n",
        "  # Train\n",
        "  b, w = initialize_params(len(features), 1)\n",
        "  model_params_by_epoch, err = train_model(X, y, epochs=epochs, learning_rate=0.001, b=b, w=w)\n",
        "  final_b = model_params_by_epoch[-1][0]\n",
        "  final_w = model_params_by_epoch[-1][1]\n",
        "  # Evaluate\n",
        "  train_err = evaluate_err(X,y,final_b, final_w)\n",
        "  if test is not None:\n",
        "    X_test = test[features].values\n",
        "    y_test = test[target].values\n",
        "    test_err = evaluate_err(X_test, y_test, final_b, final_w)\n",
        "  # printout\n",
        "  if verbose:\n",
        "    print(f\"Trained model: b = {final_b.ravel()}, w = {final_w.ravel()}\")\n",
        "    if test is not None:\n",
        "      base_guess = trained_base_model(train, 'lpsa')\n",
        "      base_error_training = mean_square_error(train['lpsa'], base_guess)\n",
        "      base_error_testing =  mean_square_error(test['lpsa'], base_guess)\n",
        "      print(f\"train_err = {train_err:0.4f}, test_err = {test_err:0.4f}\")\n",
        "      print( f\"base_error_training = {base_error_training:0.4f},\\\n",
        "        base_error_testing = {base_error_testing:0.4f}\")\n",
        "  if plotting:\n",
        "    # plot\n",
        "    epochs_idx=np.arange(len(err)) + 1\n",
        "    fig, ax = plt.subplots(1,1)\n",
        "    ax.plot(epochs_idx, err)\n",
        "    ax.set_xlabel(\"Epoch\")\n",
        "    ax.set_ylabel(\"Training MSE Error\")\n",
        "    plt.show()\n",
        "  return final_b, final_w\n",
        "\n",
        "features=['lcavol', 'lweight']\n",
        "target=['lpsa']\n",
        "final_b, final_w = run_simulation(train, features, target, test, epochs=10000, verbose=True)\n",
        "print(final_b, final_w)\n"
      ],
      "metadata": {
        "colab": {
          "base_uri": "https://localhost:8080/",
          "height": 348
        },
        "id": "99Ztdx_bK-6A",
        "outputId": "0788b2f2-fb23-4916-a1d5-d29a72066752"
      },
      "execution_count": null,
      "outputs": [
        {
          "output_type": "stream",
          "name": "stdout",
          "text": [
            "Trained model: b = [2.45224395], w = [0.77955597 0.35221332]\n",
            "train_err = 0.5536, test_err = 0.4926\n",
            "base_error_training = 1.4370,        base_error_testing = 1.0567\n"
          ]
        },
        {
          "output_type": "display_data",
          "data": {
            "text/plain": [
              "<Figure size 432x288 with 1 Axes>"
            ],
            "image/png": "[encoded data removed]"
          },
          "metadata": {
            "needs_background": "light"
          }
        },
        {
          "output_type": "stream",
          "name": "stdout",
          "text": [
            "[2.45224395] [0.77955597 0.35221332]\n"
          ]
        }
      ]
    },
    {
      "cell_type": "code",
      "source": [
        "features=['lcavol']\n",
        "target=['lpsa']\n",
        "final_b, final_w = run_simulation(train, features, target, test, epochs=10000, verbose=True)\n",
        "print(final_b, final_w)"
      ],
      "metadata": {
        "colab": {
          "base_uri": "https://localhost:8080/",
          "height": 348
        },
        "id": "Aua9UINzOaCU",
        "outputId": "446c96ac-f0be-46a0-e86c-584e99b710dd"
      },
      "execution_count": null,
      "outputs": [
        {
          "output_type": "stream",
          "name": "stdout",
          "text": [
            "Trained model: b = [2.45224507], w = [0.88549715]\n",
            "train_err = 0.6646, test_err = 0.4797\n",
            "base_error_training = 1.4370,        base_error_testing = 1.0567\n"
          ]
        },
        {
          "output_type": "display_data",
          "data": {
            "text/plain": [
              "<Figure size 432x288 with 1 Axes>"
            ],
            "image/png": "[encoded data removed]"
          },
          "metadata": {
            "needs_background": "light"
          }
        },
        {
          "output_type": "stream",
          "name": "stdout",
          "text": [
            "[2.45224507] [0.88549715]\n"
          ]
        }
      ]
    },
    {
      "cell_type": "code",
      "metadata": {
        "colab": {
          "base_uri": "https://localhost:8080/",
          "height": 265
        },
        "id": "vJkwW30P6-Tz",
        "outputId": "a755ceb3-3c3a-47c3-f7b8-7aa971f72e8d"
      },
      "source": [
        "# Lets plot lpsa vs lcavol using the weight \n",
        "xc = train['lcavol']\n",
        "yc = train['lpsa']\n",
        "fig, ax = plt.subplots(1,1)\n",
        "ax.scatter(xc,yc, marker=\"o\", alpha=0.5, label=\"training data\")\n",
        "ax.plot(xc, final_b[0] +  final_w[0]*xc, '-r', label=\"linear fit\" )\n",
        "plt.legend()\n",
        "plt.show()"
      ],
      "execution_count": null,
      "outputs": [
        {
          "output_type": "display_data",
          "data": {
            "text/plain": [
              "<Figure size 432x288 with 1 Axes>"
            ],
            "image/png": "[encoded data removed]"
          },
          "metadata": {
            "needs_background": "light"
          }
        }
      ]
    },
    {
      "cell_type": "code",
      "metadata": {
        "colab": {
          "base_uri": "https://localhost:8080/"
        },
        "id": "SyYbDorzb434",
        "outputId": "253c4295-88d0-42bc-c4fd-1ec5b6a3f137"
      },
      "source": [
        "import statsmodels.api as sm\n",
        "import statsmodels.formula.api as smf\n",
        "\n",
        "#results = smf.ols('lpsa ~ lcavol + lweight + age + lbph  + svi + lcp + gleason + pgg45', data=train).fit()\n",
        "results = smf.ols('lpsa ~ lcavol', data=train).fit()\n",
        "print(results.summary())"
      ],
      "execution_count": null,
      "outputs": [
        {
          "output_type": "stream",
          "name": "stderr",
          "text": [
            "/usr/local/lib/python3.7/dist-packages/statsmodels/tools/_testing.py:19: FutureWarning: pandas.util.testing is deprecated. Use the functions in the public API at pandas.testing instead.\n",
            "  import pandas.util.testing as tm\n"
          ]
        },
        {
          "output_type": "stream",
          "name": "stdout",
          "text": [
            "                            OLS Regression Results                            \n",
            "==============================================================================\n",
            "Dep. Variable:                   lpsa   R-squared:                       0.538\n",
            "Model:                            OLS   Adj. R-squared:                  0.530\n",
            "Method:                 Least Squares   F-statistic:                     75.55\n",
            "Date:                Thu, 23 Jun 2022   Prob (F-statistic):           1.73e-12\n",
            "Time:                        17:07:42   Log-Likelihood:                -81.382\n",
            "No. Observations:                  67   AIC:                             166.8\n",
            "Df Residuals:                      65   BIC:                             171.2\n",
            "Df Model:                           1                                         \n",
            "Covariance Type:            nonrobust                                         \n",
            "==============================================================================\n",
            "                 coef    std err          t      P>|t|      [0.025      0.975]\n",
            "------------------------------------------------------------------------------\n",
            "Intercept      2.4523      0.101     24.252      0.000       2.250       2.654\n",
            "lcavol         0.8855      0.102      8.692      0.000       0.682       1.089\n",
            "==============================================================================\n",
            "Omnibus:                        0.870   Durbin-Watson:                   1.379\n",
            "Prob(Omnibus):                  0.647   Jarque-Bera (JB):                0.968\n",
            "Skew:                          -0.210   Prob(JB):                        0.616\n",
            "Kurtosis:                       2.587   Cond. No.                         1.01\n",
            "==============================================================================\n",
            "\n",
            "Warnings:\n",
            "[1] Standard Errors assume that the covariance matrix of the errors is correctly specified.\n"
          ]
        }
      ]
    },
    {
      "cell_type": "code",
      "metadata": {
        "colab": {
          "base_uri": "https://localhost:8080/",
          "height": 265
        },
        "id": "hdaW1sx2ctot",
        "outputId": "c373811c-b034-4da1-ea25-07e93663e9e9"
      },
      "source": [
        "# Lets plot lpsa vs lcavol using the weight\n",
        "xc1 = train['lcavol']\n",
        "yc1 = train['lpsa']\n",
        "\n",
        "fig, ax = plt.subplots(1,1)\n",
        "ax.scatter(xc1,yc1, marker=\"o\", alpha=0.5, label=\"training data\")\n",
        "ax.plot(xc1, 2.45+ 0.88*xc1, \"-r\", label=\"ols-fit\" )\n",
        "plt.legend()\n",
        "\n",
        "plt.show()"
      ],
      "execution_count": null,
      "outputs": [
        {
          "output_type": "display_data",
          "data": {
            "text/plain": [
              "<Figure size 432x288 with 1 Axes>"
            ],
            "image/png": "[encoded data removed]"
          },
          "metadata": {
            "needs_background": "light"
          }
        }
      ]
    },
    {
      "cell_type": "markdown",
      "source": [
        "# Now we do these in TensorFlow"
      ],
      "metadata": {
        "id": "21Am8_7jGCjV"
      }
    },
    {
      "cell_type": "markdown",
      "source": [
        "## I. Get Data and Prepare Pandas DataFrames"
      ],
      "metadata": {
        "id": "0jukFralLOL5"
      }
    },
    {
      "cell_type": "code",
      "source": [
        "# Dataframes for this project\n",
        "DATA_URL = \"https://hastie.su.domains/ElemStatLearn/datasets/prostate.data\"\n",
        "df = pd.read_csv(DATA_URL, sep='\\t') \n",
        "\n",
        "TARGET = ['lpsa']\n",
        "NUMERICAL_FEATURES = ['lcavol', 'lweight', 'age', 'lbph', 'svi', 'lcp', 'gleason', 'pgg45']\n",
        "STRING_CATEGORICAL_FEATURES = []\n",
        "INTEGER_CATEGORICAL_FEATURES = []\n",
        "ALL_FEATURES = NUMERICAL_FEATURES + STRING_CATEGORICAL_FEATURES + INTEGER_CATEGORICAL_FEATURES\n",
        "TRAINING_SET_SELECTION = ['train']\n",
        "\n",
        "def prepare_train_and_test_dataframes(df, features):\n",
        "  df = df.copy()\n",
        "  df = df[ALL_FEATURES + TARGET + TRAINING_SET_SELECTION] # this will drop fictitious columns that show up in the downloaded file\n",
        "  train_df = df[df['train']=='T'].copy() # We will need a validation set for hyperparameters - we omit this step\n",
        "  test_df = df[df['train'] != 'T'].copy()\n",
        "  train_df.drop('train',axis=1, inplace=True)\n",
        "  test_df.drop('train',axis=1, inplace=True)\n",
        "  train_df.reset_index(drop=True, inplace=True)\n",
        "  test_df.reset_index(drop=True, inplace=True)\n",
        "\n",
        "  # Separate X and y\n",
        " \n",
        "  features_plus_target=features+TARGET\n",
        "\n",
        "  train_df = train_df[features_plus_target]\n",
        "  test_df = test_df[features_plus_target]\n",
        "  return train_df, test_df \n",
        "\n",
        "train_df, test_df = prepare_train_and_test_dataframes(df, features=['lcavol', 'lweight'])\n",
        "# y_train_df = X_train_df.pop(TARGET[0])\n",
        "# X_train, y_train = X_train_df.values, y_train_df.values\n",
        "\n",
        "# y_test_df = X_test_df.pop(TARGET[0])\n",
        "# X_test, y_test = X_test_df.values, y_test_df.values\n",
        "\n",
        "# # print shapes\n",
        "# print(f\"Training X and y: {X_train.shape}, {y_train.shape}\")\n",
        "# print(f\"Test X and y: {X_test.shape}, {y_test.shape}\")\n"
      ],
      "metadata": {
        "id": "zYUSU7WwQjqz"
      },
      "execution_count": null,
      "outputs": []
    },
    {
      "cell_type": "markdown",
      "source": [
        "##II. Convert DataFrames to Datasets, shuffle and batch"
      ],
      "metadata": {
        "id": "gL94QAETLaOw"
      }
    },
    {
      "cell_type": "code",
      "source": [
        "def convert_df_to_Xyds(df, target, shuffle=True, batch_size=16):\n",
        "  df = df.copy()\n",
        "  y_df = df.pop(target) # now df is X_df only\n",
        "  ds = tf.data.Dataset.from_tensor_slices((dict(df), y_df)) # Keep the column names as keys\n",
        "  if shuffle:\n",
        "    ds = ds.shuffle(buffer_size=len(df))\n",
        "  ds = ds.batch(batch_size)\n",
        "  return ds\n",
        "#-----------------------\n",
        "train_ds = convert_df_to_Xyds(train_df, target=TARGET[0], shuffle=True, batch_size=16)\n",
        "test_ds = convert_df_to_Xyds(test_df, target=TARGET[0], shuffle=True, batch_size=16)\n"
      ],
      "metadata": {
        "id": "0O0_6B7ZLWGL"
      },
      "execution_count": null,
      "outputs": []
    },
    {
      "cell_type": "markdown",
      "source": [
        "##III. Look inside the datasets created"
      ],
      "metadata": {
        "id": "oHT0rHiNQslr"
      }
    },
    {
      "cell_type": "code",
      "source": [
        "if True:\n",
        "  for feature_batch, target_batch in train_ds.take(1):\n",
        "    print(f\"Features are: {list(feature_batch.keys())}\")\n",
        "    print(f\"A batch of lcavol: {feature_batch['lcavol']}\" )\n",
        "    print(f\"A batch of lweight: {feature_batch['lweight']}\")\n",
        "    print(f\"A batch of targets: {target_batch}\")\n",
        "\n",
        "# Another way to look into dataset\n",
        "from tensorflow import feature_column\n",
        "if True:\n",
        "  \n",
        "  one_batch = next(iter(train_ds))[0]\n",
        "  def processing(feature_column):\n",
        "    feature_layer = tf.keras.layers.DenseFeatures(feature_column)\n",
        "    print(f\"one batch of the feature column:\\n{feature_layer(one_batch).numpy()}\")\n",
        "\n",
        "  #------------------\n",
        "  lcavol_column = feature_column.numeric_column('lcavol')\n",
        "  processing(lcavol_column)\n"
      ],
      "metadata": {
        "colab": {
          "base_uri": "https://localhost:8080/"
        },
        "id": "LFglDbGzQ1cs",
        "outputId": "6ce21738-45df-427b-f6a1-39b691c4537e"
      },
      "execution_count": null,
      "outputs": [
        {
          "output_type": "stream",
          "name": "stdout",
          "text": [
            "Features are: ['lcavol', 'lweight']\n",
            "A batch of lcavol: [ 1.99741771  2.05923883  1.20597081  1.44691898  0.3852624   0.97455964\n",
            " -0.40047757  1.77155676  0.51282363  0.00995033  0.18232156  1.45861502\n",
            "  2.07317193  3.47196645  0.22314355  2.7794402 ]\n",
            "A batch of lweight: [3.719651 3.501043 3.442019 3.124565 3.6674   2.865054 3.865979 3.896909\n",
            " 3.633631 3.267666 3.804438 3.836221 3.623007 3.974998 3.244544 3.823192]\n",
            "A batch of targets: [2.8535925 1.6582281 1.3987169 1.7664417 1.7316555 2.7880929 1.8164521\n",
            " 2.3749058 2.6844403 2.0215476 2.008214  2.8875901 2.8820035 5.5829322\n",
            " 1.047319  3.5130369]\n",
            "one batch of the feature column:\n",
            "[[ 1.3083328 ]\n",
            " [-0.40047756]\n",
            " [ 0.00995033]\n",
            " [ 1.22083   ]\n",
            " [ 1.2149128 ]\n",
            " [ 3.4719665 ]\n",
            " [ 2.059239  ]\n",
            " [ 1.4586151 ]\n",
            " [ 0.3852624 ]\n",
            " [ 1.442202  ]\n",
            " [ 0.18232156]\n",
            " [ 2.677591  ]\n",
            " [ 1.2059708 ]\n",
            " [ 1.446919  ]\n",
            " [ 2.0731719 ]\n",
            " [ 1.8389611 ]]\n"
          ]
        }
      ]
    },
    {
      "cell_type": "markdown",
      "source": [
        "## IV. Choose feature columns to use for study"
      ],
      "metadata": {
        "id": "U7DZv1qMRoAN"
      }
    },
    {
      "cell_type": "code",
      "source": [
        ""
      ],
      "metadata": {
        "id": "q69whTK5KlDD"
      },
      "execution_count": null,
      "outputs": []
    },
    {
      "cell_type": "code",
      "source": [
        "# We only have numerical features\n",
        "lcavol = tf.keras.Input(shape=(1,), name=\"lcavol\")\n",
        "lweight = tf.keras.Input(shape=(1,), name=\"lweight\")\n",
        "# We need to normalize them"
      ],
      "metadata": {
        "id": "qjPF7mOiXZ5m"
      },
      "execution_count": null,
      "outputs": []
    },
    {
      "cell_type": "code",
      "source": [
        "def encode_numerical_feature(feature, name, dataset):\n",
        "  \"\"\"\n",
        "  from https://keras.io/examples/structured_data/structured_data_classification_from_scratch/\n",
        "  \"\"\"\n",
        "  # Create a Normalization layer for our feature\n",
        "  normalizer = tf.keras.layers.Normalization()\n",
        "\n",
        "  # Prepare a Dataset that only yields our feature\n",
        "  feature_ds = dataset.map(lambda x, y: x[name])\n",
        "  feature_ds = feature_ds.map(lambda x: tf.expand_dims(x, -1))\n",
        "\n",
        "  # Learn the statistics of the data\n",
        "  normalizer.adapt(feature_ds)\n",
        "\n",
        "  # Normalize the input feature\n",
        "  encoded_feature = normalizer(feature)\n",
        "  return encoded_feature"
      ],
      "metadata": {
        "id": "REcHgA8UVq_8"
      },
      "execution_count": null,
      "outputs": []
    },
    {
      "cell_type": "code",
      "source": [
        "inputs = [lcavol, lweight]\n",
        "# Normalize numerical features and learn their statistics\n",
        "lcavol_encoded = encode_numerical_feature(lcavol, \"lcavol\", train_ds)\n",
        "lweight_encoded = encode_numerical_feature(lweight, \"lweight\", train_ds)\n",
        "# Processing layers\n",
        "output_of_processing_layers = tf.keras.layers.concatenate(\n",
        "  [ lcavol_encoded, lweight_encoded,] )\n"
      ],
      "metadata": {
        "id": "-gdR9K7GYBor"
      },
      "execution_count": null,
      "outputs": []
    },
    {
      "cell_type": "code",
      "source": [
        "output = tf.keras.layers.Dense(1, activation=\"linear\")(output_of_processing_layers)\n",
        "model = tf.keras.Model(inputs, output)\n",
        "model.compile(\"adam\", \"mean_squared_error\", metrics=[\"mean_squared_error\"])"
      ],
      "metadata": {
        "id": "c-RQ_-IJZdk-"
      },
      "execution_count": null,
      "outputs": []
    },
    {
      "cell_type": "code",
      "source": [
        "# `rankdir='LR'` is to make the graph horizontal.\n",
        "tf.keras.utils.plot_model(model, show_shapes=True, rankdir=\"LR\")"
      ],
      "metadata": {
        "colab": {
          "base_uri": "https://localhost:8080/",
          "height": 300
        },
        "id": "0A5AEjcDaIqS",
        "outputId": "115b7565-52c7-4718-fbc7-0ad9ab29e166"
      },
      "execution_count": null,
      "outputs": [
        {
          "output_type": "execute_result",
          "data": {
            "text/plain": [
              "<IPython.core.display.Image object>"
            ],
            "image/png": "[encoded data removed]"
          },
          "metadata": {},
          "execution_count": 21
        }
      ]
    },
    {
      "cell_type": "code",
      "source": [
        "model.summary()"
      ],
      "metadata": {
        "colab": {
          "base_uri": "https://localhost:8080/"
        },
        "id": "CVzrV_v8dTz1",
        "outputId": "c5360eb6-b236-4275-d172-228cce64b73a"
      },
      "execution_count": null,
      "outputs": [
        {
          "output_type": "stream",
          "name": "stdout",
          "text": [
            "Model: \"model\"\n",
            "__________________________________________________________________________________________________\n",
            " Layer (type)                   Output Shape         Param #     Connected to                     \n",
            "==================================================================================================\n",
            " lcavol (InputLayer)            [(None, 1)]          0           []                               \n",
            "                                                                                                  \n",
            " lweight (InputLayer)           [(None, 1)]          0           []                               \n",
            "                                                                                                  \n",
            " normalization (Normalization)  (None, 1)            3           ['lcavol[0][0]']                 \n",
            "                                                                                                  \n",
            " normalization_1 (Normalization  (None, 1)           3           ['lweight[0][0]']                \n",
            " )                                                                                                \n",
            "                                                                                                  \n",
            " concatenate (Concatenate)      (None, 2)            0           ['normalization[0][0]',          \n",
            "                                                                  'normalization_1[0][0]']        \n",
            "                                                                                                  \n",
            " dense (Dense)                  (None, 1)            3           ['concatenate[0][0]']            \n",
            "                                                                                                  \n",
            "==================================================================================================\n",
            "Total params: 9\n",
            "Trainable params: 3\n",
            "Non-trainable params: 6\n",
            "__________________________________________________________________________________________________\n"
          ]
        }
      ]
    },
    {
      "cell_type": "code",
      "source": [
        "model.fit(train_ds, epochs=5000, verbose=0)\n",
        "print(model.trainable_weights)\n",
        "def plot_loss(history):\n",
        "  plt.plot(history.history['loss'], label='loss')\n",
        "  #plt.plot(history.history['val_loss'], label='val_loss')\n",
        "  plt.xlabel('Epoch')\n",
        "  plt.ylabel('Error')\n",
        "  plt.legend()\n",
        "  plt.grid(True)\n",
        "plot_loss(model.history)"
      ],
      "metadata": {
        "colab": {
          "base_uri": "https://localhost:8080/",
          "height": 331
        },
        "id": "KllXiArxbAVp",
        "outputId": "c379684d-a256-49bd-9eb3-cfcd2e12f06c"
      },
      "execution_count": null,
      "outputs": [
        {
          "output_type": "stream",
          "name": "stdout",
          "text": [
            "[<tf.Variable 'dense/kernel:0' shape=(2, 1) dtype=float32, numpy=\n",
            "array([[0.7364425 ],\n",
            "       [0.08946275]], dtype=float32)>, <tf.Variable 'dense/bias:0' shape=(1,) dtype=float32, numpy=array([2.5374954], dtype=float32)>]\n"
          ]
        },
        {
          "output_type": "display_data",
          "data": {
            "text/plain": [
              "<Figure size 432x288 with 1 Axes>"
            ],
            "image/png": "[encoded data removed]"
          },
          "metadata": {
            "needs_background": "light"
          }
        }
      ]
    },
    {
      "cell_type": "code",
      "source": [
        ""
      ],
      "metadata": {
        "id": "3Zfd6wo9e15g"
      },
      "execution_count": null,
      "outputs": []
    },
    {
      "cell_type": "markdown",
      "source": [
        "# Learning on All Features provided in data\n",
        "## Use feature_layer = tf.keras.layers.DenseFeatures(feature_columns)\n",
        "### where feature_columns is a list of feature columns constructed using feature_column() from tensorflow import feature_column"
      ],
      "metadata": {
        "id": "bl5mfMvifrJU"
      }
    },
    {
      "cell_type": "code",
      "source": [
        ""
      ],
      "metadata": {
        "colab": {
          "base_uri": "https://localhost:8080/"
        },
        "id": "6DVeWdh3gFQ3",
        "outputId": "32d1de14-633e-4632-b8a8-16454653301f"
      },
      "execution_count": null,
      "outputs": [
        {
          "output_type": "execute_result",
          "data": {
            "text/plain": [
              "Index(['lcavol', 'lweight', 'lpsa'], dtype='object')"
            ]
          },
          "metadata": {},
          "execution_count": 28
        }
      ]
    },
    {
      "cell_type": "code",
      "metadata": {
        "colab": {
          "base_uri": "https://localhost:8080/"
        },
        "id": "oBLrTrq5NNP-",
        "outputId": "5903c72e-acaa-4c5b-cfe6-30362801087e"
      },
      "source": [
        "# Complete model using all eight features of train_features_ds.\n",
        "\n",
        "#The Normalization layer will build preprocessing in the model itself\n",
        "normalizer = preprocessing.Normalization()\n",
        "normalizer.adapt(np.array(train_features_ds)) # this will get the data it needs from training data\n",
        "linear_regression_model = tf.keras.Sequential([\n",
        "    normalizer,             # normalization layer\n",
        "    layers.Dense(units=1)   # linear regression layer - one neuron only\n",
        "])\n",
        "linear_regression_model.summary()"
      ],
      "execution_count": null,
      "outputs": [
        {
          "output_type": "stream",
          "text": [
            "Model: \"sequential_1\"\n",
            "_________________________________________________________________\n",
            "Layer (type)                 Output Shape              Param #   \n",
            "=================================================================\n",
            "normalization_2 (Normalizati (None, 8)                 17        \n",
            "_________________________________________________________________\n",
            "dense_1 (Dense)              (None, 1)                 9         \n",
            "=================================================================\n",
            "Total params: 26\n",
            "Trainable params: 9\n",
            "Non-trainable params: 17\n",
            "_________________________________________________________________\n"
          ],
          "name": "stdout"
        }
      ]
    },
    {
      "cell_type": "code",
      "metadata": {
        "colab": {
          "base_uri": "https://localhost:8080/"
        },
        "id": "nrRNfqfrO-Dy",
        "outputId": "7f924e8b-c39d-48ec-8b98-d6d2a43ee2ee"
      },
      "source": [
        "#Consts\n",
        "EPOCHS=100\n",
        "VALIDATION_FRAC=0.2\n",
        "LEARNING_RATE=0.01\n",
        "OPTIMIZER=tf.optimizers.Adam(learning_rate=LEARNING_RATE)\n",
        "LOSS='mean_absolute_error'\n",
        "# compile and fit\n",
        "linear_regression_model.compile(\n",
        "    optimizer=OPTIMIZER,\n",
        "    loss=LOSS)\n",
        "%time\n",
        "history = linear_regression_model.fit(\n",
        "    train_features_ds, train_labels_ds,\n",
        "    epochs=EPOCHS,\n",
        "    # suppress logging\n",
        "    verbose=0,\n",
        "    # Calculate validation results on 20% of the training data\n",
        "    validation_split = VALIDATION_FRAC)\n",
        "hist = pd.DataFrame(history.history)\n",
        "hist['epoch'] = history.epoch\n",
        "print(hist.tail())\n",
        "print(f\"Bias = {linear_regression_model.layers[1].bias.numpy()}\")\n",
        "print(f\"Weights = {linear_regression_model.layers[1].kernel.numpy()}\")"
      ],
      "execution_count": null,
      "outputs": [
        {
          "output_type": "stream",
          "text": [
            "CPU times: user 4 µs, sys: 1 µs, total: 5 µs\n",
            "Wall time: 8.82 µs\n",
            "    loss  val_loss  epoch\n",
            "95  0.69      2.86     95\n",
            "96  0.68      2.83     96\n",
            "97  0.68      2.80     97\n",
            "98  0.67      2.77     98\n",
            "99  0.67      2.74     99\n",
            "Bias = [1.5466807]\n",
            "Weights = [[ 0.40165478]\n",
            " [ 0.21239051]\n",
            " [ 0.02613369]\n",
            " [ 0.4010769 ]\n",
            " [-0.79943436]\n",
            " [ 0.07687116]\n",
            " [ 0.20784199]\n",
            " [ 0.02269111]]\n"
          ],
          "name": "stdout"
        }
      ]
    },
    {
      "cell_type": "code",
      "metadata": {
        "colab": {
          "base_uri": "https://localhost:8080/",
          "height": 279
        },
        "id": "tjFhiICwPj69",
        "outputId": "4606a5f2-6c19-4679-be14-a1d20fe4d6f7"
      },
      "source": [
        "def plot_model(x, y):\n",
        "  plt.scatter(x, y, label='Data')\n",
        "  plt.plot(x, linear_regression_model.layers[1].bias.numpy()[0] + \n",
        "           linear_regression_model.layers[1].kernel.numpy()[0,0]*x, color='g', label='Predictions')\n",
        "  plt.xlabel('LCAVOL')\n",
        "  plt.ylabel('LPSA')\n",
        "  plt.legend()\n",
        "plot_model(train_features_ds['lcavol'], train_labels_ds)"
      ],
      "execution_count": null,
      "outputs": [
        {
          "output_type": "display_data",
          "data": {
            "image/png": "[encoded data removed]",
            "text/plain": [
              "<Figure size 432x288 with 1 Axes>"
            ]
          },
          "metadata": {
            "tags": [],
            "needs_background": "light"
          }
        }
      ]
    }
  ]
}