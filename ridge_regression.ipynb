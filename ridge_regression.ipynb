{
  "nbformat": 4,
  "nbformat_minor": 0,
  "metadata": {
    "colab": {
      "name": "ridge_regression.ipynb",
      "provenance": [],
      "collapsed_sections": [],
      "authorship_tag": "ABX9TyOqVfy+qjysqD5INNZPOFJv",
      "include_colab_link": true
    },
    "kernelspec": {
      "name": "python3",
      "display_name": "Python 3"
    },
    "language_info": {
      "name": "python"
    }
  },
  "cells": [
    {
      "cell_type": "markdown",
      "metadata": {
        "id": "view-in-github",
        "colab_type": "text"
      },
      "source": [
        "<a href=\"https://colab.research.google.com/github/sling1678/ML_programs_for_video_lectures/blob/main/ridge_regression.ipynb\" target=\"_parent\"><img src=\"https://colab.research.google.com/assets/colab-badge.svg\" alt=\"Open In Colab\"/></a>"
      ]
    },
    {
      "cell_type": "markdown",
      "source": [
        "# Ridge Regression for Reducing Effective Dimension of Predictors\n",
        "\n",
        "$\\textbf{Theory:}$\n",
        "\n",
        "Linear regression optimizes the following loss function.\n",
        "\n",
        "$L(w_0, \\vec{w}) = \\sum_{i=1}^{N} \\left( y_i - w_0 -\\sum_{j=1}^{p} x_{ij} w_{j} \\right)^2 . (1)$\n",
        "\n",
        "In ridge regression, we restrict the sum of square of weights of coefficients of $x$ to be less than a threshold, say $t$.  Thus, we find minimum of (1) subject to (2).\n",
        "\n",
        "$ \\sum_{j=1}^{p} w_i^2 \\le t. (2) $\n",
        "\n",
        "In terms of Lagrange multipliers we have the following loss function to minimize.\n",
        "\n",
        "$L_{ridge}(w_0, \\vec{w}, \\lambda) = \\sum_{i=1}^{N} \\left( y_i - w_0 -\\sum_{j=1}^{p} x_{ij} w_{j} \\right)^2  + \\lambda \\left( \\sum_{j=1}^{p} w_i^2 - t\\right). (3)$\n",
        "\n",
        "The optimal values of $\\left(w_0, \\vec w, \\lambda\\right)$ are obtained by solving\n",
        "\n",
        "$ ∇_{w_0} L_{ridge} = 0,  \\nabla_{\\vec w} L_{ridge} = 0,  \\nabla_\\lambda L_{ridge} = 0.  (4)$\n",
        "\n",
        "$\\textbf{Preprocessing - Estimate of $w_0$ and Centering the Input}$\n",
        "\n",
        "First notice that $ ∇_{w_0} L_{ridge} = 0$ gives $ \\sum_{i=1}^{N} (y_i - w_0) = 0$, which immediately gives\n",
        "$$ w_0 = \\frac{1}{N} \\sum_{i}y_i. $$\n",
        "That is $w_0$ is just mean of $y_i$ values for all examples in the data. Thus, we can take care of this in the data by centering $y$. Let\n",
        "\n",
        "$$y^{c} = y - w_0. (4) $$\n",
        "\n",
        "Now we center $x_{ij}$ for each component $j=1,\\cdots p$. Let mean of each property in $x$ be\n",
        "\n",
        "$$\\mu_{j} = \\sum_{a=1}^{N} x_{a,j} \\ \\ \\ \\ (\\dagger)$$\n",
        "\n",
        "Now, we subtract to center all predictors.\n",
        "\n",
        "$$ x^{c}_{i,j} = x_{i,j} - \\mu_{j}.  (5)$$\n",
        "\n",
        "\n",
        "\n",
        "$\\textbf{Matrix Notation}$\n",
        " \n",
        "Let us write all $N$ cases of $x'$ in an $N \\times (p)$ matrix $X$.\n",
        "\n",
        "$$ x^{c}_{11}\\ x^{c}_{12}\\ \\cdots \\ x^{c}_{1p} $$\n",
        "$$ x^{c}_{21}\\ x^{c}_{22}\\ \\cdots \\ x^{c}_{2p} $$\n",
        "$$\\cdots \\ \\ \\ \\ \\ \\ \\ (*)$$\n",
        "$$ x^{c}_{21}\\ x^{c}_{N2}\\ \\cdots \\ x^{c}_{Np} $$\n",
        "\n",
        "Let us write $p$-dimensional vector of coefficients as $W$  and $N$ cases of $y^{c}_i$ as an $N$-dimensional vector $Y$. Then, we can write (3) in a matrix form \n",
        "\n",
        "$L_{ridge}(W, \\lambda) =  (Y-XW)^T(Y-XW) + \\lambda \\left(W^TW - t\\right). (3)$\n",
        "\n",
        "Then, just $\\nabla_{W} L_{ridge} = 0$ gives\n",
        "\n",
        "$ Y^T X - W^T X^T X + \\lambda W^T = 0. $\n",
        "\n",
        "Therefore\n",
        "$ W^T \\left(X^TX - \\lambda \\right) = Y^T X $. Taking transpose, we get\n",
        "\n",
        "$$  \\left(X^TX - \\lambda \\right) W = X^T Y $$\n",
        "\n",
        "Since $X^TX$ is a $(p+1)\\times(p+1)$-dimensional vector, we multiply scalar $\\lambda$ by an identity matrix $I$ of this same dimension when subtracting. \n",
        "\n",
        "$ \\left(X^TX - \\lambda I \\right) W = X^T Y.$\n",
        "\n",
        "Inverting this\n",
        "\n",
        "$$ W = \\left(X^TX - \\lambda I \\right)^{-1}X^T Y. (6)$$\n",
        "\n",
        "Recall that $w_0$ is\n",
        "\n",
        "$$w_0 = \\frac{1}{N}\\sum_{i=1}^{N} y_i, (7) $$\n",
        "\n",
        "where $y_i$'s are the original $y$ values while $Y$ are centered $y$ values. Also, recall that $X$ in (6) are centered as given by (5). \n",
        "\n",
        "$\\textbf{Prediction:}$ The prediction on a new example $x=(x_1, x_2, ... x_p)$ will be done by\n",
        "\n",
        "$\\textbf{Step 1.}$ First center this $x$ by $x^{c}_j = x_j - \\mu_j$, where $\\mu_j$ was computed in Eq. $(\\dagger)$ using the training data.\n",
        "\n",
        "$\\textbf{Step 2.}$ Then, we predict \n",
        "$$ y_{pred} = w_0 + W^T x^c.$$\n",
        "\n",
        "\n",
        "## Save Time by Using RidgeRegression() in sklearn\n",
        "\n",
        "class sklearn.linear_model.Ridge(alpha=1.0, *, fit_intercept=True, normalize='deprecated', copy_X=True, max_iter=None, tol=0.001, solver='auto', positive=False, random_state=None)\n",
        "\n",
        "(1) alpha here is our $\\lambda$ Constant that multiplies the L2 term, controlling regularization strength. alpha must be a non-negative float i.e. in [0, inf).\n",
        "\n",
        "(2) solver is the most important parameter after auto to specify. This decides how to solve the minimization problem. \n",
        "\n",
        "solver:{‘auto’, ‘svd’, ‘cholesky’, ‘lsqr’, ‘sparse_cg’, ‘sag’, ‘saga’, ‘lbfgs’}, default=’auto’\n",
        "Solver to use in the computational routines:\n",
        "\n",
        "‘auto’ chooses the solver automatically based on the type of data.\n",
        "\n",
        "‘svd’ uses a Singular Value Decomposition of X to compute the Ridge coefficients. It is the most stable solver, in particular more stable for singular matrices than ‘cholesky’ at the cost of being slower.\n",
        "\n",
        "$\\textbf{SVD}:$\n",
        "\n",
        "When you do SVD of the centered $X$ matrix, given in Eq. (*) you would get $X = U D V^T$, where $U$ is $N\\times p$ matrix, $D$ is $p\\times p$ and $V$ is also $p\\times p$. Columns of $U$ span the column space of $X$ and are orthonormal. Columns of $V$ span the row space of $X$ and are also orthonormal. The diagonal entries are positive semidefinite and ordered $d_1 \\ge d_2 \\ge \\cdots \\ge d_p\\ge 0$. They are the singular values of $X$. SVD is also important in Principal Component Analysis for dimensional reduction.\n",
        "\n",
        "\n",
        "‘cholesky’ uses the standard scipy.linalg.solve function to obtain a closed-form solution.\n",
        "\n",
        "‘sparse_cg’ uses the conjugate gradient solver as found in scipy.sparse.linalg.cg. As an iterative algorithm, this solver is more appropriate than ‘cholesky’ for large-scale data (possibility to set tol and max_iter).\n",
        "\n",
        "‘lsqr’ uses the dedicated regularized least-squares routine scipy.sparse.linalg.lsqr. It is the fastest and uses an iterative procedure.\n",
        "\n",
        "‘sag’ uses a Stochastic Average Gradient descent, and ‘saga’ uses its improved, unbiased version named SAGA. Both methods also use an iterative procedure, and are often faster than other solvers when both n_samples and n_features are large. Note that ‘sag’ and ‘saga’ fast convergence is only guaranteed on features with approximately the same scale. You can preprocess the data with a scaler from sklearn.preprocessing.\n",
        "\n",
        "‘lbfgs’ uses L-BFGS-B algorithm implemented in scipy.optimize.minimize. It can be used only when positive is True.\n",
        "\n",
        "\n",
        "$\\textbf{Other Penalty Term Functions: Lasso}$\n",
        "\n",
        "Instead ofg Eq (2), if the penlaty term is on the sum of abosolute values of the coefficients, the result tends to do better in the situations with outliers in the data. \n",
        "\n",
        "$$ \\sum_{i=1}^{p} |w_i| \\le t. \\ \\ \\ \\  (2')$$\n",
        "\n",
        "This is also available in \n",
        "\n",
        "lass sklearn.linear_model.Lasso(alpha=1.0, *, fit_intercept=True, normalize='deprecated', precompute=False, copy_X=True, max_iter=1000, tol=0.0001, warm_start=False, positive=False, random_state=None, selection='cyclic')\n"
      ],
      "metadata": {
        "id": "pPi34iRtHbOj"
      }
    },
    {
      "cell_type": "markdown",
      "source": [
        "We will use the prostate cancer data referred to in the Elements of Statistical Learning (ESL). The data has eight-dimensional predictor\n",
        "\n",
        "x_1 = log of cancer volume (lcavol); NUMERICAL\n",
        "\n",
        "x_2 = log of prostate weight (lweight); NUMERICAL\n",
        "\n",
        "x_3 = age (age); NUMERICAL\n",
        "\n",
        "x_4 = log of amount of benign prostatic hyperplasia (lbph); NUMERICAL\n",
        "\n",
        "x_5 = seminal vesicle invasion (svi); INTEGER_CATEGORICAL\n",
        "\n",
        "x_6 = log of capsular penetration (lcp); NUMERICAL\n",
        "\n",
        "x_7 = Gleason score (gleason); INTEGER_CATEGORICAL\n",
        "\n",
        "x_8 = percent of Gleason scores 4 or 5 (pgg45). NUMERICAL"
      ],
      "metadata": {
        "id": "SQHJEarefPVQ"
      }
    },
    {
      "cell_type": "code",
      "execution_count": 1,
      "metadata": {
        "id": "NppMj9EXHZjq"
      },
      "outputs": [],
      "source": [
        "#IMPORTS\n",
        "import sys # for sys.stdout.write()\n",
        "import numpy as np\n",
        "import pandas as pd\n",
        "import matplotlib.pyplot as plt\n",
        "import collections\n",
        "from tqdm import tqdm\n",
        "\n",
        "from sklearn import linear_model # This will save time\n",
        "from sklearn.metrics import mean_squared_error\n",
        "from sklearn.metrics import make_scorer # to convert metrics into scoring function\n",
        "\n",
        "from sklearn.model_selection import train_test_split # this in case we work with full data and need to set aside test data\n",
        "from sklearn.model_selection import KFold\n",
        "from sklearn.model_selection import cross_val_score\n",
        "from sklearn.model_selection import cross_validate"
      ]
    },
    {
      "cell_type": "code",
      "source": [
        "# Debugging mode?\n",
        "DEBUGGING = False\n",
        "# Other Globals\n",
        "NUM_FOLDS = 5 # These will be used to do Cross validation to obtain best value of lambda\n",
        "NUM_CV_TRIALS = 20 # for std error in averages of each cv splits\n",
        "LAMBDAS = [1000, 500, 250, 125, 64, 32, 16, 8, 4, 1] # Ridge Parameter values to try"
      ],
      "metadata": {
        "id": "pM_XRv3VfamL"
      },
      "execution_count": 2,
      "outputs": []
    },
    {
      "cell_type": "markdown",
      "source": [
        "#Get Data"
      ],
      "metadata": {
        "id": "WRqNpupAfuDF"
      }
    },
    {
      "cell_type": "code",
      "source": [
        "# Dataframe for this project\n",
        "DATA_URL = \"https://hastie.su.domains/ElemStatLearn/datasets/prostate.data\"\n",
        "df = pd.read_csv(DATA_URL, sep='\\t') \n",
        "\n",
        "TARGET = ['lpsa']\n",
        "ALL_FEATURES = ['lcavol', 'lweight', 'age', 'lbph', 'svi', 'lcp', 'gleason', 'pgg45']\n",
        "TRAINING_SET_SELECTION = ['train']\n",
        "df = df[ALL_FEATURES + TARGET + TRAINING_SET_SELECTION] # drops fictitious columns\n",
        "if DEBUGGING:\n",
        "  print(df.head(3))# check"
      ],
      "metadata": {
        "id": "aRs2eNqRfeLw"
      },
      "execution_count": 3,
      "outputs": []
    },
    {
      "cell_type": "code",
      "source": [
        "# Remove extra columns in the data \n",
        "def clean_df(df, dropcols=None):\n",
        "  if dropcols is not None:\n",
        "    for col in dropcols:\n",
        "      if col in df.columns:\n",
        "        df.drop(col, axis=1, inplace=True)\n",
        "  return df  \n",
        "\n",
        "def prepare_train_and_test_sets(df):\n",
        "  # special for this dataset; datapoints to be used in training\n",
        "  # are labeled in a separate calumn with letter 'T'\n",
        "  train_col_name, train_value=\"train\",\"T\"\n",
        "  train = df[df[train_col_name]==train_value].copy()\n",
        "  train.drop(columns=[train_col_name], axis=1, inplace=True)\n",
        "  train.reset_index(drop=True, inplace=True)\n",
        "\n",
        "  test = df[df[train_col_name]!=train_value].copy()\n",
        "  test.drop(columns=[train_col_name], axis=1, inplace=True)\n",
        "  test.reset_index(drop=True, inplace=True)\n",
        "  return train, test\n",
        "#-------------------------------------------------------\n",
        "train, test = prepare_train_and_test_sets(df)\n",
        "\n",
        "if DEBUGGING:\n",
        "  print(f\"full dataframe shape:{df.shape}\")\n",
        "  print(f\"train dataframe shape:{train.shape}\")\n",
        "  print(f\"test dataframe shape:{test.shape}\")\n",
        "  print(f\"train dataframe first two rows:\\n{train.head(2)}\")"
      ],
      "metadata": {
        "id": "bIOEvUlqgFg4"
      },
      "execution_count": 4,
      "outputs": []
    },
    {
      "cell_type": "code",
      "source": [
        "# Preprocessing- here only normalizing the train and test datasets based on train\n",
        "def preprocess_params(train, features):\n",
        "  means = train[features].mean()\n",
        "  stds = train[features].std()\n",
        "  return means, stds\n",
        "def preprocess(train, test, features):\n",
        "  means, stds = preprocess_params(train, features)\n",
        "  train[features] = (train[features]-means)/stds\n",
        "  test[features] = (test[features]-means)/stds\n",
        "  return train, test\n",
        "#-------------------------------------------------------\n",
        "train, test = preprocess(train, test, features=ALL_FEATURES)\n",
        "if DEBUGGING:\n",
        "  print(train.describe()) # check that mean and std are properly normalized"
      ],
      "metadata": {
        "id": "sszqsEJJgJz4"
      },
      "execution_count": 5,
      "outputs": []
    },
    {
      "cell_type": "code",
      "source": [
        "from IPython.core.pylabtools import figsize\n",
        "def print_list(L, name=\"\", num_digits_for_rounding=2):\n",
        "  print(name+\":\")\n",
        "  sys.stdout.write(\"[\\n\")\n",
        "  for i,value in enumerate(L):\n",
        "    sys.stdout.write(str(np.round(value, num_digits_for_rounding))+\", \")\n",
        "    if (i+1)%10 == 0:\n",
        "      sys.stdout.write(\"\\n\")\n",
        "  sys.stdout.write(\"]\\n\") \n",
        "\n",
        "def fit_and_evaluate_linear_model_cv(train, target, features=None, alpha=1,\n",
        "  num_folds=10, num_cv_trials=1, verbose=0):\n",
        "  \"\"\"\n",
        "  alpha is the Lasso lambda. It must be positive real number.\n",
        "  \"\"\"\n",
        "  results = dict() # collection of outputs\n",
        "  train = train.copy()\n",
        "  y = train[target]\n",
        "  X = train.drop(target, axis=1)\n",
        "  if features is not None: # if features is given, then restrict X to them.\n",
        "    X = X[features]  \n",
        "  features = X.columns\n",
        "  RSS_cv_trials=[]\n",
        "  for i in range(num_cv_trials):\n",
        "    cv = KFold(n_splits=num_folds, random_state=None, shuffle=True) # each time get new split\n",
        "    RSS_list=[]\n",
        "    for train_index, val_index in cv.split(X):\n",
        "      model = linear_model.Ridge(alpha, solver=\"svd\", fit_intercept = True)\n",
        "      X_train, y_train = X.iloc[train_index,:],  y.iloc[train_index,:]\n",
        "      X_val, y_val = X.iloc[val_index, :], y.iloc[val_index, :]\n",
        "      model.fit(X_train, y_train)\n",
        "      RSS = mean_squared_error(y_val, model.predict(X_val)) * len(X_val)\n",
        "      RSS_list.append(RSS)\n",
        "    RSS_average_this_cv = np.mean(np.array(RSS_list))\n",
        "    RSS_cv_trials.append(RSS_average_this_cv)\n",
        "\n",
        "  RSS_average = np.mean(np.array(RSS_cv_trials))\n",
        "  RSS_stderr = np.std(np.array(RSS_cv_trials))/np.sqrt(NUM_CV_TRIALS)\n",
        "\n",
        "  results[\"RSS\"] = (RSS_average, RSS_stderr)\n",
        "  results[\"model\"] = (model, features, target)\n",
        "  if verbose !=0:\n",
        "    #print_list(RSS_cv_trials, \"RSS in different cv trials\", 3)\n",
        "    print(f\"RSS = {RSS_average:0.3f} \" + u\"\\u00B1\" + f\" {RSS_stderr:0.3f}\")\n",
        "    print(f\"Features are: {features}\")\n",
        "    print(f\"Intercept = {model.intercept_[0]:0.3f}\")\n",
        "    print_list(model.coef_[0], \"Coefficients of X\", 3)\n",
        "\n",
        "  return results\n",
        "\n",
        "if DEBUGGING:\n",
        "  \n",
        "  y_datas = collections.defaultdict(list)\n",
        "  alphas = [1000, 500, 250, 125, 64, 32, 16, 8, 4, 1]\n",
        "  for a in tqdm(alphas):\n",
        "    results = fit_and_evaluate_linear_model_cv(train, target=TARGET, features=None, \n",
        "      alpha = a, num_folds=NUM_FOLDS, num_cv_trials=NUM_CV_TRIALS, verbose=0) #OK\n",
        "    model, features, _ = results[\"model\"]\n",
        "    for i, feat in enumerate(features):\n",
        "      y_datas[feat].append(model.coef_[0][i])\n",
        "  \n",
        "  x = [1/a if a!=0 else 1.0 for a in alphas ]\n",
        "  fig, ax = plt.subplots(1,1, figsize=(10,6))\n",
        "  ax.set_xlim(left=0, right=1.2)\n",
        "  for feature,y_vals in y_datas.items():\n",
        "    ax.plot(x,y_vals, \"o-\", label=feature)\n",
        "    ax.text(x[-1] + 0.01, y_vals[-1], feature )\n",
        "  ax.set_xlabel(\"1/$\\lambda$\")\n",
        "  ax.set_ylabel(\"$w_{j}$\")\n",
        "  ax.set_title(\"$w$ versus inverse of $\\lambda$ in Ridge regression\")\n",
        "  #plt.legend()\n",
        "  plt.show()\n",
        "    "
      ],
      "metadata": {
        "id": "hMd4ITANgLvf"
      },
      "execution_count": 6,
      "outputs": []
    },
    {
      "cell_type": "code",
      "source": [
        "def run_experiment(train, target, features=None, alphas=[1,], \n",
        "                   num_folds=5, num_cv_trials=20, verbose=0):\n",
        "  data = collections.defaultdict(list)\n",
        "  for alpha in tqdm(alphas):\n",
        "    results = fit_and_evaluate_linear_model_cv(train, target, features, \n",
        "      alpha, num_folds, num_cv_trials, verbose) #OK\n",
        "    model, features, _ = results[\"model\"]\n",
        "    for i, feature in enumerate(features):\n",
        "      data[feature].append(model.coef_[0][i])\n",
        "  return data \n",
        "\n",
        "if DEBUGGING:\n",
        "  alphas = [2, 1]\n",
        "  data = run_experiment(train, target=TARGET, features=None, alphas=alphas, \n",
        "                    num_folds=NUM_FOLDS, num_cv_trials=NUM_CV_TRIALS, verbose=0)\n"
      ],
      "metadata": {
        "id": "-FjOLT8LrTyN"
      },
      "execution_count": 7,
      "outputs": []
    },
    {
      "cell_type": "code",
      "source": [
        "def plot_ridge_coeffs(alphas, data):\n",
        "  x = [1/a if a!=0 else 1.0 for a in alphas ]\n",
        "  fig, ax = plt.subplots(1,1, figsize=(10,6))\n",
        "  ax.set_xlim(left=0, right=1.2)\n",
        "  for feature,y in data.items():\n",
        "    ax.plot(x,y, \"o-\", label=feature)\n",
        "    ax.text(x[-1] + 0.01, y[-1], feature )\n",
        "  ax.set_xlabel(\"1/$\\lambda$\")\n",
        "  ax.set_ylabel(\"$w_{j}$\")\n",
        "  ax.set_title(\"$w$ versus inverse of $\\lambda$ in Ridge regression\")\n",
        "  #plt.legend()\n",
        "  plt.show()\n",
        "\n",
        "if DEBUGGING:\n",
        "  alphas = [2, 1]\n",
        "else:\n",
        "  alphas = LAMBDAS\n",
        "  data = run_experiment(train, target=TARGET, features=None, alphas=alphas, \n",
        "                    num_folds=NUM_FOLDS, num_cv_trials=NUM_CV_TRIALS, verbose=0)\n",
        "\n",
        "  plot_ridge_coeffs(alphas, data)"
      ],
      "metadata": {
        "colab": {
          "base_uri": "https://localhost:8080/",
          "height": 426
        },
        "id": "bA7Ddcgak_c-",
        "outputId": "56c96b45-cde1-4406-f373-f25f1c1771c8"
      },
      "execution_count": 8,
      "outputs": [
        {
          "output_type": "stream",
          "name": "stderr",
          "text": [
            "100%|██████████| 10/10 [00:11<00:00,  1.14s/it]\n"
          ]
        },
        {
          "output_type": "display_data",
          "data": {
            "text/plain": [
              "<Figure size 720x432 with 1 Axes>"
            ],
            "image/png": "[encoded data removed]"
          },
          "metadata": {
            "needs_background": "light"
          }
        }
      ]
    }
  ]
}