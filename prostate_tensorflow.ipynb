{
  "nbformat": 4,
  "nbformat_minor": 0,
  "metadata": {
    "colab": {
      "name": "prostate_tensorflow.ipynb",
      "provenance": [],
      "collapsed_sections": [],
      "authorship_tag": "ABX9TyOxwNhJfVZMaabqU+t3/qCB",
      "include_colab_link": true
    },
    "kernelspec": {
      "name": "python3",
      "display_name": "Python 3"
    },
    "language_info": {
      "name": "python"
    }
  },
  "cells": [
    {
      "cell_type": "markdown",
      "metadata": {
        "id": "view-in-github",
        "colab_type": "text"
      },
      "source": [
        "<a href=\"https://colab.research.google.com/github/sling1678/ML_programs_for_video_lectures/blob/main/prostate_tensorflow.ipynb\" target=\"_parent\"><img src=\"https://colab.research.google.com/assets/colab-badge.svg\" alt=\"Open In Colab\"/></a>"
      ]
    },
    {
      "cell_type": "markdown",
      "source": [
        "# Problem\n",
        "Stamey et al (1989), \"Prostate specific antigen (PSA) in the diagnosis and treatment of adenocarcinoma of the prostate II radical prostatectomy treated patients\", Journal of Urology, vol 16, 1076-1083. A copy of Abstract here, https://pubmed.ncbi.nlm.nih.gov/2468795/. \n",
        "\n",
        "The statistical learning problem is to predict y = (log of PSA) from 8 other variables.\n",
        "\n",
        "x_1 = log of cancer volume (lcavol); NUMERICAL\n",
        "\n",
        "x_2 = log of prostate weight (lweight); NUMERICAL\n",
        "\n",
        "x_3 = age (age); NUMERICAL\n",
        "\n",
        "x_4 = log of amount of benign prostatic hyperplasia (lbph); NUMERICAL\n",
        "\n",
        "x_5 = seminal vesicle invasion (svi); INTEGER_CATEGORICAL\n",
        "\n",
        "x_6 = log of capsular penetration (lcp); NUMERICAL\n",
        "\n",
        "x_7 = Gleason score (gleason); INTEGER_CATEGORICAL\n",
        "\n",
        "x_8 = percent of Gleason scores 4 or 5 (pgg45). NUMERICAL"
      ],
      "metadata": {
        "id": "g26D8iYLovYG"
      }
    },
    {
      "cell_type": "code",
      "source": [
        "#IMPORTS\n",
        "import os # for environment\n",
        "import numpy as np\n",
        "import random\n",
        "import tensorflow as tf\n",
        "import pandas as pd\n",
        "import matplotlib.pyplot as plt\n",
        "\n",
        "import sklearn.model_selection  # we might use train_test_split to create validation set for hyperparameter(s)\n",
        "\n",
        "#-----------------"
      ],
      "metadata": {
        "id": "-jO0TMF5t0ps"
      },
      "execution_count": 1,
      "outputs": []
    },
    {
      "cell_type": "code",
      "source": [
        "# GLOBALS\n",
        "BATCH_SIZE=16\n",
        "EPOCHS=2000\n",
        "TRIALS=30\n",
        "EXPERIMENTING = False # Make it False for final"
      ],
      "metadata": {
        "id": "2KgPDpSUQOpt"
      },
      "execution_count": 2,
      "outputs": []
    },
    {
      "cell_type": "code",
      "source": [
        "#-------------- Seed random behavior to get consistent results\n",
        "def set_seeds(seed):\n",
        "  os.environ['PYTHONHASHSEED'] = str(seed)\n",
        "  random.seed(seed)\n",
        "  tf.random.set_seed(seed)\n",
        "  np.random.seed(seed)\n",
        "    \n",
        "def set_global_determinism(seed):\n",
        "  \n",
        "  random_state =  sklearn.utils.check_random_state(seed)\n",
        "  set_seeds(seed=seed)\n",
        "\n",
        "  os.environ['TF_DETERMINISTIC_OPS'] = '1'\n",
        "  os.environ['TF_CUDNN_DETERMINISTIC'] = '1'\n",
        "    \n",
        "  tf.config.threading.set_inter_op_parallelism_threads(1)\n",
        "  tf.config.threading.set_intra_op_parallelism_threads(1)\n",
        "  return random_state\n",
        "\n",
        "# Call the above function with seed value \n",
        "\n",
        "if EXPERIMENTING:\n",
        "  random_state = set_global_determinism(seed=43) # for sklearn\n",
        "else:\n",
        "  seed = np.random.randint(3, 333333333)\n",
        "  random_state = set_global_determinism(seed)"
      ],
      "metadata": {
        "id": "GNOfD7liQROM"
      },
      "execution_count": 3,
      "outputs": []
    },
    {
      "cell_type": "code",
      "source": [
        "# Dataframes for this project\n",
        "DATA_URL = \"https://hastie.su.domains/ElemStatLearn/datasets/prostate.data\"\n",
        "\n",
        "TARGET = 'lpsa'\n",
        "TRAINING_SET_SELECTOR = ['train']\n",
        "NUMERICAL_FEATURES = ['lcavol', 'lweight', 'age', 'lbph',  'lcp',  'pgg45']\n",
        "STRING_CATEGORICAL_FEATURES = []\n",
        "INTEGER_CATEGORICAL_FEATURES = ['svi','gleason',]\n",
        "FEATURES = NUMERICAL_FEATURES + STRING_CATEGORICAL_FEATURES + INTEGER_CATEGORICAL_FEATURES\n",
        "\n",
        "#-------------------GET DATAFRAME\n",
        "df = pd.read_csv(DATA_URL, sep='\\t')\n",
        "#-------------------CHECK IT\n",
        "df.head(3)"
      ],
      "metadata": {
        "colab": {
          "base_uri": "https://localhost:8080/",
          "height": 143
        },
        "id": "cWPztjVwuHOu",
        "outputId": "cef8f118-070c-4f51-98fd-2469cf51ee4b"
      },
      "execution_count": 4,
      "outputs": [
        {
          "output_type": "execute_result",
          "data": {
            "text/plain": [
              "   Unnamed: 0    lcavol   lweight  age      lbph  svi       lcp  gleason  \\\n",
              "0           1 -0.579818  2.769459   50 -1.386294    0 -1.386294        6   \n",
              "1           2 -0.994252  3.319626   58 -1.386294    0 -1.386294        6   \n",
              "2           3 -0.510826  2.691243   74 -1.386294    0 -1.386294        7   \n",
              "\n",
              "   pgg45      lpsa train  \n",
              "0      0 -0.430783     T  \n",
              "1      0 -0.162519     T  \n",
              "2     20 -0.162519     T  "
            ],
            "text/html": [
              "\n",
              "  <div id=\"df-bdfa3276-991c-4d69-bb8f-33ac4509eb88\">\n",
              "    <div class=\"colab-df-container\">\n",
              "      <div>\n",
              "<style scoped>\n",
              "    .dataframe tbody tr th:only-of-type {\n",
              "        vertical-align: middle;\n",
              "    }\n",
              "\n",
              "    .dataframe tbody tr th {\n",
              "        vertical-align: top;\n",
              "    }\n",
              "\n",
              "    .dataframe thead th {\n",
              "        text-align: right;\n",
              "    }\n",
              "</style>\n",
              "<table border=\"1\" class=\"dataframe\">\n",
              "  <thead>\n",
              "    <tr style=\"text-align: right;\">\n",
              "      <th></th>\n",
              "      <th>Unnamed: 0</th>\n",
              "      <th>lcavol</th>\n",
              "      <th>lweight</th>\n",
              "      <th>age</th>\n",
              "      <th>lbph</th>\n",
              "      <th>svi</th>\n",
              "      <th>lcp</th>\n",
              "      <th>gleason</th>\n",
              "      <th>pgg45</th>\n",
              "      <th>lpsa</th>\n",
              "      <th>train</th>\n",
              "    </tr>\n",
              "  </thead>\n",
              "  <tbody>\n",
              "    <tr>\n",
              "      <th>0</th>\n",
              "      <td>1</td>\n",
              "      <td>-0.579818</td>\n",
              "      <td>2.769459</td>\n",
              "      <td>50</td>\n",
              "      <td>-1.386294</td>\n",
              "      <td>0</td>\n",
              "      <td>-1.386294</td>\n",
              "      <td>6</td>\n",
              "      <td>0</td>\n",
              "      <td>-0.430783</td>\n",
              "      <td>T</td>\n",
              "    </tr>\n",
              "    <tr>\n",
              "      <th>1</th>\n",
              "      <td>2</td>\n",
              "      <td>-0.994252</td>\n",
              "      <td>3.319626</td>\n",
              "      <td>58</td>\n",
              "      <td>-1.386294</td>\n",
              "      <td>0</td>\n",
              "      <td>-1.386294</td>\n",
              "      <td>6</td>\n",
              "      <td>0</td>\n",
              "      <td>-0.162519</td>\n",
              "      <td>T</td>\n",
              "    </tr>\n",
              "    <tr>\n",
              "      <th>2</th>\n",
              "      <td>3</td>\n",
              "      <td>-0.510826</td>\n",
              "      <td>2.691243</td>\n",
              "      <td>74</td>\n",
              "      <td>-1.386294</td>\n",
              "      <td>0</td>\n",
              "      <td>-1.386294</td>\n",
              "      <td>7</td>\n",
              "      <td>20</td>\n",
              "      <td>-0.162519</td>\n",
              "      <td>T</td>\n",
              "    </tr>\n",
              "  </tbody>\n",
              "</table>\n",
              "</div>\n",
              "      <button class=\"colab-df-convert\" onclick=\"convertToInteractive('df-bdfa3276-991c-4d69-bb8f-33ac4509eb88')\"\n",
              "              title=\"Convert this dataframe to an interactive table.\"\n",
              "              style=\"display:none;\">\n",
              "        \n",
              "  <svg xmlns=\"http://www.w3.org/2000/svg\" height=\"24px\"viewBox=\"0 0 24 24\"\n",
              "       width=\"24px\">\n",
              "    <path d=\"M0 0h24v24H0V0z\" fill=\"none\"/>\n",
              "    <path d=\"M18.56 5.44l.94 2.06.94-2.06 2.06-.94-2.06-.94-.94-2.06-.94 2.06-2.06.94zm-11 1L8.5 8.5l.94-2.06 2.06-.94-2.06-.94L8.5 2.5l-.94 2.06-2.06.94zm10 10l.94 2.06.94-2.06 2.06-.94-2.06-.94-.94-2.06-.94 2.06-2.06.94z\"/><path d=\"M17.41 7.96l-1.37-1.37c-.4-.4-.92-.59-1.43-.59-.52 0-1.04.2-1.43.59L10.3 9.45l-7.72 7.72c-.78.78-.78 2.05 0 2.83L4 21.41c.39.39.9.59 1.41.59.51 0 1.02-.2 1.41-.59l7.78-7.78 2.81-2.81c.8-.78.8-2.07 0-2.86zM5.41 20L4 18.59l7.72-7.72 1.47 1.35L5.41 20z\"/>\n",
              "  </svg>\n",
              "      </button>\n",
              "      \n",
              "  <style>\n",
              "    .colab-df-container {\n",
              "      display:flex;\n",
              "      flex-wrap:wrap;\n",
              "      gap: 12px;\n",
              "    }\n",
              "\n",
              "    .colab-df-convert {\n",
              "      background-color: #E8F0FE;\n",
              "      border: none;\n",
              "      border-radius: 50%;\n",
              "      cursor: pointer;\n",
              "      display: none;\n",
              "      fill: #1967D2;\n",
              "      height: 32px;\n",
              "      padding: 0 0 0 0;\n",
              "      width: 32px;\n",
              "    }\n",
              "\n",
              "    .colab-df-convert:hover {\n",
              "      background-color: #E2EBFA;\n",
              "      box-shadow: 0px 1px 2px rgba(60, 64, 67, 0.3), 0px 1px 3px 1px rgba(60, 64, 67, 0.15);\n",
              "      fill: #174EA6;\n",
              "    }\n",
              "\n",
              "    [theme=dark] .colab-df-convert {\n",
              "      background-color: #3B4455;\n",
              "      fill: #D2E3FC;\n",
              "    }\n",
              "\n",
              "    [theme=dark] .colab-df-convert:hover {\n",
              "      background-color: #434B5C;\n",
              "      box-shadow: 0px 1px 3px 1px rgba(0, 0, 0, 0.15);\n",
              "      filter: drop-shadow(0px 1px 2px rgba(0, 0, 0, 0.3));\n",
              "      fill: #FFFFFF;\n",
              "    }\n",
              "  </style>\n",
              "\n",
              "      <script>\n",
              "        const buttonEl =\n",
              "          document.querySelector('#df-bdfa3276-991c-4d69-bb8f-33ac4509eb88 button.colab-df-convert');\n",
              "        buttonEl.style.display =\n",
              "          google.colab.kernel.accessAllowed ? 'block' : 'none';\n",
              "\n",
              "        async function convertToInteractive(key) {\n",
              "          const element = document.querySelector('#df-bdfa3276-991c-4d69-bb8f-33ac4509eb88');\n",
              "          const dataTable =\n",
              "            await google.colab.kernel.invokeFunction('convertToInteractive',\n",
              "                                                     [key], {});\n",
              "          if (!dataTable) return;\n",
              "\n",
              "          const docLinkHtml = 'Like what you see? Visit the ' +\n",
              "            '<a target=\"_blank\" href=https://colab.research.google.com/notebooks/data_table.ipynb>data table notebook</a>'\n",
              "            + ' to learn more about interactive tables.';\n",
              "          element.innerHTML = '';\n",
              "          dataTable['output_type'] = 'display_data';\n",
              "          await google.colab.output.renderOutput(dataTable, element);\n",
              "          const docLink = document.createElement('div');\n",
              "          docLink.innerHTML = docLinkHtml;\n",
              "          element.appendChild(docLink);\n",
              "        }\n",
              "      </script>\n",
              "    </div>\n",
              "  </div>\n",
              "  "
            ]
          },
          "metadata": {},
          "execution_count": 4
        }
      ]
    },
    {
      "cell_type": "markdown",
      "source": [
        "I. Get Data and Prepare Pandas DataFrames"
      ],
      "metadata": {
        "id": "MNCe3HG-tvFN"
      }
    },
    {
      "cell_type": "code",
      "execution_count": 5,
      "metadata": {
        "colab": {
          "base_uri": "https://localhost:8080/"
        },
        "id": "tyMNaYrMtgY7",
        "outputId": "02d0156c-6462-42e6-80e2-470161ee17ae"
      },
      "outputs": [
        {
          "output_type": "stream",
          "name": "stdout",
          "text": [
            "Shapes: train (53, 9), test (30, 9), validation (14, 9)\n",
            "first three rows of training data are:\n",
            "     lcavol   lweight  age      lbph  svi       lcp  gleason  pgg45      lpsa\n",
            "0  1.477049  2.998229   67 -1.386294    0 -1.386294        7      5  1.348073\n",
            "1  1.781709  3.451574   63  0.438255    0  1.178655        7     60  1.713798\n",
            "2  1.562346  3.709907   60  1.695616    0  0.810930        7     30  3.587677\n",
            "Shapes: train (53, 9), test (30, 9), validation (14, 9)\n",
            "first three rows of training data are:\n",
            "     lcavol   lweight  age      lbph  svi       lcp  gleason  pgg45      lpsa\n",
            "0  0.285179  4.090169   65  1.962908    0 -0.798508        6      0  1.924249\n",
            "1  0.463734  3.764682   49  1.423108    0 -1.386294        6      0  2.794228\n",
            "2  2.010895  4.433789   72  2.122262    0  0.500775        7     60  3.392829\n"
          ]
        }
      ],
      "source": [
        "def prepare_Xy_dataframes(df, features, target, training_set_selector=None, test_frac=0.2, val_frac=0.2, verbose=0):\n",
        "  df = df.copy()\n",
        "  if training_set_selector is not None:\n",
        "    df = df[features + [target] + training_set_selector] # this will drop fictitious columns that show up in the downloaded file\n",
        "    train_df = df[df['train']=='T'].copy() # We will need a validation set for hyperparameters - we omit this step\n",
        "    test_df = df[df['train'] != 'T'].copy()\n",
        "    train_df.drop('train',axis=1, inplace=True)\n",
        "    test_df.drop('train',axis=1, inplace=True)\n",
        "  else:\n",
        "    print(features)\n",
        "    columns = features + [target]\n",
        "    print(columns)\n",
        "    df = df[columns]\n",
        "    train_df, test_df = sklearn.model_selection.train_test_split(df, test_size=test_frac, random_state=random_state)\n",
        "  \n",
        "  train_df, val_df = sklearn.model_selection.train_test_split(train_df, test_size=val_frac)\n",
        "  train_df.reset_index(drop=True, inplace=True)\n",
        "  test_df.reset_index(drop=True, inplace=True)\n",
        "  val_df.reset_index(drop=True, inplace=True)\n",
        "  \n",
        "  if verbose >= 1:\n",
        "    print(f\"Shapes: train {train_df.shape}, test {test_df.shape}, validation {val_df.shape}\")\n",
        "  if verbose > 1:\n",
        "    print(f\"first three rows of training data are:\\n{train_df.head(3)}\")\n",
        "\n",
        "  return train_df, test_df, val_df\n",
        "\n",
        "#----------------------   Check if randomness is absent; \n",
        "train_df, test_df, val_df = prepare_Xy_dataframes(df, features=FEATURES, target=TARGET, \n",
        "  training_set_selector=TRAINING_SET_SELECTOR, test_frac=0.2, verbose=2)\n",
        "train_df, test_df, val_df = prepare_Xy_dataframes(df, features=FEATURES, target=TARGET, \n",
        "  training_set_selector=TRAINING_SET_SELECTOR, test_frac=0.2, verbose=2)"
      ]
    },
    {
      "cell_type": "code",
      "source": [
        "def print_a_batch(dataset):\n",
        "  for feature_batch, target_batch in dataset.take(1):\n",
        "    print(f\"Features are: {list(feature_batch.keys())}\")\n",
        "    print(f\"A batch of lcavol: {feature_batch['lcavol']}\" )\n",
        "    print(f\"A batch of lweight: {feature_batch['lweight']}\")\n",
        "    print(f\"A batch of targets: {target_batch}\")  \n",
        "\n",
        "def convert_df_to_Xyds(df, target, shuffle=True, batch_size=16, verbose=0):\n",
        "  df = df.copy()\n",
        "  y_df = df.pop(target) # now df is X_df only\n",
        "  ds = tf.data.Dataset.from_tensor_slices((dict(df), y_df)) # Keep the column names as keys\n",
        "  if shuffle:\n",
        "    ds = ds.shuffle(buffer_size=len(df))\n",
        "  ds = ds.batch(batch_size)\n",
        "  if verbose!=0:\n",
        "    print_a_batch(ds)\n",
        "  return ds\n",
        "\n",
        "#---------------------------\n",
        "if EXPERIMENTING:\n",
        "  train_shuffle=False\n",
        "else:\n",
        "  train_shuffle=True\n",
        "print(\"Training Data:\")\n",
        "train_dataset = convert_df_to_Xyds(train_df, target=TARGET, shuffle=train_shuffle, batch_size=BATCH_SIZE, verbose=1)\n",
        "test_dataset = convert_df_to_Xyds(test_df, target=TARGET, shuffle=False, batch_size=BATCH_SIZE, verbose=0)\n",
        "val_dataset = convert_df_to_Xyds(val_df, target=TARGET, shuffle=train_shuffle, batch_size=BATCH_SIZE, verbose=1)\n",
        "#------------"
      ],
      "metadata": {
        "colab": {
          "base_uri": "https://localhost:8080/"
        },
        "id": "GwBAMBuW8LBV",
        "outputId": "1ab8783c-90ed-48dd-d914-56738949c222"
      },
      "execution_count": 6,
      "outputs": [
        {
          "output_type": "stream",
          "name": "stdout",
          "text": [
            "Training Data:\n",
            "Features are: ['lcavol', 'lweight', 'age', 'lbph', 'svi', 'lcp', 'gleason', 'pgg45']\n",
            "A batch of lcavol: [ 2.72785283  0.18232156  1.4861397   1.6639261   0.62057649  2.99922616\n",
            " -1.34707365  0.46373402 -0.41551544  1.5623463  -0.51082562  1.46787435\n",
            "  2.77570885 -0.99425227  2.010895    2.40964417]\n",
            "A batch of lweight: [3.995445 3.825375 3.409496 3.392829 3.141995 3.849083 3.598681 3.764682\n",
            " 3.516013 3.69511  2.691243 3.070376 3.524889 3.319626 4.433789 3.37588 ]\n",
            "A batch of targets: [ 2.5687881  1.5993876  2.5217206  2.5533438  2.2975726  3.2752562\n",
            "  1.2669476  2.7942279  1.4701758  3.993603  -0.1625189  3.5160131\n",
            "  2.8535925 -0.1625189  3.3928291  1.8946169]\n",
            "Features are: ['lcavol', 'lweight', 'age', 'lbph', 'svi', 'lcp', 'gleason', 'pgg45']\n",
            "A batch of lcavol: [-1.2039728  -0.01005034  2.80759383  0.75141609  3.30284926 -0.54472718\n",
            "  2.6483002   1.42310833  1.0612565   3.14113048  2.02419307  1.66013103\n",
            "  0.45742485  1.2669476 ]\n",
            "A batch of lweight: [3.282789 3.216874 4.718052 3.432373 3.51898  3.37588  3.582129 3.657131\n",
            " 3.851211 3.263849 3.731699 4.234831 2.374906 4.280132]\n",
            "A batch of targets: [-0.1625189  2.0476928  3.9843437  0.3715636  3.6309855  1.6956156\n",
            "  3.4578927  2.1575593  2.8124102  3.3375474  3.6800909  2.677591\n",
            "  2.1916535  2.7180005]\n"
          ]
        }
      ]
    },
    {
      "cell_type": "markdown",
      "source": [
        "## Prepare the Input Layer\n",
        " "
      ],
      "metadata": {
        "id": "3KIsB0W7DuIR"
      }
    },
    {
      "cell_type": "code",
      "source": [
        "def encode_numerical_feature(feature, name, dataset):\n",
        "  \"\"\"\n",
        "  from https://keras.io/examples/structured_data/structured_data_classification_from_scratch/\n",
        "  \"\"\"\n",
        "  # Create a Normalization layer for our feature\n",
        "  normalizer = tf.keras.layers.Normalization()\n",
        "\n",
        "  # Prepare a Dataset that only yields our feature\n",
        "  feature_ds = dataset.map(lambda x, y: x[name])\n",
        "  feature_ds = feature_ds.map(lambda x: tf.expand_dims(x, -1))\n",
        "\n",
        "  # Learn the statistics of the data\n",
        "  normalizer.adapt(feature_ds)\n",
        "\n",
        "  # Normalize the input feature\n",
        "  encoded_feature = normalizer(feature)\n",
        "  return encoded_feature\n",
        "\n",
        "def encode_categorical_feature(feature, name, dataset, is_string):\n",
        "    lookup_class = tf.keras.layers.StringLookup if is_string else tf.keras.layers.IntegerLookup\n",
        "    # Create a lookup layer which will turn strings into integer indices\n",
        "    lookup = lookup_class(output_mode=\"binary\")\n",
        "\n",
        "    # Prepare a Dataset that only yields our feature\n",
        "    feature_ds = dataset.map(lambda x, y: x[name])\n",
        "    feature_ds = feature_ds.map(lambda x: tf.expand_dims(x, -1))\n",
        "\n",
        "    # Learn the set of possible string values and assign them a fixed integer index\n",
        "    lookup.adapt(feature_ds)\n",
        "\n",
        "    # Turn the string input into integer indices\n",
        "    encoded_feature = lookup(feature)\n",
        "    return encoded_feature\n",
        "\n",
        "#-----------------------------------------------\n",
        "numerical_inputs = [tf.keras.Input(shape=(1,), name=feature) for feature in NUMERICAL_FEATURES]\n",
        "str_categorical_inputs = [tf.keras.Input(shape=(1,), name=feature) for feature in STRING_CATEGORICAL_FEATURES]\n",
        "int_categorical_inputs = [tf.keras.Input(shape=(1,), name=feature) for feature in INTEGER_CATEGORICAL_FEATURES]\n",
        "\n",
        "inputs = numerical_inputs + str_categorical_inputs + int_categorical_inputs\n",
        "output_of_processing_layers = tf.keras.layers.concatenate(\n",
        "    [encode_numerical_feature(\n",
        "        input, name, train_dataset\n",
        "    ) for input, name in zip(numerical_inputs, NUMERICAL_FEATURES)\n",
        "    ]\n",
        "    +\n",
        "    [encode_categorical_feature(\n",
        "        input, name, train_dataset, is_string=True \n",
        "    ) for input, name in zip(str_categorical_inputs, STRING_CATEGORICAL_FEATURES)\n",
        "    ]\n",
        "    +\n",
        "    [encode_categorical_feature(\n",
        "        input, name, train_dataset, is_string=False \n",
        "    ) for input, name in zip(int_categorical_inputs, INTEGER_CATEGORICAL_FEATURES)\n",
        "    ]        \n",
        ")\n"
      ],
      "metadata": {
        "id": "am2UgkxzDGyy"
      },
      "execution_count": 7,
      "outputs": []
    },
    {
      "cell_type": "code",
      "source": [
        "# Complete the model by acting on the data fed in the network after preprocessing layers\n",
        "output = tf.keras.layers.Dense(1, activation=\"linear\")(output_of_processing_layers)\n",
        "model = tf.keras.Model(inputs, output)\n",
        "model.compile(\"adam\", \"mean_squared_error\", metrics=[\"mean_squared_error\"])\n",
        "# `rankdir='LR'` is to make the graph horizontal.\n",
        "if False:\n",
        "  tf.keras.utils.plot_model(model, show_shapes=True, rankdir=\"LR\")\n",
        "if False:\n",
        "  model.summary()"
      ],
      "metadata": {
        "id": "s85wGlPLf_bf"
      },
      "execution_count": 8,
      "outputs": []
    },
    {
      "cell_type": "markdown",
      "source": [
        "## Make a Trial Run"
      ],
      "metadata": {
        "id": "DihiZse8gYLS"
      }
    },
    {
      "cell_type": "code",
      "source": [
        "model.fit(train_dataset, epochs=EPOCHS, validation_data=val_dataset, verbose=0) \n",
        "print(model.trainable_weights)\n",
        "def plot_loss(history):\n",
        "  plt.plot(history.history['loss'], label='loss')\n",
        "  #plt.plot(history.history['val_loss'], label='val_loss')\n",
        "  plt.xlabel('Epoch')\n",
        "  plt.ylabel('Error')\n",
        "  plt.legend()\n",
        "  plt.grid(True)\n",
        "plot_loss(model.history)"
      ],
      "metadata": {
        "colab": {
          "base_uri": "https://localhost:8080/",
          "height": 435
        },
        "id": "r7CT3xJ0-0LD",
        "outputId": "62f4ee6b-b69c-40d7-c9eb-36860d59bdc0"
      },
      "execution_count": 9,
      "outputs": [
        {
          "output_type": "stream",
          "name": "stdout",
          "text": [
            "[<tf.Variable 'dense/kernel:0' shape=(8, 1) dtype=float32, numpy=\n",
            "array([[ 0.7451132 ],\n",
            "       [ 0.388647  ],\n",
            "       [-0.21506254],\n",
            "       [ 0.2198226 ],\n",
            "       [ 0.32132685],\n",
            "       [-0.36436936],\n",
            "       [-0.11555722],\n",
            "       [ 0.4105723 ]], dtype=float32)>, <tf.Variable 'dense/bias:0' shape=(1,) dtype=float32, numpy=array([2.4529214], dtype=float32)>]\n"
          ]
        },
        {
          "output_type": "display_data",
          "data": {
            "text/plain": [
              "<Figure size 432x288 with 1 Axes>"
            ],
            "image/png": "[encoded data removed]"
          },
          "metadata": {
            "needs_background": "light"
          }
        }
      ]
    },
    {
      "cell_type": "markdown",
      "source": [
        "### Compare the values obtained to Table 3.2 of Elem Stat Learning:\n",
        "\n",
        "w_esl = [0.68, 0.26, -0.14, 0.21, 0.31, -0.29, -0.02, 0.27],\n",
        "\n",
        "w_here = [0.89, 0.27, -0.20, 0.25, 0.20, -0.34, -0.12, 0.36].\n",
        "\n",
        "b_esl = 2.46\n",
        "\n",
        "b_here = 2.45\n"
      ],
      "metadata": {
        "id": "i33wntJnMs1I"
      }
    },
    {
      "cell_type": "code",
      "source": [
        "if False:\n",
        "  model.evaluate(test_dataset)"
      ],
      "metadata": {
        "id": "aXKeEZWNen3R"
      },
      "execution_count": 10,
      "outputs": []
    },
    {
      "cell_type": "code",
      "source": [
        "# Prediction Problem\n",
        "if False:\n",
        "  y_pred = model.predict(test_dataset)\n",
        "  for item in y_pred:\n",
        "    print(item)"
      ],
      "metadata": {
        "id": "PZc70R0vN-js"
      },
      "execution_count": 11,
      "outputs": []
    },
    {
      "cell_type": "code",
      "source": [
        "if False:\n",
        "  train_dataset=train_dataset.concatenate(val_dataset)\n",
        "  model.fit(train_dataset, epochs=EPOCHS, validation_data=train_dataset, verbose=0)\n",
        "  print(model.evaluate(train_dataset))\n",
        "  print(model.evaluate(test_dataset))"
      ],
      "metadata": {
        "id": "dfOStzv9U99z"
      },
      "execution_count": 12,
      "outputs": []
    },
    {
      "cell_type": "markdown",
      "source": [
        "# Full Simulation\n",
        "## Full simulation must determine variances in the weights also. For that we will repeat experiment 30 times and report mean and standard error in weight values"
      ],
      "metadata": {
        "id": "QhcVSvu3gg0P"
      }
    },
    {
      "cell_type": "code",
      "source": [
        "\n",
        "def run_experiment(train_dataset, test_dataset, epochs=5, val_dataset=None, trials=30, verbose=0):\n",
        "  err_in = [] # these are in_sample errorr in each trial\n",
        "  err_out = [] # out of sample errors\n",
        "  weights = []\n",
        "  biases = []\n",
        "  if val_dataset is not None:\n",
        "    train_dataset = train_dataset.concatenate(val_dataset) # train on full training set\n",
        "  else:\n",
        "    validation_data = train_dataset\n",
        "  for trial in range(trials):\n",
        "    model.fit(train_dataset, epochs=epochs, validation_data=validation_data, verbose=verbose)\n",
        "    e_in = model.evaluate(train_dataset)[-1]\n",
        "    e_out = model.evaluate(test_dataset)[-1]\n",
        "    w = model.trainable_weights[0].numpy().flatten()\n",
        "    b = model.trainable_weights[1].numpy().flatten()\n",
        "    err_in.append(e_in)\n",
        "    err_out.append(e_out)\n",
        "    weights.append(w)\n",
        "    biases.append(b)\n",
        "  \n",
        "  err_in_mean, err_in_stderr = np.mean(err_in), np.std(err_in)/np.sqrt(trials)\n",
        "  err_out_mean, err_out_stderr = np.mean(err_out), np.std(err_out)/np.sqrt(trials)\n",
        "  weights_mean, weights_stderr = np.mean(weights,axis=0), np.std(weights, axis=0)/np.sqrt(trials)    \n",
        "  bias_mean, bias_stderr = np.mean(biases), np.std(biases)/np.sqrt(trials)\n",
        "  results = (   \n",
        "      (err_in_mean, err_in_stderr),\n",
        "      (err_out_mean, err_out_stderr),\n",
        "      (weights_mean, weights_stderr),\n",
        "      (bias_mean, bias_stderr)\n",
        "  )\n",
        "  return results\n",
        "\n",
        "\n",
        "#-----------------------------------\n",
        "\n",
        "full_training_dataset = train_dataset.concatenate(val_dataset)\n",
        "results = run_experiment(full_training_dataset, test_dataset, epochs=EPOCHS, val_dataset=None, trials=TRIALS, verbose=0)\n",
        "err_in, err_out, weights, bias = results\n",
        "print(err_in)\n",
        "print(err_out)\n",
        "print(weights)\n",
        "print(bias)"
      ],
      "metadata": {
        "colab": {
          "base_uri": "https://localhost:8080/"
        },
        "id": "O5D7cu3zWDv2",
        "outputId": "d7e0acb4-e2ae-4885-b8f6-45d80814dd73"
      },
      "execution_count": 13,
      "outputs": [
        {
          "output_type": "stream",
          "name": "stdout",
          "text": [
            "5/5 [==============================] - 0s 3ms/step - loss: 0.4393 - mean_squared_error: 0.4393\n",
            "2/2 [==============================] - 0s 6ms/step - loss: 0.5192 - mean_squared_error: 0.5192\n",
            "5/5 [==============================] - 0s 5ms/step - loss: 0.4393 - mean_squared_error: 0.4393\n",
            "2/2 [==============================] - 0s 7ms/step - loss: 0.5244 - mean_squared_error: 0.5244\n",
            "5/5 [==============================] - 0s 3ms/step - loss: 0.4393 - mean_squared_error: 0.4393\n",
            "2/2 [==============================] - 0s 6ms/step - loss: 0.5260 - mean_squared_error: 0.5260\n",
            "5/5 [==============================] - 0s 4ms/step - loss: 0.4406 - mean_squared_error: 0.4406\n",
            "2/2 [==============================] - 0s 10ms/step - loss: 0.5309 - mean_squared_error: 0.5309\n",
            "5/5 [==============================] - 0s 3ms/step - loss: 0.4395 - mean_squared_error: 0.4395\n",
            "2/2 [==============================] - 0s 9ms/step - loss: 0.5193 - mean_squared_error: 0.5193\n",
            "5/5 [==============================] - 0s 3ms/step - loss: 0.4397 - mean_squared_error: 0.4397\n",
            "2/2 [==============================] - 0s 7ms/step - loss: 0.5220 - mean_squared_error: 0.5220\n",
            "5/5 [==============================] - 0s 4ms/step - loss: 0.4396 - mean_squared_error: 0.4396\n",
            "2/2 [==============================] - 0s 9ms/step - loss: 0.5245 - mean_squared_error: 0.5245\n",
            "5/5 [==============================] - 0s 3ms/step - loss: 0.4395 - mean_squared_error: 0.4395\n",
            "2/2 [==============================] - 0s 6ms/step - loss: 0.5181 - mean_squared_error: 0.5181\n",
            "5/5 [==============================] - 0s 3ms/step - loss: 0.4394 - mean_squared_error: 0.4394\n",
            "2/2 [==============================] - 0s 5ms/step - loss: 0.5238 - mean_squared_error: 0.5238\n",
            "5/5 [==============================] - 0s 3ms/step - loss: 0.4395 - mean_squared_error: 0.4395\n",
            "2/2 [==============================] - 0s 8ms/step - loss: 0.5258 - mean_squared_error: 0.5258\n",
            "5/5 [==============================] - 0s 4ms/step - loss: 0.4393 - mean_squared_error: 0.4393\n",
            "2/2 [==============================] - 0s 9ms/step - loss: 0.5209 - mean_squared_error: 0.5209\n",
            "5/5 [==============================] - 0s 3ms/step - loss: 0.4400 - mean_squared_error: 0.4400\n",
            "2/2 [==============================] - 0s 7ms/step - loss: 0.5283 - mean_squared_error: 0.5283\n",
            "5/5 [==============================] - 0s 4ms/step - loss: 0.4400 - mean_squared_error: 0.4400\n",
            "2/2 [==============================] - 0s 7ms/step - loss: 0.5234 - mean_squared_error: 0.5234\n",
            "5/5 [==============================] - 0s 3ms/step - loss: 0.4393 - mean_squared_error: 0.4393\n",
            "2/2 [==============================] - 0s 7ms/step - loss: 0.5236 - mean_squared_error: 0.5236\n",
            "5/5 [==============================] - 0s 4ms/step - loss: 0.4394 - mean_squared_error: 0.4394\n",
            "2/2 [==============================] - 0s 12ms/step - loss: 0.5214 - mean_squared_error: 0.5214\n",
            "5/5 [==============================] - 0s 3ms/step - loss: 0.4394 - mean_squared_error: 0.4394\n",
            "2/2 [==============================] - 0s 8ms/step - loss: 0.5220 - mean_squared_error: 0.5220\n",
            "5/5 [==============================] - 0s 4ms/step - loss: 0.4393 - mean_squared_error: 0.4393\n",
            "2/2 [==============================] - 0s 7ms/step - loss: 0.5170 - mean_squared_error: 0.5170\n",
            "5/5 [==============================] - 0s 4ms/step - loss: 0.4395 - mean_squared_error: 0.4395\n",
            "2/2 [==============================] - 0s 7ms/step - loss: 0.5276 - mean_squared_error: 0.5276\n",
            "5/5 [==============================] - 0s 4ms/step - loss: 0.4393 - mean_squared_error: 0.4393\n",
            "2/2 [==============================] - 0s 5ms/step - loss: 0.5227 - mean_squared_error: 0.5227\n",
            "5/5 [==============================] - 0s 3ms/step - loss: 0.4395 - mean_squared_error: 0.4395\n",
            "2/2 [==============================] - 0s 7ms/step - loss: 0.5279 - mean_squared_error: 0.5279\n",
            "5/5 [==============================] - 0s 4ms/step - loss: 0.4394 - mean_squared_error: 0.4394\n",
            "2/2 [==============================] - 0s 8ms/step - loss: 0.5216 - mean_squared_error: 0.5216\n",
            "5/5 [==============================] - 0s 3ms/step - loss: 0.4393 - mean_squared_error: 0.4393\n",
            "2/2 [==============================] - 0s 5ms/step - loss: 0.5277 - mean_squared_error: 0.5277\n",
            "5/5 [==============================] - 0s 4ms/step - loss: 0.4393 - mean_squared_error: 0.4393\n",
            "2/2 [==============================] - 0s 6ms/step - loss: 0.5195 - mean_squared_error: 0.5195\n",
            "5/5 [==============================] - 0s 3ms/step - loss: 0.4404 - mean_squared_error: 0.4404\n",
            "2/2 [==============================] - 0s 8ms/step - loss: 0.5249 - mean_squared_error: 0.5249\n",
            "5/5 [==============================] - 0s 3ms/step - loss: 0.4394 - mean_squared_error: 0.4394\n",
            "2/2 [==============================] - 0s 10ms/step - loss: 0.5221 - mean_squared_error: 0.5221\n",
            "5/5 [==============================] - 0s 3ms/step - loss: 0.4393 - mean_squared_error: 0.4393\n",
            "2/2 [==============================] - 0s 4ms/step - loss: 0.5208 - mean_squared_error: 0.5208\n",
            "5/5 [==============================] - 0s 4ms/step - loss: 0.4393 - mean_squared_error: 0.4393\n",
            "2/2 [==============================] - 0s 7ms/step - loss: 0.5239 - mean_squared_error: 0.5239\n",
            "5/5 [==============================] - 0s 3ms/step - loss: 0.4398 - mean_squared_error: 0.4398\n",
            "2/2 [==============================] - 0s 8ms/step - loss: 0.5208 - mean_squared_error: 0.5208\n",
            "5/5 [==============================] - 0s 4ms/step - loss: 0.4394 - mean_squared_error: 0.4394\n",
            "2/2 [==============================] - 0s 7ms/step - loss: 0.5233 - mean_squared_error: 0.5233\n",
            "5/5 [==============================] - 0s 3ms/step - loss: 0.4393 - mean_squared_error: 0.4393\n",
            "2/2 [==============================] - 0s 6ms/step - loss: 0.5193 - mean_squared_error: 0.5193\n",
            "(0.4395078748464584, 5.889699347420175e-05)\n",
            "(0.5230917433897654, 0.0005952023918760766)\n",
            "(array([ 0.69761765,  0.28008878, -0.15582432,  0.21069242,  0.29956415,\n",
            "       -0.26642978, -0.02551241,  0.28679562], dtype=float32), array([0.00103298, 0.00069953, 0.00076815, 0.00084409, 0.00072952,\n",
            "       0.00084301, 0.00079897, 0.00086109], dtype=float32))\n",
            "(2.465035, 0.0007592571326949232)\n"
          ]
        }
      ]
    }
  ]
}