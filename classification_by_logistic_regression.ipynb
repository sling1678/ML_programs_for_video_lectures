{
  "nbformat": 4,
  "nbformat_minor": 0,
  "metadata": {
    "colab": {
      "name": "classification_by_logistic_regression.ipynb",
      "provenance": [],
      "collapsed_sections": [],
      "authorship_tag": "ABX9TyMl4aub6+Sz8IIzzL+r/lZ/",
      "include_colab_link": true
    },
    "kernelspec": {
      "name": "python3",
      "display_name": "Python 3"
    },
    "language_info": {
      "name": "python"
    }
  },
  "cells": [
    {
      "cell_type": "markdown",
      "metadata": {
        "id": "view-in-github",
        "colab_type": "text"
      },
      "source": [
        "<a href=\"https://colab.research.google.com/github/sling1678/ML_programs_for_video_lectures/blob/main/classification_by_logistic_regression.ipynb\" target=\"_parent\"><img src=\"https://colab.research.google.com/assets/colab-badge.svg\" alt=\"Open In Colab\"/></a>"
      ]
    },
    {
      "cell_type": "markdown",
      "source": [
        "# The General Classification Problem\n",
        "\n",
        "Let target variable $y$ be any of $K$ possible classes, which we can denote by $c_1, c_2, \\cdots, c_K$. Then, very general arguments lead to the following solution of the optimization problem. \n",
        "\n",
        "$$ y_{\\text{pred}} = \\text{max}\\ Pr(y|x) $$\n",
        "\n",
        "Here we have $K$ probability mass functions corresponding to $K$ classes for $y$, namely, $Pr(y=c_1|x)$, $Pr(y=c_2|x)$, $\\cdots$, $Pr(y=c_K|x)$. Basically, we predict the class that corresponds to the highest probability given the predictor $x$. \n",
        "\n",
        "$\\textbf{Logistic Regression - Multivariate}$\n",
        "\n",
        "Logistic Regression models this probability directly by assuming that natural log of odds ratios be a linear function of the predictor variables. Say, we pick ratio of all other probabilities with the $Pr(y=c_K|x)$, we will get $K-1$ natural log odd ratios, which can model with linear functions.\n",
        "\n",
        "$$ \\ln\\ \\frac{ Pr(y=c_1|x)}{Pr(y=c_K|x)} = w_{10} + \\sum_{j=1}^p w_{1j} x_{j} \\equiv f_1(x, w)$$\n",
        "$$ \\ln\\ \\frac{ Pr(y=c_2|x)}{Pr(y=c_K|x)} = w_{20} + \\sum_{j=1}^p w_{2j} x_{j} \\equiv f_2(x, w) $$\n",
        "$$\\cdots$$\n",
        "$$ \\ln\\ \\frac{ Pr(y=c_{(K-1)}|x)}{Pr(y=c_K|x)} = w_{(K-1)0} + \\sum_{j=1}^p w_{(K-1)j} x_{j}\\equiv f_{K-1}(x, w) $$\n",
        "\n",
        "Exponentiating and then using the sum of all probabilities to equal 1 immediately gives us models of all probabilities.\n",
        "\n",
        "$$ Pr(y=c_1|x) = \\frac{\\exp({f_1(x,w)})}{Z}$$\n",
        "$$ Pr(y=c_2|x) = \\frac{\\exp({f_2(x,w)})}{Z} $$\n",
        "$$\\cdots$$\n",
        "$$ Pr(y=c_{(K-1)}|x) = \\frac{\\exp({f_{(K-1)}(x,w)})}{Z} $$\n",
        "$$ Pr(y=c_K|x) = 1 - \\sum_{j=1}^{K-1} Pr(y=c_j|x)  $$\n",
        "$$ Z = 1 + \\sum_{j=1}^{K-1} \\exp({f_j(x,w)}) $$\n",
        "$$ f_j(x,w) = w_{j0} + \\sum_{a=1}^p w_{1a} x_{a}, \\ \\ j = 1, 2, \\cdots, (K-1) $$\n",
        "\n",
        "## Maximum Likelihoood Estimation of Parameters from Data\n",
        "\n",
        "Suppose we have $N$ points of independently and identically obtained (IID) data, $\\mathcal{D} = \\{(x_1, y_1), (x_2, y_2), \\cdots, (x_N, y_N) \\}$, where $x_i\\in R^p$ and $y_i \\in C=\\{ c_1, c_2, \\cdots, c_K \\}$. We will represent $y_i$ as a $K$-dimensional vector with entry $1$ for the class of data $y_i$ and zero for other components. Thus, in a $5$-class example, if $y_i = c_2$, then this $y_i$ will be represented by the following vector.\n",
        "\n",
        "$$ y_i = [0, 1, 0, 0, 0]^T, $$\n",
        "\n",
        "where I have placed $T$ to indicate that we will think of vectors as column vectors. \n",
        "\n",
        "From the discussion above, we know that there are $(p+1)(K-1)$ parameters $w$. We estimate them by $\\textbf{maximum likelihood principle}$. According to this principle, among all $N$-point data that could have been obtained, the data $\\mathcal{D}$ observed is the one that has the highest probability. That is, parameters $w$ should be such that the joint conditional probability of obtaining $N$ data points is largest. This joint probability when looked as a function of parameters $w$ is called $\\textbf{likelihood}$. We will denote likelihood be $L$. Since the data points are $\\textbf{assumed to be independent}$,\n",
        "\n",
        "$$\n",
        "L(w;\\mathcal{D}) = Pr \\left(y_1, y_2, ..., y_N|x_1, x_2, ..., x_N; w\\right) = Π_{i=1}^N Pr(y_i|x_i; w). \n",
        "$$\n",
        "\n",
        "Since we have a product on the right side, it would turn into a sum if we took log of both sides. And since $log(f(w))$ is monotonic in $f(w)$, the value of $w$ at which maximum of $log(f(w))$ occurs will also be the place where the maximum of $f(w)$ will occur. Thus, we deal with $\\textbf{log-likelihood}$, which we will denote by $\\mathcal{L}$.\n",
        "\n",
        "$$\n",
        "\\mathcal{L}(w; \\mathcal{D}) = \\ln L(w; \\mathcal{D}) = \\sum_{i=1}^N \\ln Pr(y_i|x_i; w).\n",
        "$$\n",
        "\n",
        "Then the $\\textbf{most likelihood estimate (MLE)}$ of parameters $w$ of the model of conditional probability is obtaine by solving $(p+1)(K-1)$ equations, \n",
        "\n",
        "$$\n",
        "\\frac{\\partial \\mathcal{L}(w; \\mathcal{D})}{\\partial w_{ia}},\\ \\ \\ i=1,2, ..., K-1,\\ \\ a=0,1,2,...,p.$$\n",
        "\n",
        "\n"
      ],
      "metadata": {
        "id": "5H2vsiymQZSW"
      }
    },
    {
      "cell_type": "markdown",
      "source": [
        "## Logistic Regression for Binary Classification:\n",
        "\n",
        "If you have just two classes, we say the problem is binary classification. In that case, we need model only one of the two probability mass functions. Suppose the two classes are represented by integers zero and one. Then, we traditionally model the probability of the class with $y=1$ with $p+1 = (p+1)(2-1)$ parameters $w_0, w_1, w_2, \\cdots, w_p$.\n",
        "\n",
        "$$Pr(y=1|x;w) = \\frac{ e^{w_0 + \\sum_{a=1}^p w_{a} x_{a}} }{ 1 + e^{w_0 + \\sum_{a=1}^p w_{a} x_{a}} } = \\left( 1 + e^{-w_0 - \\sum_{a=1}^p w_{a} x_{a}} \\right)^{-1} \\ \\ \\ (1)$$\n",
        "\n",
        "Then, log likelihood will be\n",
        "$$\n",
        "\\mathcal{L}(w; \\mathcal{D}) = \\sum_{i=1}^N \\ln Pr(y_i|x_i; w).\\ \\ \\  (2)\n",
        "$$\n",
        "\n",
        "Now, a trick for $Pr(y_i|x_i; w)$ in the case of $[0,1]$ choices for $y_i$ works out.\n",
        "\n",
        "$$\n",
        "Pr(y_i|x_i; w) = Pr(y=1|x_i;w)^{y_i} \\times \\left[ 1 - Pr(y=1|x_i;w)\\right]^{1-y_i}\\ \\ \\ (3)\n",
        "$$\n",
        "\n",
        "You can easily check this by working out what happens when $y_i=1$ and when $yi=0$, you should get the right probability. Use (3) in (2) and then using log we get\n",
        "\n",
        "$$\n",
        "\\mathcal{L}(w; \\mathcal{D}) = \\sum_{i=1}^N  \\left( y_i\\ \\ln Pr(y=1|x_i;w) + (1-y_i)\\ \\ln \\left[ 1 - Pr(y=1|x_i;w)\\right]\\right) .\\ \\ \\  (4)\n",
        "$$\n",
        "\n",
        "To simplify the calculation, when we use model in (1), let us use $f(x_i,w) = w_0 +  \\sum_{a=1}^p w_{a} x_{ia}$. \n",
        "\n",
        "$$\n",
        "\\mathcal{L}(w; \\mathcal{D}) = \\sum_{i=1}^N  \\left[ y_i f(x_i,w) - y_i \\ln\\left( 1 + e^f\\right)  - (1-y_i)\\ln\\left( 1 + e^f\\right) \\right].\\ \\ \\  (4)\n",
        "$$\n",
        "\n",
        "This simplifies to\n",
        "\n",
        "$$\n",
        "\\mathcal{L}(w; \\mathcal{D}) = \\sum_{i=1}^N  \\left[ y_i f(x_i,w)   - \\ln \\left( 1 + e^{f(x_i;w)}\\right) \\right].\\ \\ \\  (4)\n",
        "$$\n",
        "\n",
        "Now, to optimize this, we take derivative with respect to $w_j$.\n",
        "\n",
        "$$\n",
        "\\frac{\\partial \\mathcal{L}}{\\partial w_j} = \\sum_{i=1}^N  \\left[ y_i    - \\frac{e^{f(x_i;w)}}{ \\left( 1 + e^{f(x_i;w)}\\right) }\\right]\\frac{\\partial f}{\\partial w_j} = 0, \\ \\ \\ (5)\n",
        "$$\n",
        "\n",
        "with\n",
        "$$\n",
        "\\frac{\\partial f}{\\partial w_0} = 1,\\ \\ \\frac{\\partial f}{\\partial w_a} = x_{ia}, \\ \\ a=1, 2, ..., p.\n",
        "$$\n",
        "\n",
        "Writing (5) explictily, we have one equation for $w_0$ and one for each of the $w_a, a=1,..,p$.\n",
        "\n",
        "$$\n",
        "\\sum_{i=1}^N  \\left[ y_i    - \\frac{e^{f(x_i;w)}}{ \\left( 1 + e^{f(x_i;w)}\\right) }\\right] = 0\\ \\ \\ (6a)\n",
        "$$\n",
        "\n",
        "$$\n",
        "\\sum_{i=1}^N  \\left[ y_i    - \\frac{e^{f(x_i;w)}}{ \\left( 1 + e^{f(x_i;w)}\\right) }\\right] x_{ia}= 0, \\ \\  (6b)\n",
        "$$\n",
        "\n",
        "\n",
        "Suppose we introduce $x_{i0}=1$ for all $i$, then we can think of $w$ and $x$ as $(p+1)$-dimensional vectors and use vector notation to write the expressions compactly.\n",
        "\n",
        "$$\n",
        "\\frac{\\partial \\mathcal{L}}{\\partial w_j}  =\\sum_{i=1}^N  \\left[ y_i    - \\frac{e^{f(x_i;w)}}{ \\left( 1 + e^{f(x_i;w)}\\right) }\\right] x_{i}= 0,\\ \\ \\ f(x_i,w) = w^T x_i\\ \\ \\ (6c)\n",
        "$$\n",
        "\n",
        "Solving these $(p+1)$ equations analytically is not possible. We solve them iteratively. Many of the iterative algorithms that are implemented in standard packages, are set for minimizing an error function, which measures error per sample. By multiplying $\\mathcal{L}$ by minus 1 and dividing by $N$, we can turn it into an error function that we minimize.\n",
        "\n",
        "$$\n",
        "E(w; \\mathcal{D}) = -\\frac{\\mathcal{L}(w; \\mathcal{D})}{N},\\ \\ \\  (7a)\n",
        "$$\n",
        "and its derivatives will be\n",
        "$$\n",
        "\\frac{\\partial E}{\\partial w_j}  = -\\frac{1}{N}\\sum_{i=1}^N  \\left[ y_i    - \\frac{e^{f(x_i;w)}}{ \\left( 1 + e^{f(x_i;w)}\\right) }\\right] x_{i,j}= 0,\\ \\ \\ f(x_i,w) = w^T x_i\\ \\ \\ (7b)\n",
        "$$\n",
        "\n",
        "Then, minimum of $E$ in the $(p+1)$-dimensional $w$-space can be achievely iteratively by updating $w_0, w_1, ..., w_p$ by the following update rule, where $t$ is iteration index.\n",
        "\n",
        "$$\n",
        "w_j(t+1) = w_j(t) - \\eta \\times \\frac{\\partial E}{\\partial w_j},\\ \\ \\ w_j(0) = \\text{random}, \n",
        "$$\n",
        "where $\\eta$ is called $\\textbf{learning rate}$. \n",
        "\n",
        "\n",
        " \n",
        "\n",
        "\n"
      ],
      "metadata": {
        "id": "fRkuxbSGonQJ"
      }
    },
    {
      "cell_type": "markdown",
      "source": [
        "# Thinking of a two-class Logistic Regression as a Neural Network\n",
        "\n",
        "It is very direct to think of logistic regression as a neural network. You need input layer with $p+1$ units for $x_0=1$ and the $x_1$ through $x_p$. The feed into one output unit with sigmoid activation function. This represents\n",
        "$$\n",
        "\\text{output} = \\text{sigmoid}(f(x,w)),\n",
        "$$\n",
        "where $\\text{sigmoid}(f)$ is\n",
        "$$\n",
        "\\text{sigmoid}(f) = \\frac{e^f}{1 + e^f} = \\frac{1}{1 + e^{-f}}, \n",
        "$$\n",
        "with\n",
        "$$\n",
        "f = w_0 x_0 + \\sum_{a=1}^p w_a x_a.\n",
        "$$\n",
        "This output is same as probability for one example given in (1) above. The error measure in (7) above is called $\\textbf{binary cross entropy}$, which is written using (4) for the log likelihood.\n",
        "$$\n",
        "E = -\\frac{1}{N} \\sum_{i=1}^N \\sum_{i=1}^N  \\left[ y_i f(x_i,w)   - \\ln \\left( 1 + e^{f(x_i;w)}\\right) \\right].\n",
        "$$\n",
        "An advantage of using this as a neural network problem is that there are several frameworks where derivative needed for updating the weights in the iterative solution is already implemented in very efficient way. \n",
        "\n",
        "## Using keras to implement Logistic Regression Below\n",
        "\n"
      ],
      "metadata": {
        "id": "zHnoNjmQmy2c"
      }
    },
    {
      "cell_type": "code",
      "execution_count": 1,
      "metadata": {
        "id": "Jz03tcQzQJKk"
      },
      "outputs": [],
      "source": [
        "import numpy as np\n",
        "import pandas as pd\n",
        "\n",
        "import matplotlib.pyplot as plt\n",
        "\n",
        "import tensorflow as tf\n",
        "import tensorflow_datasets as tfds\n",
        "\n",
        "from sklearn.model_selection import train_test_split\n"
      ]
    },
    {
      "cell_type": "markdown",
      "source": [
        "# Illustrate Binary Classification Using Titanic Data using TensorFlow/Keras\n",
        "### We will get the data from tensorflow_datasets\n",
        "### Select three features, age, pclass, sex; target is scalar survived.\n",
        "### The classes in survived are already coded as 0/1\n",
        "### sex is categorical and also coded 0/1\n",
        "\n",
        "## NOTE: I will be leaving out Data Exploratory work here\n",
        "\n"
      ],
      "metadata": {
        "id": "k8nTQNeHyV7g"
      }
    },
    {
      "cell_type": "code",
      "source": [
        "#Global Constants\n",
        "TARGET='survived'"
      ],
      "metadata": {
        "id": "2mLfg6ObosaW"
      },
      "execution_count": 2,
      "outputs": []
    },
    {
      "cell_type": "code",
      "source": [
        "def load_data(verbose=0, dataset_name='titanic', split='train', shuffle=True):\n",
        "  ds = tfds.load(dataset_name, split=split, shuffle_files=shuffle)\n",
        "  df = tfds.as_dataframe(ds)\n",
        "  if verbose == 1:\n",
        "    print(f\"df: {df.shape}\")\n",
        "  return df\n",
        "\n",
        "def clean_data(df):\n",
        "  # Bad data clean\n",
        "  df = df.drop(df[df['features/age'] < 0].index)\n",
        "  return df\n",
        "\n",
        "def get_data(verbose=0, dataset_name='titanic', split='train', shuffle=True):\n",
        "  df = load_data(verbose, dataset_name, split, shuffle)\n",
        "  df = clean_data(df)\n",
        "  return df\n",
        "\n",
        "def get_some_stats_about_df(df, target):\n",
        "  print(f\"Distribution of data among classes is:\\n{df[target].value_counts()}\")\n",
        "  print(f\"total number of missing or NANs:\\n{df.isnull().sum()}\")\n",
        "  print(f\"Statistical Description: {df.describe()}\")\n",
        "  \n",
        "def train_val_test_split(df, val_frac=0.2, test_frac=0.2, verbose=0):\n",
        "  val_idx_begin = int( (1.0-val_frac-test_frac)*len(df) )\n",
        "  test_idx_begin = int( (1.0 - test_frac)*len(df) )\n",
        "  train, val, test = np.split(df.sample(frac=1),[val_idx_begin, test_idx_begin])\n",
        "  if verbose != 0:\n",
        "    print(f\"train: {train.shape}, val: {val.shape}, test: {test.shape}\")\n",
        "\n",
        "  return train, val, test\n",
        "\n",
        "#---------------------\n",
        "if True:\n",
        "  df= get_data(verbose=1)\n",
        "  get_some_stats_about_df(df, target=TARGET)\n",
        "  train, val, test = train_val_test_split(df, val_frac=0.2, test_frac=0.2, verbose=1)\n",
        " \n"
      ],
      "metadata": {
        "colab": {
          "base_uri": "https://localhost:8080/"
        },
        "id": "HBWd6ePHties",
        "outputId": "bad0a335-014e-4dac-e95e-2a7b316b2c8e"
      },
      "execution_count": 3,
      "outputs": [
        {
          "output_type": "stream",
          "name": "stdout",
          "text": [
            "df: (1309, 14)\n",
            "Distribution of data among classes is:\n",
            "0    619\n",
            "1    427\n",
            "Name: survived, dtype: int64\n",
            "total number of missing or NANs:\n",
            "features/age          0\n",
            "features/boat         0\n",
            "features/body         0\n",
            "features/cabin        0\n",
            "features/embarked     0\n",
            "features/fare         0\n",
            "features/home.dest    0\n",
            "features/name         0\n",
            "features/parch        0\n",
            "features/pclass       0\n",
            "features/sex          0\n",
            "features/sibsp        0\n",
            "features/ticket       0\n",
            "survived              0\n",
            "dtype: int64\n",
            "Statistical Description:        features/age  features/body  features/embarked  features/fare  \\\n",
            "count   1046.000000    1046.000000        1046.000000    1046.000000   \n",
            "mean      29.881136      17.570746           1.548757      36.650051   \n",
            "std       14.413500      61.317171           0.810820      55.718048   \n",
            "min        0.166700      -1.000000           0.000000      -1.000000   \n",
            "25%       21.000000      -1.000000           1.250000       8.050000   \n",
            "50%       28.000000      -1.000000           2.000000      15.750000   \n",
            "75%       39.000000      -1.000000           2.000000      35.500000   \n",
            "max       80.000000     328.000000           3.000000     512.329224   \n",
            "\n",
            "       features/parch  features/pclass  features/sex  features/sibsp  \\\n",
            "count      1046.00000      1046.000000   1046.000000     1046.000000   \n",
            "mean          0.42065         1.207457      0.370937        0.502868   \n",
            "std           0.83975         0.841497      0.483287        0.912167   \n",
            "min           0.00000         0.000000      0.000000        0.000000   \n",
            "25%           0.00000         0.000000      0.000000        0.000000   \n",
            "50%           0.00000         1.000000      0.000000        0.000000   \n",
            "75%           1.00000         2.000000      1.000000        1.000000   \n",
            "max           6.00000         2.000000      1.000000        8.000000   \n",
            "\n",
            "          survived  \n",
            "count  1046.000000  \n",
            "mean      0.408222  \n",
            "std       0.491740  \n",
            "min       0.000000  \n",
            "25%       0.000000  \n",
            "50%       0.000000  \n",
            "75%       1.000000  \n",
            "max       1.000000  \n",
            "train: (627, 14), val: (209, 14), test: (210, 14)\n"
          ]
        }
      ]
    },
    {
      "cell_type": "code",
      "source": [
        "def df_to_dataset(df, target, shuffle=True, batch_size=32, verbose=0):\n",
        "  \"\"\"\n",
        "  Boilerplate pandas.DataFrame to tf.data.Dataset object\n",
        "  \"\"\"\n",
        "  df = df.copy()\n",
        "  labels = df.pop(target)\n",
        "  labels = labels.squeeze()\n",
        "  labels = labels[:, tf.newaxis]\n",
        "  #df = {key: value[:,tf.newaxis] for key, value in dataframe.items()}\n",
        "  df = {key: value.squeeze()[:, np.newaxis] for key, value in df.items()}\n",
        "  ds = tf.data.Dataset.from_tensor_slices((dict(df), labels))\n",
        "  \n",
        "  # ds = tf.data.Dataset.from_tensor_slices((df, labels))\n",
        "  if shuffle:\n",
        "    ds = ds.shuffle(buffer_size=len(df))\n",
        "  ds = ds.batch(batch_size)\n",
        "  ds = ds.prefetch(batch_size)\n",
        "\n",
        "  if verbose != 0:\n",
        "    [(features, labels)] = ds.take(1)\n",
        "    print('Every feature:', list(features.keys()))\n",
        "    print('A batch of ages:', features['features/age'])\n",
        "    print('A batch of labels:', labels )\n",
        "\n",
        "  return ds\n",
        "\n",
        "def prepare_train_val_test_ds(df, target, shuffle=True, \n",
        "  val_frac=0.2, test_frac=0.2, batch_size=4, verbose=0):\n",
        "\n",
        "  train, val, test = train_val_test_split(df, val_frac=0.2, test_frac=0.2, verbose=0)\n",
        "  train_ds = df_to_dataset(train, target, batch_size=batch_size)\n",
        "  val_ds = df_to_dataset(val, target, shuffle=False, batch_size=batch_size)\n",
        "  test_ds = df_to_dataset(test, target, shuffle=False, batch_size=batch_size)\n",
        "\n",
        "  if verbose != 0:\n",
        "    for xy in train_ds.take(1):\n",
        "      print(xy)\n",
        "  return train_ds, val_ds, test_ds\n",
        "\n",
        "def test_prepare_ds():\n",
        "  df= get_data(verbose=0)\n",
        "  _, _, _ = prepare_train_val_test_ds(df, target='survived', shuffle=True, \n",
        "  val_frac=0.2, test_frac=0.2, batch_size=2, verbose=1)\n",
        "\n",
        "if True:\n",
        "  test_prepare_ds()\n",
        " "
      ],
      "metadata": {
        "colab": {
          "base_uri": "https://localhost:8080/"
        },
        "id": "nJyVTLaji4jp",
        "outputId": "b00a20f1-b5de-4371-a0c1-ee40555b62a3"
      },
      "execution_count": 4,
      "outputs": [
        {
          "output_type": "stream",
          "name": "stdout",
          "text": [
            "({'features/age': <tf.Tensor: shape=(2, 1), dtype=float32, numpy=\n",
            "array([[45.],\n",
            "       [37.]], dtype=float32)>, 'features/boat': <tf.Tensor: shape=(2, 1), dtype=string, numpy=\n",
            "array([[b'Unknown'],\n",
            "       [b'Unknown']], dtype=object)>, 'features/body': <tf.Tensor: shape=(2, 1), dtype=int32, numpy=\n",
            "array([[-1],\n",
            "       [-1]], dtype=int32)>, 'features/cabin': <tf.Tensor: shape=(2, 1), dtype=string, numpy=\n",
            "array([[b'T'],\n",
            "       [b'Unknown']], dtype=object)>, 'features/embarked': <tf.Tensor: shape=(2, 1), dtype=int64, numpy=\n",
            "array([[2],\n",
            "       [2]])>, 'features/fare': <tf.Tensor: shape=(2, 1), dtype=float32, numpy=\n",
            "array([[35.5   ],\n",
            "       [ 9.5875]], dtype=float32)>, 'features/home.dest': <tf.Tensor: shape=(2, 1), dtype=string, numpy=\n",
            "array([[b'Trenton, NJ'],\n",
            "       [b'Unknown']], dtype=object)>, 'features/name': <tf.Tensor: shape=(2, 1), dtype=string, numpy=\n",
            "array([[b'Blackwell, Mr. Stephen Weart'],\n",
            "       [b'Laitinen, Miss. Kristina Sofia']], dtype=object)>, 'features/parch': <tf.Tensor: shape=(2, 1), dtype=int32, numpy=\n",
            "array([[0],\n",
            "       [0]], dtype=int32)>, 'features/pclass': <tf.Tensor: shape=(2, 1), dtype=int64, numpy=\n",
            "array([[0],\n",
            "       [2]])>, 'features/sex': <tf.Tensor: shape=(2, 1), dtype=int64, numpy=\n",
            "array([[0],\n",
            "       [1]])>, 'features/sibsp': <tf.Tensor: shape=(2, 1), dtype=int32, numpy=\n",
            "array([[0],\n",
            "       [0]], dtype=int32)>, 'features/ticket': <tf.Tensor: shape=(2, 1), dtype=string, numpy=\n",
            "array([[b'113784'],\n",
            "       [b'4135']], dtype=object)>}, <tf.Tensor: shape=(2, 1), dtype=int64, numpy=\n",
            "array([[0],\n",
            "       [0]])>)\n"
          ]
        },
        {
          "output_type": "stream",
          "name": "stderr",
          "text": [
            "/usr/local/lib/python3.7/dist-packages/ipykernel_launcher.py:8: FutureWarning: Support for multi-dimensional indexing (e.g. `obj[:, None]`) is deprecated and will be removed in a future version.  Convert to a numpy array before indexing instead.\n",
            "  \n",
            "/usr/local/lib/python3.7/dist-packages/ipykernel_launcher.py:10: FutureWarning: Support for multi-dimensional indexing (e.g. `obj[:, None]`) is deprecated and will be removed in a future version.  Convert to a numpy array before indexing instead.\n",
            "  # Remove the CWD from sys.path while we load stuff.\n"
          ]
        }
      ]
    },
    {
      "cell_type": "markdown",
      "source": [
        "## Build a tf.data Pipeline\n",
        "### We need (1) to normalize the numerical features (2) convert an int64 data into one-hot categories.\n",
        "### Do these by using Keras Processing Layers - takes care of automatically applying the same transformations to val and test sets.\n",
        "\n",
        "Adapted from: \n",
        "https://www.tensorflow.org/tutorials/structured_data/preprocessing_layers"
      ],
      "metadata": {
        "id": "4rWxSpMVugR0"
      }
    },
    {
      "cell_type": "markdown",
      "source": [
        "## First choose features of interest. Make lists of numerical feartures and categorical features so you can write transforms of each or any other processing you want to do to them before feeding into your model. "
      ],
      "metadata": {
        "id": "TFinAPIu2DwN"
      }
    },
    {
      "cell_type": "code",
      "source": [
        "#Numerical Features\n",
        "numerical_features = [\"features/age\",]\n",
        "#Categorical Features\n",
        "categorical_features=[\"features/pclass\", \"features/sex\"]"
      ],
      "metadata": {
        "id": "MIpQN0nG2CFi"
      },
      "execution_count": 5,
      "outputs": []
    },
    {
      "cell_type": "code",
      "source": [
        "# Normalizing a numerical column\n",
        "def get_normalization_layer(feature_name, dataset):\n",
        "  \"\"\"\n",
        "  Boilerplate code for creating a normalization layer using keras.layers.Normalization().\n",
        "  This is called on each numerical feature. So, we need to have a list of numerical\n",
        "  features we will apply this transformation to.\n",
        "  \"\"\"\n",
        "  \n",
        "  normalizer = tf.keras.layers.Normalization(axis=None)\n",
        "  feature_ds = dataset.map(lambda x, y: x[feature_name]) # get the ds column\n",
        "  normalizer.adapt(feature_ds) # learn the statistics during training\n",
        "  \n",
        "  return normalizer\n",
        "\n",
        "def test_get_normalization_layer():\n",
        "  df= get_data(verbose=0)\n",
        "  train_ds, _, _ = prepare_train_val_test_ds(df, target='survived', shuffle=True, \n",
        "  val_frac=0.2, test_frac=0.2, batch_size=2, verbose=0)  \n",
        "\n",
        "  feature_name = \"features/age\"\n",
        " \n",
        "  age_col = np.expand_dims(df[feature_name], axis=-1)\n",
        "  age_input = tf.keras.Input(shape=(1,), name=feature_name, dtype=\"int64\")\n",
        "  age_layer= get_normalization_layer(feature_name, train_ds)\n",
        "  # feed input into layer\n",
        "  age_encoded = age_layer(age_col)\n",
        "\n",
        "  print(f\"age column's shape = {age_col.shape}\")\n",
        "  print(f\"age_encoded's shape = {age_encoded.shape}\")\n",
        "\n",
        "#-----------------Test this\n",
        "if True:\n",
        "  test_get_normalization_layer()\n",
        " "
      ],
      "metadata": {
        "colab": {
          "base_uri": "https://localhost:8080/"
        },
        "id": "Q23DzEjYHndi",
        "outputId": "309bb825-95f6-4696-b7e3-cefff7cd6ff9"
      },
      "execution_count": 6,
      "outputs": [
        {
          "output_type": "stream",
          "name": "stderr",
          "text": [
            "/usr/local/lib/python3.7/dist-packages/ipykernel_launcher.py:8: FutureWarning: Support for multi-dimensional indexing (e.g. `obj[:, None]`) is deprecated and will be removed in a future version.  Convert to a numpy array before indexing instead.\n",
            "  \n",
            "/usr/local/lib/python3.7/dist-packages/ipykernel_launcher.py:10: FutureWarning: Support for multi-dimensional indexing (e.g. `obj[:, None]`) is deprecated and will be removed in a future version.  Convert to a numpy array before indexing instead.\n",
            "  # Remove the CWD from sys.path while we load stuff.\n"
          ]
        },
        {
          "output_type": "stream",
          "name": "stdout",
          "text": [
            "age column's shape = (1046, 1)\n",
            "age_encoded's shape = (1046, 1)\n"
          ]
        }
      ]
    },
    {
      "cell_type": "code",
      "source": [
        "def get_category_encoding_layer(feature_name, dataset, dtype, max_tokens=None):\n",
        "  \"\"\"\n",
        "  Boilerplate code for encoding categorical features. These features can be as \n",
        "  finite number of string labels, in which case must assign max_tokens\n",
        "  \"\"\"\n",
        "  # Create a layer that turns strings into integer indices.\n",
        "  if dtype == 'string':\n",
        "    index = tf.keras.layers.StringLookup(max_tokens=max_tokens)\n",
        "  # Otherwise, create a layer that turns integer values into integer indices.\n",
        "  else:\n",
        "    index = tf.keras.layers.IntegerLookup(max_tokens=max_tokens)\n",
        "  # Prepare a `tf.data.Dataset` that only yields the feature.\n",
        "  feature_ds = dataset.map(lambda x, y: x[feature_name])\n",
        "  # Learn the set of possible values and assign them a fixed integer index.\n",
        "  index.adapt(feature_ds)\n",
        "  # Encode the integer indices.\n",
        "  encoder = tf.keras.layers.CategoryEncoding(num_tokens=index.vocabulary_size())\n",
        "  # Apply multi-hot encoding to the indices. The lambda function captures the\n",
        "  # layer, so you can use them, or include them in the Keras Functional model later.\n",
        "  return lambda feature: encoder(index(feature))\n",
        "\n",
        "def test_get_category_encoding_layer():\n",
        "  df= get_data(verbose=0)\n",
        "  train_ds, _, _ = prepare_train_val_test_ds(df, target='survived', shuffle=True, \n",
        "  val_frac=0.2, test_frac=0.2, batch_size=2, verbose=0)  \n",
        "\n",
        "  feature_name = 'features/pclass'\n",
        "  pclass_col = np.expand_dims(df[feature_name], axis=-1)\n",
        "  pclass_layer = get_category_encoding_layer(\n",
        "      feature_name='features/pclass', dataset=train_ds, dtype='int64')\n",
        "  pclass_encoded = pclass_layer(pclass_col)\n",
        "\n",
        "  print(f\"pclass_col.shape: {pclass_col.shape}, pclass_encoded.shape: {pclass_encoded.shape}\")\n",
        "  print(f\"pclass_encodes three values: \\n{pclass_encoded[:3]}\")\n",
        "\n",
        "if True:\n",
        "  test_get_category_encoding_layer()"
      ],
      "metadata": {
        "colab": {
          "base_uri": "https://localhost:8080/"
        },
        "id": "1xmLcSTeHq9-",
        "outputId": "f1ad329d-9e50-4a95-e774-aa0dc424e88a"
      },
      "execution_count": 7,
      "outputs": [
        {
          "output_type": "stream",
          "name": "stderr",
          "text": [
            "/usr/local/lib/python3.7/dist-packages/ipykernel_launcher.py:8: FutureWarning: Support for multi-dimensional indexing (e.g. `obj[:, None]`) is deprecated and will be removed in a future version.  Convert to a numpy array before indexing instead.\n",
            "  \n",
            "/usr/local/lib/python3.7/dist-packages/ipykernel_launcher.py:10: FutureWarning: Support for multi-dimensional indexing (e.g. `obj[:, None]`) is deprecated and will be removed in a future version.  Convert to a numpy array before indexing instead.\n",
            "  # Remove the CWD from sys.path while we load stuff.\n"
          ]
        },
        {
          "output_type": "stream",
          "name": "stdout",
          "text": [
            "pclass_col.shape: (1046, 1), pclass_encoded.shape: (1046, 4)\n",
            "pclass_encodes three values: \n",
            "[[0. 0. 0. 1.]\n",
            " [0. 1. 0. 0.]\n",
            " [0. 0. 0. 1.]]\n"
          ]
        }
      ]
    },
    {
      "cell_type": "code",
      "source": [
        "def create_inputs_and_features(train_ds, numerical_features=None, categorical_features=None):\n",
        "  all_inputs = [] # This will hold at Input layer shapes\n",
        "  encoded_features = [] # This will hold actual data in those inputs\n",
        "\n",
        "  # Numerical features.\n",
        "  for name in numerical_features:\n",
        "    numeric_col = tf.keras.Input(shape=(1,), name=name)\n",
        "    normalization_layer = get_normalization_layer(name, train_ds)\n",
        "    encoded_numeric_col = normalization_layer(numeric_col)\n",
        "    all_inputs.append(numeric_col)\n",
        "    encoded_features.append(encoded_numeric_col)\n",
        "\n",
        "  # Caltegorical Features\n",
        "  for name in categorical_features:\n",
        "    categorical_col = tf.keras.Input(shape=(1,), name=name, dtype='int64')\n",
        "    encoding_layer = get_category_encoding_layer(feature_name=name,\n",
        "                                                dataset=train_ds,\n",
        "                                                dtype='int64',\n",
        "                                                max_tokens=5)\n",
        "    encoded_categorical_col = encoding_layer(categorical_col)\n",
        "    all_inputs.append(categorical_col)\n",
        "    encoded_features.append(encoded_categorical_col)\n",
        "\n",
        "  feature_encoded_layers = tf.keras.layers.concatenate(encoded_features)\n",
        "  return all_inputs, feature_encoded_layers"
      ],
      "metadata": {
        "id": "O-iJwlGJ3AJp"
      },
      "execution_count": 8,
      "outputs": []
    },
    {
      "cell_type": "markdown",
      "source": [
        "## Model"
      ],
      "metadata": {
        "id": "JDs1lxkC559W"
      }
    },
    {
      "cell_type": "code",
      "source": [
        "def make_model(all_inputs, feature_encoded_layers, \n",
        "               optimizer=\"adam\",\n",
        "               loss=tf.keras.losses.BinaryCrossentropy(from_logits=True),\n",
        "               metrics=[\"accuracy\"]):\n",
        "  # Other layers will go here, but for logistic regression we don't need anything else\n",
        "  output = tf.keras.layers.Dense(1)(feature_encoded_layers)\n",
        "  model = tf.keras.Model(all_inputs, output)\n",
        "  model.compile(optimizer='adam', loss=loss, metrics=metrics)\n",
        "\n",
        "  return model\n",
        "\n",
        "if True:\n",
        "  df= get_data()\n",
        "  train_ds, _, _ = prepare_train_val_test_ds(df, target=TARGET, shuffle=True, \n",
        "  val_frac=0.2, test_frac=0.2, batch_size=2, verbose=0)  \n",
        "  all_inputs, feature_encoded_layers = create_inputs_and_features(train_ds, numerical_features, categorical_features)\n",
        "  model = make_model(all_inputs, feature_encoded_layers)\n"
      ],
      "metadata": {
        "colab": {
          "base_uri": "https://localhost:8080/"
        },
        "id": "ztuI8sPh58Fl",
        "outputId": "e70bce31-21b6-4765-c28c-e0c5f7f603ef"
      },
      "execution_count": 9,
      "outputs": [
        {
          "output_type": "stream",
          "name": "stderr",
          "text": [
            "/usr/local/lib/python3.7/dist-packages/ipykernel_launcher.py:8: FutureWarning: Support for multi-dimensional indexing (e.g. `obj[:, None]`) is deprecated and will be removed in a future version.  Convert to a numpy array before indexing instead.\n",
            "  \n",
            "/usr/local/lib/python3.7/dist-packages/ipykernel_launcher.py:10: FutureWarning: Support for multi-dimensional indexing (e.g. `obj[:, None]`) is deprecated and will be removed in a future version.  Convert to a numpy array before indexing instead.\n",
            "  # Remove the CWD from sys.path while we load stuff.\n"
          ]
        }
      ]
    },
    {
      "cell_type": "code",
      "source": [
        "# Use `rankdir='LR'` to make the graph horizontal.\n",
        "tf.keras.utils.plot_model(model, show_shapes=True, rankdir=\"LR\")"
      ],
      "metadata": {
        "colab": {
          "base_uri": "https://localhost:8080/",
          "height": 375
        },
        "id": "l9BOqu9W7Xsw",
        "outputId": "3b2cfb60-a639-4835-e329-fb24214874e5"
      },
      "execution_count": 10,
      "outputs": [
        {
          "output_type": "execute_result",
          "data": {
            "text/plain": [
              "<IPython.core.display.Image object>"
            ],
            "image/png": "[encoded data removed]"
          },
          "metadata": {},
          "execution_count": 10
        }
      ]
    },
    {
      "cell_type": "code",
      "source": [
        "def train_and_save_model(epochs=10, target='survived', save_as='titanic_classifier'):\n",
        "  df= get_data(verbose=0)\n",
        "  train_ds, val_ds, test_ds = prepare_train_val_test_ds(df, target, shuffle=True, \n",
        "  val_frac=0.2, test_frac=0.2, batch_size=2, verbose=0)  \n",
        "  all_inputs, feature_encoded_layers = \\\n",
        "  create_inputs_and_features(train_ds, numerical_features, categorical_features)\n",
        "  model = make_model(all_inputs, feature_encoded_layers)\n",
        "  model.fit(train_ds, epochs=epochs, validation_data=val_ds)\n",
        "  model.save(save_as)\n",
        "  return model, train_ds, val_ds, test_ds\n",
        "\n",
        "if True:\n",
        "  model, train_ds, val_ds, test_ds = train_and_save_model(10, TARGET)"
      ],
      "metadata": {
        "colab": {
          "base_uri": "https://localhost:8080/"
        },
        "id": "OfeVOwQV7mhI",
        "outputId": "6eced16f-ea29-40c8-c84c-73f38ef3cd98"
      },
      "execution_count": 11,
      "outputs": [
        {
          "output_type": "stream",
          "name": "stderr",
          "text": [
            "/usr/local/lib/python3.7/dist-packages/ipykernel_launcher.py:8: FutureWarning: Support for multi-dimensional indexing (e.g. `obj[:, None]`) is deprecated and will be removed in a future version.  Convert to a numpy array before indexing instead.\n",
            "  \n",
            "/usr/local/lib/python3.7/dist-packages/ipykernel_launcher.py:10: FutureWarning: Support for multi-dimensional indexing (e.g. `obj[:, None]`) is deprecated and will be removed in a future version.  Convert to a numpy array before indexing instead.\n",
            "  # Remove the CWD from sys.path while we load stuff.\n"
          ]
        },
        {
          "output_type": "stream",
          "name": "stdout",
          "text": [
            "Epoch 1/10\n"
          ]
        },
        {
          "output_type": "stream",
          "name": "stderr",
          "text": [
            "/usr/local/lib/python3.7/dist-packages/keras/engine/functional.py:559: UserWarning: Input dict contained keys ['features/boat', 'features/body', 'features/cabin', 'features/embarked', 'features/fare', 'features/home.dest', 'features/name', 'features/parch', 'features/sibsp', 'features/ticket'] which did not match any model input. They will be ignored by the model.\n",
            "  inputs = self._flatten_to_reference_inputs(inputs)\n"
          ]
        },
        {
          "output_type": "stream",
          "name": "stdout",
          "text": [
            "314/314 [==============================] - 2s 4ms/step - loss: 0.5408 - accuracy: 0.7592 - val_loss: 0.5191 - val_accuracy: 0.7560\n",
            "Epoch 2/10\n",
            "314/314 [==============================] - 1s 3ms/step - loss: 0.5147 - accuracy: 0.7719 - val_loss: 0.4996 - val_accuracy: 0.7656\n",
            "Epoch 3/10\n",
            "314/314 [==============================] - 1s 3ms/step - loss: 0.5008 - accuracy: 0.7735 - val_loss: 0.4885 - val_accuracy: 0.7751\n",
            "Epoch 4/10\n",
            "314/314 [==============================] - 1s 3ms/step - loss: 0.4924 - accuracy: 0.7799 - val_loss: 0.4813 - val_accuracy: 0.7895\n",
            "Epoch 5/10\n",
            "314/314 [==============================] - 1s 3ms/step - loss: 0.4870 - accuracy: 0.7847 - val_loss: 0.4765 - val_accuracy: 0.7895\n",
            "Epoch 6/10\n",
            "314/314 [==============================] - 1s 3ms/step - loss: 0.4831 - accuracy: 0.7847 - val_loss: 0.4730 - val_accuracy: 0.7895\n",
            "Epoch 7/10\n",
            "314/314 [==============================] - 1s 3ms/step - loss: 0.4804 - accuracy: 0.7847 - val_loss: 0.4703 - val_accuracy: 0.7943\n",
            "Epoch 8/10\n",
            "314/314 [==============================] - 1s 3ms/step - loss: 0.4784 - accuracy: 0.7879 - val_loss: 0.4683 - val_accuracy: 0.8038\n",
            "Epoch 9/10\n",
            "314/314 [==============================] - 1s 3ms/step - loss: 0.4769 - accuracy: 0.7863 - val_loss: 0.4666 - val_accuracy: 0.8038\n",
            "Epoch 10/10\n",
            "314/314 [==============================] - 1s 3ms/step - loss: 0.4757 - accuracy: 0.7847 - val_loss: 0.4653 - val_accuracy: 0.8038\n"
          ]
        },
        {
          "output_type": "stream",
          "name": "stderr",
          "text": [
            "WARNING:absl:Function `_wrapped_model` contains input name(s) features/age, features/pclass, features/sex with unsupported characters which will be renamed to features_age, features_pclass, features_sex in the SavedModel.\n"
          ]
        },
        {
          "output_type": "stream",
          "name": "stdout",
          "text": [
            "INFO:tensorflow:Assets written to: titanic_classifier/assets\n"
          ]
        },
        {
          "output_type": "stream",
          "name": "stderr",
          "text": [
            "INFO:tensorflow:Assets written to: titanic_classifier/assets\n"
          ]
        }
      ]
    },
    {
      "cell_type": "code",
      "source": [
        "loss, accuracy = model.evaluate(test_ds)\n",
        "print(\"Accuracy\", accuracy)"
      ],
      "metadata": {
        "colab": {
          "base_uri": "https://localhost:8080/"
        },
        "id": "F2AbYVjakvBQ",
        "outputId": "f97217d7-d1cd-4a11-b434-55d12af949e0"
      },
      "execution_count": 12,
      "outputs": [
        {
          "output_type": "stream",
          "name": "stdout",
          "text": [
            "105/105 [==============================] - 0s 2ms/step - loss: 0.4865 - accuracy: 0.7619\n",
            "Accuracy 0.761904776096344\n"
          ]
        }
      ]
    },
    {
      "cell_type": "code",
      "source": [
        "reloaded_model = tf.keras.models.load_model('titanic_classifier')"
      ],
      "metadata": {
        "id": "duXhJBr1kylg"
      },
      "execution_count": 13,
      "outputs": []
    },
    {
      "cell_type": "code",
      "source": [
        "new_sample = {\n",
        "    'features/age': 55,\n",
        "    'features/pclass': 3,\n",
        "    'features/sex': 0,\n",
        "}\n",
        "\n",
        "input_dict = {name: tf.convert_to_tensor([value]) for name, value in new_sample.items()}\n",
        "predictions = reloaded_model.predict(input_dict)\n",
        "\n",
        "# Since the output is just logits, not yet gone through the sigmoid, \n",
        "# we predict probability of survical by feeding into sigmoid for 0/1 binary decision.\n",
        "prob = tf.nn.sigmoid(predictions[0])\n",
        "\n",
        "print(f\"This passenger had a {prob[0]*100:.2f} pct probability of surviving.\")"
      ],
      "metadata": {
        "colab": {
          "base_uri": "https://localhost:8080/"
        },
        "id": "cIAP_vZnlSuY",
        "outputId": "ff05ea00-1ffd-4890-ba25-e31d1211fda8"
      },
      "execution_count": 14,
      "outputs": [
        {
          "output_type": "stream",
          "name": "stdout",
          "text": [
            "This passenger had a 20.62 pct probability of surviving.\n"
          ]
        }
      ]
    }
  ]
}