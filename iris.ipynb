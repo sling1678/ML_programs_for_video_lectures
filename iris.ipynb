{
  "nbformat": 4,
  "nbformat_minor": 0,
  "metadata": {
    "colab": {
      "provenance": [],
      "gpuType": "T4",
      "authorship_tag": "ABX9TyPJ1jaX0bgG1uAdvOTwqIWI",
      "include_colab_link": true
    },
    "kernelspec": {
      "name": "python3",
      "display_name": "Python 3"
    },
    "language_info": {
      "name": "python"
    }
  },
  "cells": [
    {
      "cell_type": "markdown",
      "metadata": {
        "id": "view-in-github",
        "colab_type": "text"
      },
      "source": [
        "<a href=\"https://colab.research.google.com/github/sling1678/ML_programs_for_video_lectures/blob/main/iris.ipynb\" target=\"_parent\"><img src=\"https://colab.research.google.com/assets/colab-badge.svg\" alt=\"Open In Colab\"/></a>"
      ]
    },
    {
      "cell_type": "markdown",
      "source": [
        "#Iris Classification Problem\n",
        "\n",
        "## Problem Statement: Given petal length, petal width, sepal length, and sepal width, can you tell whether the iris is setosa, virginica, or versicolor?\n",
        "\n",
        "## Making use of already existing example PyTorch code.\n",
        "###The quickstart example at the following website can be adapted to the iris classification problem with ease. \n",
        "https://pytorch.org/tutorials/beginner/basics/quickstart_tutorial.html\n",
        "\n",
        "### The data has 150 samples of setosa, virginica, or versicolor, each equally represented. You are tasked to use this data to build and test any statistical model. Your model should predict conditional probability, Prob(type=setosa|given pl,pw,sl,sw),  Prob(type=virginica|given pl,pw,sl,sw), and Prob(type=versicolor|given pl,pw,sl,sw).\n",
        "### The model presented here \n",
        "\n",
        "I will illustrate a feedforward neural network that has a single hiddlen layer with $n_h$ hidden neurons and an output layer with three neurons for the three classes corresponding to the thre iris types. Therefore, the network will have two weight matrices to learn the composite function:\n",
        "$$\n",
        "g( f\\left( X*W_1\\right) * W2 ),\n",
        "$$\n",
        "where $X$ is $[1,x_1, x_2, x_3, x_4]$, the extended 4-dimensional vector data, here. For $f$, we choose the ReLU unit. For $g$, we choose softmax to convert the argument of $g$ to probabiliy.\n",
        "\n",
        "The arbitrariness in decisions are (1) number of neuron units in the hidden layer and (2) the activation function ReLU used for nonlinearity, (3) the learning rate, (4) number of epochs to train, (5) batch size to use. I do not attempt to correct for overfitting since this program is elementary and for illustrative purposes only."
      ],
      "metadata": {
        "id": "Z6KrurenJ8qu"
      }
    },
    {
      "cell_type": "markdown",
      "source": [
        "## THE IMPORTS"
      ],
      "metadata": {
        "id": "5WF8T1kNSuF5"
      }
    },
    {
      "cell_type": "code",
      "execution_count": null,
      "metadata": {
        "id": "FetrnC3_uZkM"
      },
      "outputs": [],
      "source": [
        "#IMPORTS, device choice, and debugging mode\n",
        "from sklearn.datasets import load_iris\n",
        "from sklearn.model_selection import train_test_split\n",
        "from sklearn.preprocessing import StandardScaler\n",
        "\n",
        "import numpy as np\n",
        "import matplotlib.pyplot as plt\n",
        "\n",
        "from tqdm import tqdm # to use for progress bar\n",
        "\n",
        "import torch as T\n",
        "from torch import nn\n",
        "from torch.utils.data import DataLoader, TensorDataset\n",
        "import torch.nn.functional as F\n",
        "device = (\n",
        "    \"cuda\" if T.cuda.is_available()\n",
        "    else \"mps\" if T.backends.mps.is_available()\n",
        "    else \"cpu\"\n",
        ") #Note: MPS stands for Metal Performance Shaders backend for GPU training acceleration that PyTorch uses."
      ]
    },
    {
      "cell_type": "markdown",
      "source": [
        "## THE DEBUG FLAG"
      ],
      "metadata": {
        "id": "AqlIlVVtSyov"
      }
    },
    {
      "cell_type": "code",
      "source": [
        "# Set this to False to just run the final simulation\n",
        "DEBUG = False\n",
        "#---------------Check this panel and all above it -----\n",
        "if DEBUG:\n",
        "  print(f\"Device we are using is {device}\")"
      ],
      "metadata": {
        "id": "rbPiCQQ2kb_Q"
      },
      "execution_count": null,
      "outputs": []
    },
    {
      "cell_type": "markdown",
      "source": [
        "## DATA COLLECTION AND PREPARARATION"
      ],
      "metadata": {
        "id": "pwViMrfJS2c1"
      }
    },
    {
      "cell_type": "code",
      "source": [
        "# DATA COLLECTION AND DATA PREPROCESSING\n",
        "iris = load_iris()\n",
        "def shuffle_downloaded_data_and_set_aside_test_data(iris, test_size=0.25, verbose=True):\n",
        "  X = iris['data']\n",
        "  Y = iris['target']\n",
        "  target_names = iris['target_names']\n",
        "  feature_names = iris['feature_names']\n",
        "\n",
        "  # randomly shuffle the data\n",
        "  Z = np.concatenate((X, Y[:,None]),axis=1)\n",
        "  if verbose:\n",
        "    print(f\"Check if X and y are concatenated : {Z[:3,:]}\")\n",
        "  np.random.shuffle(Z)\n",
        "  if verbose:\n",
        "    print(f\"Check if data is shuffled compared to above : {Z[:3,:]}\")\n",
        "  X, y = Z[:,:-1], Z[:,-1]\n",
        "  if verbose:\n",
        "    print(f\"Check if X and y got properly separated {X[:3]}, {y[:3]}\")\n",
        "  # SET ASIDE A TEST SET - NEVER LOOK INSIDE THAT DATA ***\n",
        "  X_train, X_test, y_train, y_test = train_test_split(\n",
        "    X, y, test_size=test_size, random_state=42)\n",
        "  if verbose:\n",
        "    print(f\"X_train.shape = {X_train.shape}, y_train.shape = {y_train.shape}, \"+\n",
        "        f\"X_test.shape = {X_test.shape}, y_test.shape = {y_test.shape}\")\n",
        "  return X_train, y_train, X_test, y_test, target_names, feature_names\n",
        "\n",
        "def preprocess_data(X_train, y_train, X_test=None, y_test=None, verbose=True):\n",
        "  # We scale the X data to have mean 0 and variance 1 by using the X_train\n",
        "  scaler = StandardScaler()\n",
        "  scaler.fit(X_train) # this extracts parameters of scaler from X_train\n",
        "  X_train = scaler.transform(X_train)\n",
        "  if X_test is not None:\n",
        "    X_test = scaler.transform(X_test)\n",
        "  scaler.get_params\n",
        "  if verbose:\n",
        "    print(f\"Preprocess params: mean = {scaler.mean_}, var = {scaler.var_}\")\n",
        "  return X_train, y_train, X_test, y_test\n",
        "\n",
        "\n",
        "\n",
        "#---------------Check this panel and all above it -----\n",
        "if DEBUG:\n",
        "  X_train, y_train, X_test, y_test, target_names, feature_names =\\\n",
        "    shuffle_downloaded_data_and_set_aside_test_data(iris, test_size=0.25)\n",
        "  X_train, y_train, X_test, y_test = preprocess_data(X_train, y_train, X_test, y_test)"
      ],
      "metadata": {
        "id": "sBRiqRq5MXhA"
      },
      "execution_count": null,
      "outputs": []
    },
    {
      "cell_type": "markdown",
      "source": [
        "## DATA VISUALIZATION"
      ],
      "metadata": {
        "id": "1n42hAVnS_L4"
      }
    },
    {
      "cell_type": "code",
      "source": [
        "# VISUALIZE THE DATA TO GAIN INSIGHT\n",
        "\n",
        "def make_plots(X, Y, names):\n",
        "  \"\"\"\n",
        "  This function makes pair plots for the three types and displays them.\n",
        "  You can see in which plane the data appears to be separable.\n",
        "  \"\"\"\n",
        "\n",
        "  fig, ax = plt.subplots(3, 2, figsize=(16, 8))\n",
        "\n",
        "  feature_pairs = [([0,1], [0,2]), ([0,3], [1,2]), ([1,3], [2,3])]\n",
        "  def plotone(fig, ax, X, Y, names, features):\n",
        "    markers=['o', 's', '^']\n",
        "    for index, target_name in enumerate(names):\n",
        "      X_plot = X[Y == index]\n",
        "      ax.plot(X_plot[:, features[0]], X_plot[:, features[1]], \n",
        "              linestyle='none', \n",
        "              marker= markers[index], \n",
        "              label=target_name)\n",
        "    ax.set_xlabel(feature_names[features[0]])\n",
        "    ax.set_ylabel(feature_names[features[1]])\n",
        "    ax.axis('equal')\n",
        "    ax.legend();\n",
        "  \n",
        "  for i, (ax1, ax2) in  enumerate(ax): # plot each row of plots\n",
        "    pair1, pair2 = feature_pairs[i]\n",
        "    plotone(fig, ax1, X, Y, names, features=pair1)\n",
        "    plotone(fig, ax2, X, Y, names, features=pair2)\n",
        "\n",
        "  fig.tight_layout(pad=2.0)\n",
        "\n",
        "# check this panel\n",
        "if DEBUG:\n",
        "  make_plots(X_train, y_train, target_names) # you better never look inside X_test and y_test\n"
      ],
      "metadata": {
        "id": "_3Q-FuSSytFB"
      },
      "execution_count": null,
      "outputs": []
    },
    {
      "cell_type": "markdown",
      "source": [],
      "metadata": {
        "id": "Nt5ZXlatTEEZ"
      }
    },
    {
      "cell_type": "markdown",
      "source": [
        "## CREATE DATALOADERS FOR USE IN PYTORCH MODELS"
      ],
      "metadata": {
        "id": "n9q-Ng-UTYpW"
      }
    },
    {
      "cell_type": "code",
      "source": [
        "# DATALOADERS FOR USE IN PYTORCH MODELS\n",
        "def prepare_dataloaders(X_train, y_train, X_test=None, y_test=None, batch_size=8, verbose=True):\n",
        "\n",
        "  train_ds = TensorDataset(T.Tensor(X_train), T.Tensor(y_train).to(T.int64))\n",
        "  train_loader = DataLoader(train_ds , batch_size = batch_size, shuffle=True)\n",
        "  \n",
        "  if X_test is not None and y_test is not None:\n",
        "    test_ds = TensorDataset(T.Tensor(X_test), T.Tensor(y_test).to(T.int64))\n",
        "    test_loader = DataLoader(test_ds , batch_size = batch_size, shuffle=False)\n",
        "  else:\n",
        "    test_loader = None\n",
        "\n",
        "  if verbose:\n",
        "    for X, y in train_loader:\n",
        "      print(f\"Shape of X_train : {X.shape} should be [batch_size, features]\")\n",
        "      print(f\"Shape and dtype of y_test : {y.shape} {y.dtype} should be [batch_size], int64\")\n",
        "      break\n",
        "  return train_loader, test_loader\n",
        "\n",
        "\n",
        "def get_and_process_data_into_dataloaders(test_size=0.25, batch_size=8, verbose=True):\n",
        "  # Package all requisite functions into one function that yields the dataloaders\n",
        "  iris = load_iris()\n",
        "  X_train, y_train, X_test, y_test, target_names, feature_names =\\\n",
        "    shuffle_downloaded_data_and_set_aside_test_data(iris, test_size=0.25, verbose=verbose)\n",
        "  X_train, y_train, X_test, y_test = preprocess_data(X_train, y_train, X_test, y_test, verbose=verbose)\n",
        "  train_loader, test_loader = prepare_dataloaders(X_train, y_train, X_test, y_test, batch_size=batch_size, verbose=verbose)\n",
        "  return train_loader, test_loader\n",
        "#---------------Check this panel and all above it -----\n",
        "if DEBUG:\n",
        "  train_loader, test_loader = prepare_dataloaders(X_train, y_train, X_test, y_test)"
      ],
      "metadata": {
        "id": "_PbYlYRU7J7a"
      },
      "execution_count": null,
      "outputs": []
    },
    {
      "cell_type": "markdown",
      "source": [
        "## DEFINE MODEL"
      ],
      "metadata": {
        "id": "45mfqY1_Th2J"
      }
    },
    {
      "cell_type": "code",
      "source": [
        "# Define model\n",
        "class NeuralNetwork(T.nn.Module):\n",
        "  \"\"\"\n",
        "  Our example netwrok has only one hidden layer. \n",
        "  We will need to supply the number of units in that layer to initialize \n",
        "  an instance of this model.\n",
        "  \"\"\"\n",
        "  def __init__(self, hidden_units):\n",
        "    super(NeuralNetwork, self).__init__() \n",
        "    self.hidden = T.nn.Linear(4, hidden_units)  \n",
        "    self.output = T.nn.Linear(hidden_units, 3)\n",
        "\n",
        "    # initialize parameters\n",
        "    T.nn.init.xavier_uniform_(self.hidden.weight)\n",
        "    T.nn.init.zeros_(self.hidden.bias)\n",
        "    T.nn.init.xavier_uniform_(self.output.weight)\n",
        "    T.nn.init.zeros_(self.output.bias)\n",
        "\n",
        "  def forward(self, x):\n",
        "    z = T.relu(self.hidden(x))\n",
        "    z = self.output(z) # output the logits\n",
        "    return z\n",
        "#---------------Check this panel and all above it -----\n",
        "if DEBUG:\n",
        "  model = NeuralNetwork(hidden_units).to(device)\n",
        "  print(f\"Model architecture: {model}\")\n",
        "  for X,y in train_loader:\n",
        "    print(\"The logits output of three samples from one batch\")\n",
        "    print(model(X)[:3])\n",
        "    break"
      ],
      "metadata": {
        "id": "4lpXvUpNI3Pm"
      },
      "execution_count": null,
      "outputs": []
    },
    {
      "cell_type": "markdown",
      "source": [
        "## THE TRAINING LOOP CALCULATIONS"
      ],
      "metadata": {
        "id": "rGk8tN_STluI"
      }
    },
    {
      "cell_type": "code",
      "source": [
        "# Define Training Loop\n",
        "def train(dataloader, model, loss_fn, optimizer):\n",
        "    size = len(dataloader.dataset)\n",
        "    model.train()\n",
        "\n",
        "    train_loss = 0\n",
        "    for batch, (X, y) in enumerate(dataloader):\n",
        "        X, y = X.to(device), y.to(device)\n",
        "\n",
        "        # Compute prediction error\n",
        "        pred = model(X)\n",
        "        loss = loss_fn(pred, y)\n",
        "\n",
        "        # Backpropagation\n",
        "        loss.backward()\n",
        "        optimizer.step()\n",
        "        optimizer.zero_grad() # after updating weights, need to reset the optimizer\n",
        "\n",
        "        # Record the loss\n",
        "        train_loss += loss.item()\n",
        "    train_loss /= size\n",
        "\n",
        "    return train_loss\n"
      ],
      "metadata": {
        "id": "THxVmlmPBcGt"
      },
      "execution_count": null,
      "outputs": []
    },
    {
      "cell_type": "markdown",
      "source": [
        "## TESTING THE TRAINED MODEL AFTER EPOCHS"
      ],
      "metadata": {
        "id": "NLf2oiDdTqlj"
      }
    },
    {
      "cell_type": "code",
      "source": [
        "# TEST\n",
        "def test(dataloader, model, loss_fn):\n",
        "    size = len(dataloader.dataset)\n",
        "    num_batches = len(dataloader)\n",
        "    model.eval()\n",
        "    test_loss, correct = 0, 0\n",
        "    with T.no_grad():\n",
        "        for X, y in dataloader:\n",
        "            X, y = X.to(device), y.to(device)\n",
        "            pred = model(X)\n",
        "            test_loss += loss_fn(pred, y).item()\n",
        "            correct += (pred.argmax(1) == y).type(T.float).sum().item()\n",
        "    test_loss /= size\n",
        "    correct /= size\n",
        "    return test_loss, correct"
      ],
      "metadata": {
        "id": "n0_OKfa4BtJX"
      },
      "execution_count": null,
      "outputs": []
    },
    {
      "cell_type": "markdown",
      "source": [
        "## FINAL FUNCTION TO RUN THE SIMULATION"
      ],
      "metadata": {
        "id": "aDRLtbwCT2wv"
      }
    },
    {
      "cell_type": "code",
      "source": [
        "# RUN\n",
        "hyperparams = dict()\n",
        "hyperparams['learning_rate'] = 1e-3\n",
        "hyperparams['layer_units'] = [32]\n",
        "hyperparams['batch_size'] = 8\n",
        "hyperparams['epochs'] = 200\n",
        "learning_rate = hyperparams['learning_rate']\n",
        "hidden_units = hyperparams['layer_units'][0]\n",
        "batch_size = hyperparams['batch_size']\n",
        "epochs =  hyperparams['epochs']\n",
        "\n",
        "def run_simulation(hyperparams, write_nepochs=20, test_size=0.25, verbose=True):\n",
        "  # Get and process data\n",
        "  train_loader, test_loader = get_and_process_data_into_dataloaders(\\\n",
        "      test_size=test_size, batch_size=hyperparams['batch_size'], verbose=verbose)\n",
        "  # get an instance of model\n",
        "  model = NeuralNetwork(hyperparams['layer_units'][0]).to(device)\n",
        "  # Pick LOSS AND OPTIMZER; LOSS FUNCTION will be nn.CrossEntropyLoss() \n",
        "  loss_fn = nn.CrossEntropyLoss()\n",
        "  optimizer = T.optim.Adam(model.parameters(), lr=hyperparams['learning_rate'])\n",
        "  \n",
        "  # results collectors\n",
        "  err_in=[] # training loss\n",
        "  err_out=[] # test loss\n",
        "  acc = [] # test accuracy\n",
        "\n",
        "  for t in tqdm(range(hyperparams['epochs']+1)):\n",
        "      train_loss = train(train_loader, model, loss_fn, optimizer)\n",
        "      err_in.append((t+1, train_loss))\n",
        "      if test_loader is not None:\n",
        "        test_loss, correct = test(test_loader, model, loss_fn)\n",
        "        err_out.append((t+1, test_loss))\n",
        "        acc.append((t+1, correct ))\n",
        "      if verbose:\n",
        "        if t%write_nepochs == 0:\n",
        "          print(f\"Epoch {t+1}: train_loss = {train_loss:>7f},\"+\n",
        "                f\"test_loss = {test_loss:>7f}, Accuracy: {(100*correct):>0.1f}%\")\n",
        "\n",
        "  return err_in, err_out, acc\n",
        "\n",
        "def plot_results(err_in, err_out, acc, save=True):\n",
        "\n",
        "  # extract [x,y] for three plots\n",
        "  err_train = []\n",
        "  err_test = []\n",
        "  acc_test = []\n",
        "  for elem in err_in:\n",
        "    #err_train.append([elem[0], elem[1].detach().numpy()])\n",
        "    err_train.append([elem[0], elem[1]])\n",
        "  for elem in err_out:\n",
        "    err_test.append([elem[0], elem[1]])\n",
        "  for elem in acc:\n",
        "    acc_test.append([elem[0], elem[1]])\n",
        "\n",
        "  ep = [a for a,b in err_train]\n",
        "  ein = [b for a,b in err_train]\n",
        "  eout = [b for a,b in err_test]\n",
        "  acc = [b for a,b in acc_test]\n",
        "\n",
        "  # set up figure and axes\n",
        "\n",
        "  fig, ax1 = plt.subplots(1, 1, figsize=(12, 8))\n",
        "\n",
        "  markers=['o', 's', '^']\n",
        "  p1 = ax1.plot(ep, ein, \n",
        "    linestyle='none', color='tab:red', marker= markers[0], label='Err_train')\n",
        "  p2 = ax1.plot(ep, eout, \n",
        "    linestyle='none', color='tab:blue', marker= markers[1], label='Err_test')\n",
        "  \n",
        "  ax2 = ax1.twinx()  # instantiate a second axes that shares the same x-axis\n",
        "  p3 = ax2.plot(ep, acc, \n",
        "    linestyle='none', color='tab:green', marker= markers[2], label='Accuracy')    \n",
        "  ax1.set_xlabel('Epoch')\n",
        "  ax1.set_ylabel('Error')\n",
        "  ax2.set_ylabel('Accuracy', color='tab:green')\n",
        "  #ax.axis('equal')\n",
        "  \n",
        "  plots = p1+p2+p3\n",
        "  labels = [p.get_label() for p in plots]\n",
        "  ax1.legend(plots, labels, loc='center right')\n",
        "\n",
        "  fig.tight_layout()  # otherwise the right y-label is slightly clipped\n",
        "  if save:\n",
        "    import time\n",
        "    timestr = time.strftime(\"%Y%m%d-%H%M%S\")\n",
        "    plt.savefig(f\"iris-errors-accuracy-{timestr}.png\")\n",
        "  plt.show()\n",
        "\n",
        "\n",
        "\n",
        "#--------------------\n",
        "err_in, err_out, acc = run_simulation(hyperparams, verbose=False)\n",
        "plot_results(err_in, err_out, acc, save=True)"
      ],
      "metadata": {
        "colab": {
          "base_uri": "https://localhost:8080/",
          "height": 824
        },
        "id": "OXT46WfqBzW_",
        "outputId": "68637e39-19b8-4d8d-f4b8-03de4aa1cba0"
      },
      "execution_count": null,
      "outputs": [
        {
          "output_type": "stream",
          "name": "stderr",
          "text": [
            "100%|██████████| 201/201 [00:05<00:00, 39.78it/s]\n"
          ]
        },
        {
          "output_type": "display_data",
          "data": {
            "text/plain": [
              "<Figure size 1200x800 with 2 Axes>"
            ],
            "image/png": "[encoded data removed]"
          },
          "metadata": {}
        }
      ]
    }
  ]
}