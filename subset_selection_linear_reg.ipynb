{
  "nbformat": 4,
  "nbformat_minor": 0,
  "metadata": {
    "colab": {
      "name": "subset_selection_linear_reg.ipynb",
      "provenance": [],
      "collapsed_sections": [],
      "authorship_tag": "ABX9TyN0SqTCdGr+pT3IZwLiDDhC",
      "include_colab_link": true
    },
    "kernelspec": {
      "name": "python3",
      "display_name": "Python 3"
    },
    "language_info": {
      "name": "python"
    }
  },
  "cells": [
    {
      "cell_type": "markdown",
      "metadata": {
        "id": "view-in-github",
        "colab_type": "text"
      },
      "source": [
        "<a href=\"https://colab.research.google.com/github/sling1678/ML_programs_for_video_lectures/blob/main/subset_selection_linear_reg.ipynb\" target=\"_parent\"><img src=\"https://colab.research.google.com/assets/colab-badge.svg\" alt=\"Open In Colab\"/></a>"
      ]
    },
    {
      "cell_type": "markdown",
      "source": [
        "# Illustration of Subset Selection and Forward Step Selection strategies for dimensional reduction\n",
        "\n",
        "We will use the prostate cancer data referred to in the Elements of Statistical Learning (ESL). The data has eight-dimensional predictor\n",
        "\n",
        "x_1 = log of cancer volume (lcavol); NUMERICAL\n",
        "\n",
        "x_2 = log of prostate weight (lweight); NUMERICAL\n",
        "\n",
        "x_3 = age (age); NUMERICAL\n",
        "\n",
        "x_4 = log of amount of benign prostatic hyperplasia (lbph); NUMERICAL\n",
        "\n",
        "x_5 = seminal vesicle invasion (svi); INTEGER_CATEGORICAL\n",
        "\n",
        "x_6 = log of capsular penetration (lcp); NUMERICAL\n",
        "\n",
        "x_7 = Gleason score (gleason); INTEGER_CATEGORICAL\n",
        "\n",
        "x_8 = percent of Gleason scores 4 or 5 (pgg45). NUMERICAL\n",
        "\n",
        "Fig. 3.5 in ESL shows that 3 or 4 captures most of the predictive power as judged by residual sum of squares.\n",
        "\n",
        "## Subset Selection is an important step. You have to be careful in choosing the metric that is more likely to give a reliable importance of each variable added. The present data is well-suited for linear regression and so, Redual of Sum-of-Squares is appropriate here."
      ],
      "metadata": {
        "id": "BaMFAaGOyOx4"
      }
    },
    {
      "cell_type": "code",
      "execution_count": 1,
      "metadata": {
        "id": "frz_bSSExUt6"
      },
      "outputs": [],
      "source": [
        "#IMPORTS\n",
        "import numpy as np\n",
        "import pandas as pd\n",
        "import matplotlib.pyplot as plt\n",
        "import collections\n",
        "import itertools\n",
        "\n",
        "from sklearn import linear_model # This will save time\n",
        "from sklearn.metrics import mean_squared_error\n",
        "#-----------------"
      ]
    },
    {
      "cell_type": "markdown",
      "source": [
        "# Get Data"
      ],
      "metadata": {
        "id": "LzLyoTLsyEFC"
      }
    },
    {
      "cell_type": "code",
      "source": [
        "# Dataframe for this project\n",
        "DATA_URL = \"https://hastie.su.domains/ElemStatLearn/datasets/prostate.data\"\n",
        "df = pd.read_csv(DATA_URL, sep='\\t') \n",
        "\n",
        "TARGET = ['lpsa']\n",
        "ALL_FEATURES = ['lcavol', 'lweight', 'age', 'lbph', 'svi', 'lcp', 'gleason', 'pgg45']\n",
        "TRAINING_SET_SELECTION = ['train']\n",
        "df = df[ALL_FEATURES + TARGET + TRAINING_SET_SELECTION] # drops fictitious columns\n",
        "df.head(3)# check"
      ],
      "metadata": {
        "colab": {
          "base_uri": "https://localhost:8080/",
          "height": 143
        },
        "id": "OwDfwje-zs73",
        "outputId": "975d728d-0f7c-4eda-8e1e-32563333cdec"
      },
      "execution_count": 2,
      "outputs": [
        {
          "output_type": "execute_result",
          "data": {
            "text/plain": [
              "     lcavol   lweight  age      lbph  svi       lcp  gleason  pgg45      lpsa  \\\n",
              "0 -0.579818  2.769459   50 -1.386294    0 -1.386294        6      0 -0.430783   \n",
              "1 -0.994252  3.319626   58 -1.386294    0 -1.386294        6      0 -0.162519   \n",
              "2 -0.510826  2.691243   74 -1.386294    0 -1.386294        7     20 -0.162519   \n",
              "\n",
              "  train  \n",
              "0     T  \n",
              "1     T  \n",
              "2     T  "
            ],
            "text/html": [
              "\n",
              "  <div id=\"df-fda31525-b290-40b2-98a5-731f82b7819b\">\n",
              "    <div class=\"colab-df-container\">\n",
              "      <div>\n",
              "<style scoped>\n",
              "    .dataframe tbody tr th:only-of-type {\n",
              "        vertical-align: middle;\n",
              "    }\n",
              "\n",
              "    .dataframe tbody tr th {\n",
              "        vertical-align: top;\n",
              "    }\n",
              "\n",
              "    .dataframe thead th {\n",
              "        text-align: right;\n",
              "    }\n",
              "</style>\n",
              "<table border=\"1\" class=\"dataframe\">\n",
              "  <thead>\n",
              "    <tr style=\"text-align: right;\">\n",
              "      <th></th>\n",
              "      <th>lcavol</th>\n",
              "      <th>lweight</th>\n",
              "      <th>age</th>\n",
              "      <th>lbph</th>\n",
              "      <th>svi</th>\n",
              "      <th>lcp</th>\n",
              "      <th>gleason</th>\n",
              "      <th>pgg45</th>\n",
              "      <th>lpsa</th>\n",
              "      <th>train</th>\n",
              "    </tr>\n",
              "  </thead>\n",
              "  <tbody>\n",
              "    <tr>\n",
              "      <th>0</th>\n",
              "      <td>-0.579818</td>\n",
              "      <td>2.769459</td>\n",
              "      <td>50</td>\n",
              "      <td>-1.386294</td>\n",
              "      <td>0</td>\n",
              "      <td>-1.386294</td>\n",
              "      <td>6</td>\n",
              "      <td>0</td>\n",
              "      <td>-0.430783</td>\n",
              "      <td>T</td>\n",
              "    </tr>\n",
              "    <tr>\n",
              "      <th>1</th>\n",
              "      <td>-0.994252</td>\n",
              "      <td>3.319626</td>\n",
              "      <td>58</td>\n",
              "      <td>-1.386294</td>\n",
              "      <td>0</td>\n",
              "      <td>-1.386294</td>\n",
              "      <td>6</td>\n",
              "      <td>0</td>\n",
              "      <td>-0.162519</td>\n",
              "      <td>T</td>\n",
              "    </tr>\n",
              "    <tr>\n",
              "      <th>2</th>\n",
              "      <td>-0.510826</td>\n",
              "      <td>2.691243</td>\n",
              "      <td>74</td>\n",
              "      <td>-1.386294</td>\n",
              "      <td>0</td>\n",
              "      <td>-1.386294</td>\n",
              "      <td>7</td>\n",
              "      <td>20</td>\n",
              "      <td>-0.162519</td>\n",
              "      <td>T</td>\n",
              "    </tr>\n",
              "  </tbody>\n",
              "</table>\n",
              "</div>\n",
              "      <button class=\"colab-df-convert\" onclick=\"convertToInteractive('df-fda31525-b290-40b2-98a5-731f82b7819b')\"\n",
              "              title=\"Convert this dataframe to an interactive table.\"\n",
              "              style=\"display:none;\">\n",
              "        \n",
              "  <svg xmlns=\"http://www.w3.org/2000/svg\" height=\"24px\"viewBox=\"0 0 24 24\"\n",
              "       width=\"24px\">\n",
              "    <path d=\"M0 0h24v24H0V0z\" fill=\"none\"/>\n",
              "    <path d=\"M18.56 5.44l.94 2.06.94-2.06 2.06-.94-2.06-.94-.94-2.06-.94 2.06-2.06.94zm-11 1L8.5 8.5l.94-2.06 2.06-.94-2.06-.94L8.5 2.5l-.94 2.06-2.06.94zm10 10l.94 2.06.94-2.06 2.06-.94-2.06-.94-.94-2.06-.94 2.06-2.06.94z\"/><path d=\"M17.41 7.96l-1.37-1.37c-.4-.4-.92-.59-1.43-.59-.52 0-1.04.2-1.43.59L10.3 9.45l-7.72 7.72c-.78.78-.78 2.05 0 2.83L4 21.41c.39.39.9.59 1.41.59.51 0 1.02-.2 1.41-.59l7.78-7.78 2.81-2.81c.8-.78.8-2.07 0-2.86zM5.41 20L4 18.59l7.72-7.72 1.47 1.35L5.41 20z\"/>\n",
              "  </svg>\n",
              "      </button>\n",
              "      \n",
              "  <style>\n",
              "    .colab-df-container {\n",
              "      display:flex;\n",
              "      flex-wrap:wrap;\n",
              "      gap: 12px;\n",
              "    }\n",
              "\n",
              "    .colab-df-convert {\n",
              "      background-color: #E8F0FE;\n",
              "      border: none;\n",
              "      border-radius: 50%;\n",
              "      cursor: pointer;\n",
              "      display: none;\n",
              "      fill: #1967D2;\n",
              "      height: 32px;\n",
              "      padding: 0 0 0 0;\n",
              "      width: 32px;\n",
              "    }\n",
              "\n",
              "    .colab-df-convert:hover {\n",
              "      background-color: #E2EBFA;\n",
              "      box-shadow: 0px 1px 2px rgba(60, 64, 67, 0.3), 0px 1px 3px 1px rgba(60, 64, 67, 0.15);\n",
              "      fill: #174EA6;\n",
              "    }\n",
              "\n",
              "    [theme=dark] .colab-df-convert {\n",
              "      background-color: #3B4455;\n",
              "      fill: #D2E3FC;\n",
              "    }\n",
              "\n",
              "    [theme=dark] .colab-df-convert:hover {\n",
              "      background-color: #434B5C;\n",
              "      box-shadow: 0px 1px 3px 1px rgba(0, 0, 0, 0.15);\n",
              "      filter: drop-shadow(0px 1px 2px rgba(0, 0, 0, 0.3));\n",
              "      fill: #FFFFFF;\n",
              "    }\n",
              "  </style>\n",
              "\n",
              "      <script>\n",
              "        const buttonEl =\n",
              "          document.querySelector('#df-fda31525-b290-40b2-98a5-731f82b7819b button.colab-df-convert');\n",
              "        buttonEl.style.display =\n",
              "          google.colab.kernel.accessAllowed ? 'block' : 'none';\n",
              "\n",
              "        async function convertToInteractive(key) {\n",
              "          const element = document.querySelector('#df-fda31525-b290-40b2-98a5-731f82b7819b');\n",
              "          const dataTable =\n",
              "            await google.colab.kernel.invokeFunction('convertToInteractive',\n",
              "                                                     [key], {});\n",
              "          if (!dataTable) return;\n",
              "\n",
              "          const docLinkHtml = 'Like what you see? Visit the ' +\n",
              "            '<a target=\"_blank\" href=https://colab.research.google.com/notebooks/data_table.ipynb>data table notebook</a>'\n",
              "            + ' to learn more about interactive tables.';\n",
              "          element.innerHTML = '';\n",
              "          dataTable['output_type'] = 'display_data';\n",
              "          await google.colab.output.renderOutput(dataTable, element);\n",
              "          const docLink = document.createElement('div');\n",
              "          docLink.innerHTML = docLinkHtml;\n",
              "          element.appendChild(docLink);\n",
              "        }\n",
              "      </script>\n",
              "    </div>\n",
              "  </div>\n",
              "  "
            ]
          },
          "metadata": {},
          "execution_count": 2
        }
      ]
    },
    {
      "cell_type": "code",
      "source": [
        "# Remove extra columns in the data \n",
        "def clean_df(df, dropcols=None):\n",
        "  if dropcols is not None:\n",
        "    for col in dropcols:\n",
        "      if col in df.columns:\n",
        "        df.drop(col, axis=1, inplace=True)\n",
        "  return df  \n",
        "\n",
        "def prepare_train_and_test_sets(df):\n",
        "  # special for this dataset; datapoints to be used in training\n",
        "  # are labeled in a separate calumn with letter 'T'\n",
        "  train_col_name, train_value=\"train\",\"T\"\n",
        "  train = df[df[train_col_name]==train_value].copy()\n",
        "  train.drop(columns=[train_col_name], axis=1, inplace=True)\n",
        "  train.reset_index(drop=True, inplace=True)\n",
        "\n",
        "  test = df[df[train_col_name]!=train_value].copy()\n",
        "  test.drop(columns=[train_col_name], axis=1, inplace=True)\n",
        "  test.reset_index(drop=True, inplace=True)\n",
        "  return train, test\n",
        "#-------------------------------------------------------\n",
        "train, test = prepare_train_and_test_sets(df)\n",
        "\n",
        "print(f\"full dataframe shape:{df.shape}\")\n",
        "print(f\"train dataframe shape:{train.shape}\")\n",
        "print(f\"test dataframe shape:{test.shape}\")\n",
        "print(f\"train dataframe first two rows:\\n{train.head(2)}\")"
      ],
      "metadata": {
        "colab": {
          "base_uri": "https://localhost:8080/"
        },
        "id": "j09kzz9yz_Q3",
        "outputId": "10564777-5e55-4985-8a7a-2929c23a75dc"
      },
      "execution_count": 3,
      "outputs": [
        {
          "output_type": "stream",
          "name": "stdout",
          "text": [
            "full dataframe shape:(97, 10)\n",
            "train dataframe shape:(67, 9)\n",
            "test dataframe shape:(30, 9)\n",
            "train dataframe first two rows:\n",
            "     lcavol   lweight  age      lbph  svi       lcp  gleason  pgg45      lpsa\n",
            "0 -0.579818  2.769459   50 -1.386294    0 -1.386294        6      0 -0.430783\n",
            "1 -0.994252  3.319626   58 -1.386294    0 -1.386294        6      0 -0.162519\n"
          ]
        }
      ]
    },
    {
      "cell_type": "code",
      "source": [
        "# Preprocessing- here only normalizing the train and test datasets based on train\n",
        "def preprocess_params(train, features):\n",
        "  means = train[features].mean()\n",
        "  stds = train[features].std()\n",
        "  return means, stds\n",
        "def preprocess(train, test, features):\n",
        "  means, stds = preprocess_params(train, features)\n",
        "  train[features] = (train[features]-means)/stds\n",
        "  test[features] = (test[features]-means)/stds\n",
        "  return train, test\n",
        "#-------------------------------------------------------\n",
        "train, test = preprocess(train, test, features=ALL_FEATURES)\n",
        "print(train.describe()) # check that mean and std are properly normalized"
      ],
      "metadata": {
        "colab": {
          "base_uri": "https://localhost:8080/"
        },
        "id": "yhhu-dIQ1RwO",
        "outputId": "9e4c103e-15f9-4776-ef4f-d6e02f510edf"
      },
      "execution_count": 4,
      "outputs": [
        {
          "output_type": "stream",
          "name": "stdout",
          "text": [
            "             lcavol       lweight           age          lbph           svi  \\\n",
            "count  6.700000e+01  6.700000e+01  6.700000e+01  6.700000e+01  6.700000e+01   \n",
            "mean   2.319869e-17  9.213194e-16 -8.268676e-16  2.651279e-17 -1.325639e-17   \n",
            "std    1.000000e+00  1.000000e+00  1.000000e+00  1.000000e+00  1.000000e+00   \n",
            "min   -2.141144e+00 -2.625262e+00 -3.165237e+00 -9.959549e-01 -5.330630e-01   \n",
            "25%   -6.641068e-01 -6.205365e-01 -4.993555e-01 -9.959549e-01 -5.330630e-01   \n",
            "50%    1.242427e-01 -5.754646e-02  3.382089e-02 -8.385392e-02 -5.330630e-01   \n",
            "75%    8.333990e-01  5.402893e-01  5.669972e-01  1.008480e+00 -5.330630e-01   \n",
            "max    2.017972e+00  2.421891e+00  1.899938e+00  1.540569e+00  1.847952e+00   \n",
            "\n",
            "                lcp       gleason         pgg45       lpsa  \n",
            "count  6.700000e+01  6.700000e+01  6.700000e+01  67.000000  \n",
            "mean  -3.314099e-18  5.120282e-16 -1.325639e-17   2.452345  \n",
            "std    1.000000e+00  1.000000e+00  1.000000e+00   1.207812  \n",
            "min   -8.367687e-01 -1.031712e+00 -8.964872e-01  -0.430783  \n",
            "25%   -8.367687e-01 -1.031712e+00 -8.964872e-01   1.667306  \n",
            "50%   -4.171414e-01  3.789964e-01 -3.845726e-01   2.568788  \n",
            "75%    8.631150e-01  3.789964e-01  8.098947e-01   3.365188  \n",
            "max    2.049609e+00  3.200414e+00  2.516277e+00   5.477509  \n"
          ]
        }
      ]
    },
    {
      "cell_type": "markdown",
      "source": [
        "## Best Subset Algorithm for dim(x)= p:\n",
        "\n",
        "1. Produce all $2^p$ subsets. For p=8, we expect 256 subsets. This can be done dynamically by looping using itertools.combinations()\n",
        "\n",
        "2. Train a linear model on each subset; we will use sklearn-provided linear_model - no need to reinvent the wheel.\n",
        "\n",
        "3. Store residual sum of square in a default_dict with key= subset_size and value as list. We do that so that it will be easy to get minimum RSS for that subset_size. This step and step 2 can be combined into one function train_and_evaluate_model().\n",
        "\n",
        "4. Report the results and also plot RSS versus subset_size."
      ],
      "metadata": {
        "id": "FxV9KI-o2MVW"
      }
    },
    {
      "cell_type": "code",
      "source": [
        "def train_and_evaluate_model(X,y):\n",
        "  \"\"\"\n",
        "  Fit linear regression model and return RSS. \n",
        "  \"\"\"\n",
        "  model = linear_model.LinearRegression(fit_intercept = True)\n",
        "  model.fit(X,y)\n",
        "  RSS = mean_squared_error(y, model.predict(X)) * len(y)\n",
        "  return RSS\n",
        "\n",
        "\n",
        "def do_best_subset_selection(df, target):\n",
        "  results = []\n",
        "  y = df[target]\n",
        "  X = df.drop(target, axis=1)\n",
        "  # for k=0, the empty set, we predict the mean\n",
        "  predicted_y = np.mean(y.values)\n",
        "  results.append([ (np.sum(np.square(y.values-predicted_y)),('None',) ) ])\n",
        "  for subset_size in range(1, len(X.columns)+1,1):\n",
        "    temp_results=[]\n",
        "    for subset in itertools.combinations(X.columns, subset_size):\n",
        "      RSS = train_and_evaluate_model(X[list(subset)],y)\n",
        "      temp_results.append( (RSS, subset) )\n",
        "    results.append(temp_results)\n",
        "  return results \n",
        "\n",
        "#-----------------\n",
        "results = do_best_subset_selection(train, TARGET)\n"
      ],
      "metadata": {
        "id": "p8uVCfEd16SW"
      },
      "execution_count": 5,
      "outputs": []
    },
    {
      "cell_type": "code",
      "source": [
        "def separate_RSS_and_features(results):\n",
        "  RSS = []\n",
        "  features_list=[]\n",
        "  for k in range(len(results)):\n",
        "    temp_rss=[]\n",
        "    temp_features_list=[]\n",
        "    for r,features in results[k]:\n",
        "      temp_rss.append(r)\n",
        "      temp_features_list.append(features)\n",
        "\n",
        "    RSS.append(np.array(temp_rss))\n",
        "    features_list.append(temp_features_list)\n",
        "\n",
        "  return RSS, features_list\n",
        "\n",
        "def get_best_features_for_each_k(results):\n",
        "  RSS, features_list = separate_RSS_and_features(results)\n",
        "  best_features = []\n",
        "  for i,rs in enumerate(RSS):\n",
        "    rmin = np.min(rs)\n",
        "    idx =  np.where(rs == rmin)[0]\n",
        "    feature_tuple_for_this_k = features_list[i]\n",
        "    best_features.append( feature_tuple_for_this_k[int(idx)] )\n",
        "  best_features_for_each_k = dict()\n",
        "  for i in range(len(best_features)):\n",
        "    best_features_for_each_k[i] = best_features[i]\n",
        "  return best_features_for_each_k\n",
        "  \n",
        "def process_results(results, verbose=0): \n",
        "  RSS, features_list = separate_RSS_and_features(results)\n",
        "  best_features_for_each_k = get_best_features_for_each_k(results)\n",
        "  if verbose != 0:\n",
        "    for k,f in best_features_for_each_k.items():\n",
        "      print(f\"for k = {k}, best features are {f}\")\n",
        "  return RSS, features_list, best_features_for_each_k\n",
        "\n",
        "_, _, _ = process_results(results, verbose=1)"
      ],
      "metadata": {
        "colab": {
          "base_uri": "https://localhost:8080/"
        },
        "id": "WX3z1tuQCpO8",
        "outputId": "7cae83a6-61e8-4dd6-b5b2-50437047a523"
      },
      "execution_count": 6,
      "outputs": [
        {
          "output_type": "stream",
          "name": "stdout",
          "text": [
            "for k = 0, best features are ('None',)\n",
            "for k = 1, best features are ('lcavol',)\n",
            "for k = 2, best features are ('lcavol', 'lweight')\n",
            "for k = 3, best features are ('lcavol', 'lweight', 'svi')\n",
            "for k = 4, best features are ('lcavol', 'lweight', 'lbph', 'svi')\n",
            "for k = 5, best features are ('lcavol', 'lweight', 'lbph', 'svi', 'pgg45')\n",
            "for k = 6, best features are ('lcavol', 'lweight', 'lbph', 'svi', 'lcp', 'pgg45')\n",
            "for k = 7, best features are ('lcavol', 'lweight', 'age', 'lbph', 'svi', 'lcp', 'pgg45')\n",
            "for k = 8, best features are ('lcavol', 'lweight', 'age', 'lbph', 'svi', 'lcp', 'gleason', 'pgg45')\n"
          ]
        }
      ]
    },
    {
      "cell_type": "code",
      "source": [
        "def plot_results(results):\n",
        "  RSS, features_list = separate_RSS_and_features(results)\n",
        "  RSS_mins = [np.min(x) for x in RSS]\n",
        "  x1 = []\n",
        "  y1 = []\n",
        "  for i,dat in enumerate(RSS):\n",
        "    L = len(dat)\n",
        "    for k in range(L):\n",
        "      x1.append(i)\n",
        "    for r in dat:\n",
        "      y1.append(r)\n",
        "  x1 = np.array(x1)\n",
        "  y1 = np.array(y1)\n",
        "\n",
        "  x2 = np.array(range(len(RSS_mins)))\n",
        "  y2 = RSS_mins\n",
        "  \n",
        "  fig, ax = plt.subplots(1,1, figsize = (12,6))\n",
        "  ax.scatter(x1, y1, alpha = .5,  facecolors='none', edgecolors='k', label='All Subsets')\n",
        "  ax.set_xlabel('Subset Size k')\n",
        "  ax.set_ylabel('Residual Sum-of-Squares')\n",
        "  ax.set_title('Best Subset Selection Using RSS')\n",
        "\n",
        "  ax.plot(x2, y2, color = 'r', label = 'Best Subset')\n",
        "  ax.legend()\n",
        "  plt.grid(True)\n",
        "\n",
        "#--------------\n",
        "plot_results(results)"
      ],
      "metadata": {
        "colab": {
          "base_uri": "https://localhost:8080/",
          "height": 404
        },
        "id": "O41IqZb2BAkJ",
        "outputId": "6c7dcc11-0706-4bf2-b836-8f554d7e9fca"
      },
      "execution_count": 7,
      "outputs": [
        {
          "output_type": "display_data",
          "data": {
            "text/plain": [
              "<Figure size 864x432 with 1 Axes>"
            ],
            "image/png": "[encoded data removed]"
          },
          "metadata": {
            "needs_background": "light"
          }
        }
      ]
    },
    {
      "cell_type": "markdown",
      "source": [
        "#^^ In the above, the error measure to distinguish various subsets was evaluated ON THE SAME DATA THAT WAS USED TO FIT THE LINEAR MODEL. That underestimates the generalization error. \n",
        "\n",
        "An appropriate way to handle this situation will be to split the training data into two parts: one to fit the data and the other to evaluate the fitted model. This is best done by Cross Validation and/or Bootstrap. I will tackle them in another notebook. "
      ],
      "metadata": {
        "id": "bk3RTBKD7_ED"
      }
    },
    {
      "cell_type": "markdown",
      "source": [
        "#Forward-Stepwise Selection\n",
        "\n",
        "The drawback of Subset Selection method given above is that you need to run model on all $2^p$ subsets. When $p$ becomes large, the number of subsets grows rapidly and soon the computation becomes infeasible. A greedy algorithm that starts with no features and adds one feature by selecting which unused feature improves the performance most. For instant, if we have added $k$ features and there remain $p-k$ features. You add one feature at a time from the remaining $p-k$ features to make $p-k$ sets of size $k+1$ and then you keep the best among them. This recursion will stop when all $p$ features have been explored."
      ],
      "metadata": {
        "id": "cKuvvv76TPXX"
      }
    },
    {
      "cell_type": "code",
      "source": [
        "def do_forward_stepwise_selection(df, target):\n",
        "  results = []\n",
        "  y = df[target]\n",
        "  X = df.drop(target, axis=1)\n",
        "  # for k=0, the empty set, we predict the mean\n",
        "  predicted_y = np.mean(y.values)\n",
        "  RSS_none = np.sum(np.square(y.values-predicted_y))\n",
        "  features_done=('None',)\n",
        "  results.append( (RSS_none, tuple(features_done)) )\n",
        "  features_done = []\n",
        "  features_to_explore = list(X.columns) #OK\n",
        "\n",
        "  while len(features_to_explore) != 0:\n",
        "\n",
        "    temp_results = []\n",
        "    temp_features = []\n",
        "    for idx in range(len(features_to_explore)):\n",
        "      new_feature_to_try = np.random.choice(features_to_explore)\n",
        "      if features_done is not None:\n",
        "        features_trying = features_done + [new_feature_to_try]\n",
        "      else:\n",
        "        features_trying = [new_feature_to_try]\n",
        "      RSS = train_and_evaluate_model(X[list(features_trying)],y)\n",
        " \n",
        "      temp_results.append(RSS)\n",
        "      temp_features.append(new_feature_to_try)\n",
        "    \n",
        "    min_RSS = min(temp_results)\n",
        "    min_index = temp_results.index(min_RSS)\n",
        "    feature_to_add = temp_features[min_index]\n",
        "\n",
        "    features_to_explore.remove(feature_to_add)\n",
        "    if features_done is not None:\n",
        "      features_done = features_done + [feature_to_add]\n",
        "    else:\n",
        "      features_done = [feature_to_add]\n",
        " \n",
        "    results_package = (min_RSS, tuple(features_done))   \n",
        "    results.append(results_package) \n",
        "\n",
        "  return results\n",
        "\n",
        "def process_results_forward_stepwise(results, verbose=1):\n",
        "  \"\"\"\n",
        "  Set verbose = 0 to stop printout.\n",
        "  \"\"\"\n",
        "  RSS_list=[]\n",
        "  features_list=[]\n",
        "  for item in results:\n",
        "    RSS_list.append(item[0])\n",
        "    features_list.append(item[1])\n",
        "\n",
        "  if verbose!=0:\n",
        "    for k,features in enumerate(features_list):\n",
        "      print(f\"for k = {k}, the best features by forward procedure are {features}\")\n",
        "  \n",
        "  return RSS_list, features_list\n",
        " \n",
        "\n",
        "#------------------\n",
        "if False:\n",
        "  %timeit results = do_best_subset_selection(train, TARGET)\n",
        "  %timeit results = do_forward_stepwise_selection(train, TARGET)\n",
        "\n",
        "print(\"Best Subset Selection Algorithm Results:\")\n",
        "results = do_best_subset_selection(train, TARGET)\n",
        "_, _, _ = process_results(results, verbose=1)\n",
        "print(\"\\nForward-Stepwise Selection Algorithm Results:\")\n",
        "results = do_forward_stepwise_selection(train, TARGET)\n",
        "_, _ = process_results_forward_stepwise(results)\n",
        " "
      ],
      "metadata": {
        "colab": {
          "base_uri": "https://localhost:8080/"
        },
        "id": "1WTXIGiyUfWT",
        "outputId": "9627c071-62c4-4df3-f86c-65dbaef4faa3"
      },
      "execution_count": 8,
      "outputs": [
        {
          "output_type": "stream",
          "name": "stdout",
          "text": [
            "Best Subset Selection Algorithm Results:\n",
            "for k = 0, best features are ('None',)\n",
            "for k = 1, best features are ('lcavol',)\n",
            "for k = 2, best features are ('lcavol', 'lweight')\n",
            "for k = 3, best features are ('lcavol', 'lweight', 'svi')\n",
            "for k = 4, best features are ('lcavol', 'lweight', 'lbph', 'svi')\n",
            "for k = 5, best features are ('lcavol', 'lweight', 'lbph', 'svi', 'pgg45')\n",
            "for k = 6, best features are ('lcavol', 'lweight', 'lbph', 'svi', 'lcp', 'pgg45')\n",
            "for k = 7, best features are ('lcavol', 'lweight', 'age', 'lbph', 'svi', 'lcp', 'pgg45')\n",
            "for k = 8, best features are ('lcavol', 'lweight', 'age', 'lbph', 'svi', 'lcp', 'gleason', 'pgg45')\n",
            "\n",
            "Forward-Stepwise Selection Algorithm Results:\n",
            "for k = 0, the best features by forward procedure are ('None',)\n",
            "for k = 1, the best features by forward procedure are ('lcavol',)\n",
            "for k = 2, the best features by forward procedure are ('lcavol', 'lbph')\n",
            "for k = 3, the best features by forward procedure are ('lcavol', 'lbph', 'pgg45')\n",
            "for k = 4, the best features by forward procedure are ('lcavol', 'lbph', 'pgg45', 'svi')\n",
            "for k = 5, the best features by forward procedure are ('lcavol', 'lbph', 'pgg45', 'svi', 'lweight')\n",
            "for k = 6, the best features by forward procedure are ('lcavol', 'lbph', 'pgg45', 'svi', 'lweight', 'age')\n",
            "for k = 7, the best features by forward procedure are ('lcavol', 'lbph', 'pgg45', 'svi', 'lweight', 'age', 'lcp')\n",
            "for k = 8, the best features by forward procedure are ('lcavol', 'lbph', 'pgg45', 'svi', 'lweight', 'age', 'lcp', 'gleason')\n"
          ]
        }
      ]
    },
    {
      "cell_type": "markdown",
      "source": [
        "## Forward-Stepwise has a randomness due to randomly picking from the remaining variables. We can run this routine several times and maybe do a plurality voting for each k from different runs to choose the most likely first, second, third, etc. I am not going to do this additional experiment."
      ],
      "metadata": {
        "id": "sRVQ0jYBkuHt"
      }
    }
  ]
}