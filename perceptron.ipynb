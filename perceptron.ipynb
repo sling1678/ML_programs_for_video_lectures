{
  "nbformat": 4,
  "nbformat_minor": 0,
  "metadata": {
    "colab": {
      "provenance": [],
      "authorship_tag": "ABX9TyOFMmM/fnDAO3E8ytk/Fa3J",
      "include_colab_link": true
    },
    "kernelspec": {
      "name": "python3",
      "display_name": "Python 3"
    },
    "language_info": {
      "name": "python"
    }
  },
  "cells": [
    {
      "cell_type": "markdown",
      "metadata": {
        "id": "view-in-github",
        "colab_type": "text"
      },
      "source": [
        "<a href=\"https://colab.research.google.com/github/sling1678/ML_programs_for_video_lectures/blob/main/perceptron.ipynb\" target=\"_parent\"><img src=\"https://colab.research.google.com/assets/colab-badge.svg\" alt=\"Open In Colab\"/></a>"
      ]
    },
    {
      "cell_type": "code",
      "source": [
        "#IMPORTS\n",
        "import sys\n",
        "import numpy as np\n",
        "import matplotlib.pyplot as plt"
      ],
      "metadata": {
        "id": "WHVkCvELJATE"
      },
      "execution_count": 1,
      "outputs": []
    },
    {
      "cell_type": "code",
      "execution_count": 2,
      "metadata": {
        "colab": {
          "base_uri": "https://localhost:8080/",
          "height": 471
        },
        "id": "WVRjEiK4IrYy",
        "outputId": "2f8e99d5-1acb-4b17-aa29-eabe277d9774"
      },
      "outputs": [
        {
          "output_type": "stream",
          "name": "stdout",
          "text": [
            "Done by iteration = 12\n",
            "converged = True, coefficients = [10.02949171 -3.9161664  -0.93420463]\n"
          ]
        },
        {
          "output_type": "display_data",
          "data": {
            "text/plain": [
              "<Figure size 640x480 with 1 Axes>"
            ],
            "image/png": "[encoded data removed]"
          },
          "metadata": {}
        }
      ],
      "source": [
        "# PERCEPTRON IN ONE PANEL\n",
        "def initialize_w(sz):\n",
        "    return 0.1 * np.random.random(sz)\n",
        "\n",
        "def pla_update(X,y,w):\n",
        "    \n",
        "    \"\"\"\n",
        "    Helper function to implement w(t+1) = w(t) + y_i * x_i for misclassified data (x_i,y_i)\n",
        "    in one complete episode of all data points in the dataset.\n",
        "    Inputs:\n",
        "    X is Nxp Numpy ndarray and y is Nx1 Numpy array.\n",
        "    y has values in {-1, 1}.\n",
        "    Returns:\n",
        "    w \n",
        "    found_separating_line:bool\n",
        "    \"\"\"\n",
        "    X0_column = np.expand_dims(np.ones(X.shape[0]), axis=1)\n",
        "    Xe = np.concatenate((X0_column, X), axis=1) #OK, introduces x0 column\n",
        "    found_separating_line = True\n",
        "    for idx in range(len(Xe)):\n",
        "        h = np.dot(w, Xe[idx])\n",
        "        if np.sign(h) != y[idx]:\n",
        "            # update w\n",
        "            w = w + y[idx] * Xe[idx]\n",
        "            found_separating_line = False # since updated in this cycle through the data\n",
        "    return w, found_separating_line\n",
        "\n",
        "def pla(X,y, max_iter = 1000):\n",
        "    \"\"\"\n",
        "    Implements perceptron learning algorithm.\n",
        "    X is Nxp Numpy ndarray and y is Nx1 Numpy array.\n",
        "    y has values in {-1, 1}.\n",
        "    \"\"\"\n",
        "    w = initialize_w(X.shape[1] + 1) # plus 1 for the intercept, i.e., coeff o x0\n",
        "    found_separating_line = False\n",
        "    iteration = 0\n",
        "    while iteration < max_iter + 1: # last one is a check\n",
        "        iteration += 1\n",
        "        w, found_separating_line = pla_update(X, y, w) # one pass through all data points\n",
        "        if found_separating_line:\n",
        "            print(f\"Done by iteration = {iteration}\")\n",
        "            break\n",
        "    return w, found_separating_line       \n",
        "\n",
        "def plot_pla_2d(X,y,w, x_cols, savefig_filename=None):\n",
        "\n",
        "    a, b = x_cols\n",
        "    x1 = X[:, a]\n",
        "    x2 = X[:, b]\n",
        "\n",
        "    w0, w1, w2 = w[0], w[a+1], w[b+1]\n",
        "    x3 = -(w1/w2) * x1 - w0/w2 #OK\n",
        "\n",
        "    fig, ax = plt.subplots(1,1)\n",
        "    colors = [\"red\" if a==1 else \"green\" for a in y]\n",
        "    ax.scatter(x1,x2, c=colors, marker=\"o\")\n",
        "    ax.plot(x1,x3, lw=3)\n",
        "    ax.set_xlim((np.min(x1)- 0.5, np.max(x1)+0.5))\n",
        "    ax.set_ylim((np.min(x2)-0.5,np.max(x2)+0.5))\n",
        "    if savefig_filename is not None:\n",
        "        plt.savefig(savefig_filename)\n",
        "    plt.show()\n",
        "\n",
        "def get_data():\n",
        "    # training data\n",
        "    X = np.array([\n",
        "        [1,1], [2,1], [3,1], [1,2], [2,3], [3,3]\n",
        "    ])\n",
        "    y = np.array([[1],[1],[-1],[1],[-1],[-1]])\n",
        "    return X, y\n",
        "def main(cli=False):\n",
        "    if cli:\n",
        "      #print(sys.argv)\n",
        "      if len(sys.argv) > 1:\n",
        "          max_iter = int(sys.argv[1])\n",
        "      else:\n",
        "          max_iter = 1000\n",
        "    else:\n",
        "      max_iter = 1000\n",
        "  \n",
        "    X, y = get_data()\n",
        "    w, has_converged = pla(X,y, max_iter)\n",
        "    print(f\"converged = {has_converged}, coefficients = {w}\")\n",
        "    if has_converged:\n",
        "        plot_pla_2d(X,y,w, (0,1), \"pla.png\")\n",
        "main()"
      ]
    }
  ]
}